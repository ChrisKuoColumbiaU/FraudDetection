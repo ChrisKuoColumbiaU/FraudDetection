{
 "cells": [
  {
   "cell_type": "code",
   "execution_count": 37,
   "metadata": {
    "collapsed": true
   },
   "outputs": [],
   "source": [
    "# from IPython.display import display, Math, Latex"
   ]
  },
  {
   "cell_type": "markdown",
   "metadata": {},
   "source": [
    "<script type=\"text/javascript\" async\n",
    "  src=\"https://cdnjs.cloudflare.com/ajax/libs/mathjax/2.7.2/MathJax.js?config=TeX-MML-AM_CHTML\">\n",
    "</script>"
   ]
  },
  {
   "cell_type": "markdown",
   "metadata": {},
   "source": [
    "Unsupervised machine learning for unlabelled data have gained much interest by the machine learning community (Markou & Singh, 2003; Chandola et al., 2009, Blanchard et al., 2010; Saligrama & Zhao, 2012; Kloft & Laskov, 2012; Gornitz et al. ¨ , 2014). Wide applications have been developed. For example, the detection of unsignatured attacks and novel intrusions in computer networks (Jyothsna et al.,2011), the systematic anomalies in microarray analysis in computational biology (Noto et al., 2014) and deep sequencing data (Kukita et al., 2013).\n",
    "\n",
    "Unsupervised machine learning is a type of machine learning algorithm to draw inferences from datasets consisting of input data without labelled responses. Different from supervised learning, unsupervised learning algorithms deal with data that have no explicit labelled responses or target outputs. It may seem somewhat mysterious to imagine what the machine could possibly learn because there is no feedback from its environment. However, it is possible to develop a formal framework based on the notion that the machine’s goal is to find the relationships among the data, or build representations of the input data. In other words, unsupervised learning can be thought of as finding patterns in the data for decision-making or predicting future inputs.\n",
    "\n",
    "In this chapter we will study the following techniques in detecting outliers. The simpliest way to detect outliers is to work on each feature separately - an univariate approach. Z-sore and Median absolute deviation (MAD) are the two most common techniques.\n",
    "\n",
    "* Z-score\n",
    "* Median absolute deviation (MAD)\n",
    "* One-class Support Vector Machine (One-class SVM)\n",
    "* Hidden markov model (HMM) \n",
    "* Gaussian Mixture Model (GMM)\n",
    "* Density-based spatial clustering of applications with noise (DBSCAN)\n",
    "* MeanShift \n",
    "* Hierarchical clustering\n",
    "* Self-organizing maps (SOM)\n",
    "\n",
    "##### Z-score\n",
    "\n",
    "The Z-score of a univariate series $X$ is the number of standard deviations between a value and the mean. This method is designed for features that follow a normal distribution.  Assume $\\mu$ is the $mean$ and $\\delta$ is the standard deviation of $X$, the z-score is defined as: \n",
    "\n",
    "$$ z-score(x_i) = \\frac{|x_i-\\mu|}{\\delta}. $$\n",
    "\n",
    "The critical Z score values when using a 95% confidence level are -1.96 and +1.96 standard deviations, It means one must go 1.96 standard deviations from the mean in both directions to contain 0.95 of the scores. The two functions code zscore_outliers and zscore_outliers2 below return the outliers of the series $X$. "
   ]
  },
  {
   "cell_type": "code",
   "execution_count": 27,
   "metadata": {},
   "outputs": [
    {
     "name": "stdout",
     "output_type": "stream",
     "text": [
      "[22 77]\n",
      "[22 77]\n"
     ]
    }
   ],
   "source": [
    "import numpy as np\n",
    "\n",
    "def zscore_outliers(X, k=1.96):\n",
    "    return X[abs(X - np.mean(X)) > k * np.std(X)]\n",
    "\n",
    "def zscore_outliers2(X, k = 1.96):\n",
    "    d = np.abs(X - np.mean(X))\n",
    "    mdev = np.mean(d)\n",
    "    s = d/(mdev if mdev else 1.)\n",
    "    return X[s>k]\n",
    "\n",
    "X = np.array([50,52,51,53,22,51,52,55,52,77])\n",
    "print(zscore_outliers(X))\n",
    "print(zscore_outliers2(X))"
   ]
  },
  {
   "cell_type": "markdown",
   "metadata": {},
   "source": [
    "##### Median absolute deviation (MAD)\n",
    "\n",
    "The median absolute deviation describes the median of the distance between each data point $x_i$ and the median of the series $X$. \n",
    "\n",
    "$$ MAD(X) = median ( x_i - median(X) ) $$\n",
    "\n",
    "We then use MAD to compute a score $S(x_i)$ showing how different a value is from the others. $S(x_i)$ measures the number of MAD between the median of the series $X$ and the value $x_i$.\n",
    "\n",
    "$$ S(x_i) = \\frac{\\ x_i -median(X)}{MAD(X)} $$\n",
    "\n",
    "Below is a function returning the leftmost and rightmost points that have MAD-denominated distances from centre. Value 77 is 25 times the MAD to the right, and Value 22 is 30 times the MAD to the left of the centre. The MAD clearly differentiates the outliers from the remaining points."
   ]
  },
  {
   "cell_type": "code",
   "execution_count": 23,
   "metadata": {},
   "outputs": [
    {
     "name": "stdout",
     "output_type": "stream",
     "text": [
      "[ -2.   0.  -1.   1. -30.  -1.   0.   3.   0.  25.]\n",
      "[22 77]\n"
     ]
    }
   ],
   "source": [
    "import numpy as np\n",
    "\n",
    "def MAD_score(X):\n",
    "    MAD = np.median(abs(X - np.median(X)))\n",
    "    MAD_score = (X - np.median(X)) /MAD\n",
    "    print(MAD_score)\n",
    "    return X[np.isin(MAD_score, [np.min(MAD_score), np.max(MAD_score) ] )] \n",
    "\n",
    "X = np.array([50,52,51,53,22,51,52,55,52,77])\n",
    "print(MAD_score(X))"
   ]
  },
  {
   "cell_type": "markdown",
   "metadata": {
    "collapsed": true
   },
   "source": [
    "###### One-class SVM\n",
    "\n",
    "Suppose you know what the \"normal\" data look like and you want to know if the new data is similar to the \"normal\" data, then one-class SVM will do the job. The application is wide in many industries. In medical applications, for example, a doctor may know what healthy (normal) cases look like and want to distinguish the \"abnormal\" cases from the \"normal\" cases.\n",
    "\n",
    "The one class support vector machine was introduced independently by Tax and Duin and Scholkopf et al. as an extension of the support vector machine algorithm. It has gained much popularity in unsupervised learning for high-dimensional data. The one-class SVM first trains the model with normal data. When new data come, the model looks at the relative positions to the \"normal\" data to determine whether it is \"out of class\" or not. One-class SVMs will label a normal data point as '1' and the outlier point as -1.\n",
    "\n",
    "We will explain the SVM first.\n",
    "\n",
    "[This video clip](https://www.youtube.com/watch?v=3liCbRZPrZA) does a nice job in visualizing the concept. The blue and red dots (image below) are not linearly separably in the bottom 2D plane. But using a polinomial kernel function they can be linearly separated in a 3D space. A kernel function transforms the original data to map into a new space. Thus SVMs can lift the data to a space with a higher dimension where a linear decision boundry can separate classes.\n",
    "\n",
    "<img src=\"images/SVM.png\" alt=\"Drawing\" style=\"width: 400px;\"/>\n",
    "\n",
    "The figure below shows two hyperplanes that can separate both classes which assumed having only two features. In theory there will be many hyperplanes that can separate the two classes. Which hyperplane is the best solution? The best choice will be the hyperplane that leaves the maximum margin from both classes. We can see the green margin is bigger than the red margin, therefore the green hyperplane is the best solution in this case. \n",
    "\n",
    "<img src=\"images/SVM boundry.png\" alt=\"Drawing\" style=\"width: 400px;\"/>"
   ]
  },
  {
   "cell_type": "markdown",
   "metadata": {},
   "source": [
    "In the following example we first generate 200 points with 5 features as X_train. We also generate data that are far from the norm. "
   ]
  },
  {
   "cell_type": "code",
   "execution_count": 34,
   "metadata": {
    "collapsed": true
   },
   "outputs": [],
   "source": [
    "import numpy as np\n",
    "from sklearn import svm\n",
    "\n",
    "# Generate 5 features with 200 data points\n",
    "X_train = 0.3 * np.random.randn(30, 5)*3 + 5\n",
    "X_maybe_outliers = 0.3 * np.random.randn(10,5)*3 + 8"
   ]
  },
  {
   "cell_type": "markdown",
   "metadata": {},
   "source": [
    "We train the model by svm.OneClassSVM:  "
   ]
  },
  {
   "cell_type": "code",
   "execution_count": 35,
   "metadata": {},
   "outputs": [
    {
     "data": {
      "text/plain": [
       "OneClassSVM(cache_size=200, coef0=0.0, degree=3, gamma=0.1, kernel='rbf',\n",
       "      max_iter=-1, nu=0.1, random_state=None, shrinking=True, tol=0.001,\n",
       "      verbose=False)"
      ]
     },
     "execution_count": 35,
     "metadata": {},
     "output_type": "execute_result"
    }
   ],
   "source": [
    "# Train the model with the normal data\n",
    "clf_rbf = svm.OneClassSVM(nu=0.1, kernel=\"rbf\", gamma=0.1)\n",
    "clf.fit(X_train)"
   ]
  },
  {
   "cell_type": "markdown",
   "metadata": {},
   "source": [
    "OneClassSVM accepts a few hyperparameters but the most important are nu and kernel; and for the rbf kernel, gamma.\n",
    "\n",
    "* nu: is the highest percentage of outliers that are expected in the data. Many unsupervised algorithms require you to know or guess the number of outliers. It is a value between 0 and 1. In this example we assume 10%.\n",
    "\n",
    "\n",
    "* kernel: a kernel function transforms the original data to map into a new space. The default is a non-linear function rgf (radial basis function). The kernel functions can be one of the following: linear, polynomial, rbf, sigmoid:\n",
    "\n",
    "   * linear: $\\langle x, x'\\rangle.$\n",
    "   * polynomial: $(\\gamma \\langle x, x'\\rangle + r)^d.$ d is specified by keyword degree, r by coef0.\n",
    "   * rbf: $\\exp(-\\gamma \\|x-x'\\|^2).$ $\\gamma$ is specified by keyword gamma, must be greater than 0.\n",
    "   * sigmoid ($\\tanh(\\gamma \\langle x,x'\\rangle + r))$ , where r is specified by coef0.\n",
    "\n",
    "\n",
    "* gamma: is only for the rbf kernel. It controls the influence of individual training samples. A low value means the influence of individual points is relatively small, and a high value will result in tight fitting. Some tunning is needed to find the best value."
   ]
  },
  {
   "cell_type": "markdown",
   "metadata": {},
   "source": [
    "The one-class SVM algorithm results in 1 for the normal data and -1 for the outliers and 1. Although the training dataset X is considered normal, it still identifies 5 \"outliers\" away from the main data body. "
   ]
  },
  {
   "cell_type": "code",
   "execution_count": 38,
   "metadata": {},
   "outputs": [
    {
     "data": {
      "text/plain": [
       "array([ 1,  1, -1, -1,  1,  1,  1,  1,  1,  1, -1,  1,  1,  1, -1, -1,  1,\n",
       "        1,  1,  1, -1,  1,  1,  1,  1,  1,  1,  1,  1,  1])"
      ]
     },
     "execution_count": 38,
     "metadata": {},
     "output_type": "execute_result"
    }
   ],
   "source": [
    "y_pred_train = clf.predict(X_train)\n",
    "y_pred_train"
   ]
  },
  {
   "cell_type": "markdown",
   "metadata": {},
   "source": [
    "We also see the stregnth of one-class SVM as a unsupervised technique -- it does not require labelled target points for training. The count statistic is shown below:"
   ]
  },
  {
   "cell_type": "code",
   "execution_count": 33,
   "metadata": {},
   "outputs": [
    {
     "data": {
      "text/plain": [
       "{-1: 5, 1: 25}"
      ]
     },
     "execution_count": 33,
     "metadata": {},
     "output_type": "execute_result"
    }
   ],
   "source": [
    "unique, counts = np.unique(y_pred_train, return_counts=True)\n",
    "dict(zip(unique,counts))"
   ]
  },
  {
   "cell_type": "markdown",
   "metadata": {},
   "source": [
    "Now we can use our trained model to detect the new dataset X_outliers which we purposely make them far away from the norm. We expect all the 30 data points will be labelled as outliers. The count statistic below confirms there are 30 outliers identified."
   ]
  },
  {
   "cell_type": "code",
   "execution_count": 29,
   "metadata": {},
   "outputs": [
    {
     "data": {
      "text/plain": [
       "{-1: 30}"
      ]
     },
     "execution_count": 29,
     "metadata": {},
     "output_type": "execute_result"
    }
   ],
   "source": [
    "y_pred_outliers = clf.predict(X_outliers)\n",
    "unique, counts = np.unique(y_pred_outliers, return_counts=True)\n",
    "dict(zip(unique,counts))"
   ]
  },
  {
   "cell_type": "markdown",
   "metadata": {},
   "source": [
    "###### Hidden markov model (HMM)\n",
    "\n",
    "HMMs are a statistical model introduced by Baum et al.[9]. \n",
    "\n",
    "In our daily life we often see data is in the form of sequences or time series. For example, in medical examiniation the Electrocardiogram (ECG) recordings of the patient is a time series. If we detect anomalies in the time series, we understand there is a problem to the heart's condition. The figure below shows the ECG data of a patient. The red denotes an anomaly because the same low value exists for an abnormally long time (corresponding to an Atrial Premature Contraction). \n",
    "\n",
    "<img src=\"images/HMM.png\" alt=\"Drawing\" style=\"width: 400px;\"/>\n",
    "\n",
    "It may be very challenging to detect anomalies in a time series. The biggest challenge is we don't know the exact of length of the subsequence. An event within a time series may be anomalous; a subsequence within a time series may be anomalous; or an entire time series may be anomalous with respect to a set of normal time series. Therefore the performance is subject to very noisy data. \n",
    "\n",
    "The HMM assumes that a given time series $ X (x_1, x_2, ..., x_n)$ is the indirect observation of an underlying (hidden) time series $ Z (z_1, z_2, ..., z_n) $. It is assumed that the process creating the hidden time series is Markovian, even though the observed process creating the original time series may not be so. The figure below shows the hidden state $x_1$ to $x_3$ are the hidden states that follows a markov process with the state transition probabilities $a_{12}$ to $a_{13}$. And $y_1$ to $y_4$ are the possible observations that come from the hidden states with the output probabilities $b_{11}$ to $b_{34}$ (Figure source:  https://en.wikipedia.org/wiki/Hidden_Markov_model).\n",
    "\n",
    "<img src=\"images/HMM2.png\" alt=\"Drawing\" style=\"width: 400px;\"/>\n",
    " \n",
    "The *hidden markov models* and *mixture models* have similar algorithms. Although the two models have a close relationship, they are always discussed independently and separately. Here is one example. Consider that two people are cutting fishes on a boat. The first cuts a fraction $0<p<1$ of the fishes with an average length of $\\mu_1$ and a standard deviation of $\\sigma_1$. The second person cuts the rest $ 1−p$ of fishes with an average length of $\\mu_2$ and a standard deviation $\\sigma_2$. Assume the length follows a normal distribution. The mixture distribution of the avereage length is $p N (\\mu_1 , \\sigma_1) + p N (\\mu_2, \\sigma_2) $. If this is represented in a hidden Markov model terminology, the invisible state is the fish worker and the observable outcome is the fish length. The outcome is the sum of the two distributions from the two hidden states. Because there is a finite number of states, hidden markov models are also called *finite-state HMM*. Along the mixture models, they can be called *Dependent mixture models* or *Gaussian mixture models* for Gaussian distrubtion. \n",
    "\n",
    "A normal time series can\n",
    "be modeled using a HMM, while the anomalous time series cannot be. In most vases HMM models work very well in detecting sequecing data or time series. It is worth noting that, the model assumption that the hidden process follows a markovian process is its strength yet also the weakness. If the hidden process does not follow a markovian process, these techniques might fail to capture the anomalies.\n",
    "\n",
    "Most time series models (such as the ARMA models) assume the data is stationary, meaning the expected mean and variances do not change over the entire modeling period. This strong assumption is a major weakness of these models. Instead, let us approach the problem differently. We have observed that the expected means and variances are temporarily stable from period to period. These periods or *regime\" can be considered as the hidden states. In this case, all we need to do is to find the true hidden state(s).\n",
    "\n",
    "The hidden markov model is a kernel-based framework to detect outliers. This approach can be introduced in a general way for data with latent dependency structure, and, for a specific choice of loss function and jernel function, we obtain a hidden Markov. Similar to the one-class SVM, HMM has a parameter $\\nu$ that controls the fraction of the outliers.\n",
    " \n",
    "We will apply HMM on stock price time series. We use Python's module [learnhmm](http://hmmlearn.readthedocs.io/en/latest/tutorial.html). The following code will use \n",
    "The line web.DataReader('QQQ', \"yahoo\", start, end) uses the [pandas-datareader](https://pandas-datareader.readthedocs.io/en/latest/) package to download the stock \"QQQ\" data from yahoo."
   ]
  },
  {
   "cell_type": "code",
   "execution_count": 51,
   "metadata": {},
   "outputs": [
    {
     "data": {
      "text/html": [
       "<div>\n",
       "<style>\n",
       "    .dataframe thead tr:only-child th {\n",
       "        text-align: right;\n",
       "    }\n",
       "\n",
       "    .dataframe thead th {\n",
       "        text-align: left;\n",
       "    }\n",
       "\n",
       "    .dataframe tbody tr th {\n",
       "        vertical-align: top;\n",
       "    }\n",
       "</style>\n",
       "<table border=\"1\" class=\"dataframe\">\n",
       "  <thead>\n",
       "    <tr style=\"text-align: right;\">\n",
       "      <th></th>\n",
       "      <th>Open</th>\n",
       "      <th>High</th>\n",
       "      <th>Low</th>\n",
       "      <th>Close</th>\n",
       "      <th>Adj Close</th>\n",
       "      <th>Volume</th>\n",
       "    </tr>\n",
       "    <tr>\n",
       "      <th>Date</th>\n",
       "      <th></th>\n",
       "      <th></th>\n",
       "      <th></th>\n",
       "      <th></th>\n",
       "      <th></th>\n",
       "      <th></th>\n",
       "    </tr>\n",
       "  </thead>\n",
       "  <tbody>\n",
       "    <tr>\n",
       "      <th>2000-01-03</th>\n",
       "      <td>96.1875</td>\n",
       "      <td>96.1875</td>\n",
       "      <td>90.7500</td>\n",
       "      <td>94.75000</td>\n",
       "      <td>84.502769</td>\n",
       "      <td>36345200</td>\n",
       "    </tr>\n",
       "    <tr>\n",
       "      <th>2000-01-04</th>\n",
       "      <td>92.0000</td>\n",
       "      <td>93.5000</td>\n",
       "      <td>87.9375</td>\n",
       "      <td>88.25000</td>\n",
       "      <td>78.705734</td>\n",
       "      <td>33786600</td>\n",
       "    </tr>\n",
       "    <tr>\n",
       "      <th>2000-01-05</th>\n",
       "      <td>87.5000</td>\n",
       "      <td>89.6250</td>\n",
       "      <td>84.2500</td>\n",
       "      <td>86.00000</td>\n",
       "      <td>76.699066</td>\n",
       "      <td>42496600</td>\n",
       "    </tr>\n",
       "    <tr>\n",
       "      <th>2000-01-06</th>\n",
       "      <td>86.8750</td>\n",
       "      <td>88.0000</td>\n",
       "      <td>79.7500</td>\n",
       "      <td>80.09375</td>\n",
       "      <td>71.431610</td>\n",
       "      <td>37134800</td>\n",
       "    </tr>\n",
       "    <tr>\n",
       "      <th>2000-01-07</th>\n",
       "      <td>82.9375</td>\n",
       "      <td>90.0000</td>\n",
       "      <td>82.5000</td>\n",
       "      <td>90.00000</td>\n",
       "      <td>80.266464</td>\n",
       "      <td>28138200</td>\n",
       "    </tr>\n",
       "  </tbody>\n",
       "</table>\n",
       "</div>"
      ],
      "text/plain": [
       "               Open     High      Low     Close  Adj Close    Volume\n",
       "Date                                                                \n",
       "2000-01-03  96.1875  96.1875  90.7500  94.75000  84.502769  36345200\n",
       "2000-01-04  92.0000  93.5000  87.9375  88.25000  78.705734  33786600\n",
       "2000-01-05  87.5000  89.6250  84.2500  86.00000  76.699066  42496600\n",
       "2000-01-06  86.8750  88.0000  79.7500  80.09375  71.431610  37134800\n",
       "2000-01-07  82.9375  90.0000  82.5000  90.00000  80.266464  28138200"
      ]
     },
     "execution_count": 51,
     "metadata": {},
     "output_type": "execute_result"
    }
   ],
   "source": [
    "import datetime as dt\n",
    "import pandas as pd\n",
    "import numpy as np\n",
    "import pandas_datareader.data as web\n",
    "from hmmlearn.hmm import GaussianHMM\n",
    "\n",
    "start = dt.datetime(2000, 1, 1)\n",
    "end = dt.datetime(2016, 12, 31)\n",
    "df = web.DataReader(\"QQQ\",\"yahoo\", start, end)\n",
    "df.head(n=5)"
   ]
  },
  {
   "cell_type": "markdown",
   "metadata": {},
   "source": [
    "The daily return *rtn* is created by shifting one day and dividing by previous closing price. We will use both *Volume* and *rtn* in the model. Different inputs will result in different models. Readers are encouraged to test using \"Volume\" only or \"rtn\" only."
   ]
  },
  {
   "cell_type": "code",
   "execution_count": 56,
   "metadata": {},
   "outputs": [
    {
     "data": {
      "text/html": [
       "<div>\n",
       "<style>\n",
       "    .dataframe thead tr:only-child th {\n",
       "        text-align: right;\n",
       "    }\n",
       "\n",
       "    .dataframe thead th {\n",
       "        text-align: left;\n",
       "    }\n",
       "\n",
       "    .dataframe tbody tr th {\n",
       "        vertical-align: top;\n",
       "    }\n",
       "</style>\n",
       "<table border=\"1\" class=\"dataframe\">\n",
       "  <thead>\n",
       "    <tr style=\"text-align: right;\">\n",
       "      <th></th>\n",
       "      <th>Volume</th>\n",
       "      <th>rtn</th>\n",
       "    </tr>\n",
       "    <tr>\n",
       "      <th>Date</th>\n",
       "      <th></th>\n",
       "      <th></th>\n",
       "    </tr>\n",
       "  </thead>\n",
       "  <tbody>\n",
       "    <tr>\n",
       "      <th>2000-01-04</th>\n",
       "      <td>33786600</td>\n",
       "      <td>0.073654</td>\n",
       "    </tr>\n",
       "    <tr>\n",
       "      <th>2000-01-05</th>\n",
       "      <td>42496600</td>\n",
       "      <td>0.026163</td>\n",
       "    </tr>\n",
       "    <tr>\n",
       "      <th>2000-01-06</th>\n",
       "      <td>37134800</td>\n",
       "      <td>0.073742</td>\n",
       "    </tr>\n",
       "    <tr>\n",
       "      <th>2000-01-07</th>\n",
       "      <td>28138200</td>\n",
       "      <td>-0.110069</td>\n",
       "    </tr>\n",
       "    <tr>\n",
       "      <th>2000-01-10</th>\n",
       "      <td>29675600</td>\n",
       "      <td>-0.027027</td>\n",
       "    </tr>\n",
       "  </tbody>\n",
       "</table>\n",
       "</div>"
      ],
      "text/plain": [
       "              Volume       rtn\n",
       "Date                          \n",
       "2000-01-04  33786600  0.073654\n",
       "2000-01-05  42496600  0.026163\n",
       "2000-01-06  37134800  0.073742\n",
       "2000-01-07  28138200 -0.110069\n",
       "2000-01-10  29675600 -0.027027"
      ]
     },
     "execution_count": 56,
     "metadata": {},
     "output_type": "execute_result"
    }
   ],
   "source": [
    "# Create the daily return \n",
    "df['rtn'] = df['Close'].shift(1) / df['Close'] - 1\n",
    "\n",
    "# Keep both \"Volume\" and \"rtn\" for the model. \n",
    "# An NA record was created when we shift one record to create the return. Drop with 'dropna()'.\n",
    "df2 = df[['Volume','rtn']].dropna() \n",
    "df2.head(n=5)"
   ]
  },
  {
   "cell_type": "markdown",
   "metadata": {},
   "source": [
    "The function *GaussianHMM* assumes the observations generated from the hidden states follow a Gaussian normal distribtion, like the fish boat example given above. The major parameters in GaussianHMM are: the number of the hidden state, the covariance_type, and the number of iterations. In the example it is assumed there are two hidden states. The default for the covariance_type is \"diag\" for a diagonal covariance matrix. Other parameters include\n",
    "“spherical” — each state uses a single variance value that applies to all features; “diag” — each state uses a diagonal covariance matrix; “full” — each state uses a full (i.e. unrestricted) covariance matrix; and “tied” — all states use the same full covariance matrix.\n",
    "Defaults to “diag”."
   ]
  },
  {
   "cell_type": "code",
   "execution_count": 59,
   "metadata": {
    "collapsed": true
   },
   "outputs": [],
   "source": [
    "%%capture\n",
    "# n_components = the number of states.\n",
    "# covariance_type = the typeof covariance parameters. \n",
    "model = GaussianHMM(n_components=2, covariance_type=\"diag\", n_iter=1000).fit(df2)\n",
    "hidden_states = model.predict(df2)"
   ]
  },
  {
   "cell_type": "markdown",
   "metadata": {},
   "source": [
    "The model finds the hidden states. Below we convert the output to a DataFrame and show the top five records. "
   ]
  },
  {
   "cell_type": "code",
   "execution_count": 60,
   "metadata": {},
   "outputs": [
    {
     "data": {
      "text/html": [
       "<div>\n",
       "<style>\n",
       "    .dataframe thead tr:only-child th {\n",
       "        text-align: right;\n",
       "    }\n",
       "\n",
       "    .dataframe thead th {\n",
       "        text-align: left;\n",
       "    }\n",
       "\n",
       "    .dataframe tbody tr th {\n",
       "        vertical-align: top;\n",
       "    }\n",
       "</style>\n",
       "<table border=\"1\" class=\"dataframe\">\n",
       "  <thead>\n",
       "    <tr style=\"text-align: right;\">\n",
       "      <th></th>\n",
       "      <th>Hidden_state</th>\n",
       "    </tr>\n",
       "    <tr>\n",
       "      <th>Date</th>\n",
       "      <th></th>\n",
       "    </tr>\n",
       "  </thead>\n",
       "  <tbody>\n",
       "    <tr>\n",
       "      <th>2000-01-04</th>\n",
       "      <td>1</td>\n",
       "    </tr>\n",
       "    <tr>\n",
       "      <th>2000-01-05</th>\n",
       "      <td>1</td>\n",
       "    </tr>\n",
       "    <tr>\n",
       "      <th>2000-01-06</th>\n",
       "      <td>1</td>\n",
       "    </tr>\n",
       "    <tr>\n",
       "      <th>2000-01-07</th>\n",
       "      <td>1</td>\n",
       "    </tr>\n",
       "    <tr>\n",
       "      <th>2000-01-10</th>\n",
       "      <td>1</td>\n",
       "    </tr>\n",
       "  </tbody>\n",
       "</table>\n",
       "</div>"
      ],
      "text/plain": [
       "            Hidden_state\n",
       "Date                    \n",
       "2000-01-04             1\n",
       "2000-01-05             1\n",
       "2000-01-06             1\n",
       "2000-01-07             1\n",
       "2000-01-10             1"
      ]
     },
     "execution_count": 60,
     "metadata": {},
     "output_type": "execute_result"
    }
   ],
   "source": [
    "Y=pd.DataFrame(hidden_states,columns=['Hidden_state'],index=df2.index)\n",
    "Y.head(n=5)"
   ]
  },
  {
   "cell_type": "markdown",
   "metadata": {},
   "source": [
    "We join the daily closing price, volume and return to the hidden state by date. It is shown that the regime has changed from '1' to '0' on 2000/01/14. Therefore HMMs detect the regime change."
   ]
  },
  {
   "cell_type": "code",
   "execution_count": 55,
   "metadata": {},
   "outputs": [
    {
     "data": {
      "text/html": [
       "<div>\n",
       "<style>\n",
       "    .dataframe thead tr:only-child th {\n",
       "        text-align: right;\n",
       "    }\n",
       "\n",
       "    .dataframe thead th {\n",
       "        text-align: left;\n",
       "    }\n",
       "\n",
       "    .dataframe tbody tr th {\n",
       "        vertical-align: top;\n",
       "    }\n",
       "</style>\n",
       "<table border=\"1\" class=\"dataframe\">\n",
       "  <thead>\n",
       "    <tr style=\"text-align: right;\">\n",
       "      <th></th>\n",
       "      <th>Hidden_state</th>\n",
       "      <th>Close</th>\n",
       "      <th>Volume</th>\n",
       "      <th>rtn</th>\n",
       "    </tr>\n",
       "    <tr>\n",
       "      <th>Date</th>\n",
       "      <th></th>\n",
       "      <th></th>\n",
       "      <th></th>\n",
       "      <th></th>\n",
       "    </tr>\n",
       "  </thead>\n",
       "  <tbody>\n",
       "    <tr>\n",
       "      <th>2000-01-04</th>\n",
       "      <td>1</td>\n",
       "      <td>88.25000</td>\n",
       "      <td>33786600</td>\n",
       "      <td>0.073654</td>\n",
       "    </tr>\n",
       "    <tr>\n",
       "      <th>2000-01-05</th>\n",
       "      <td>1</td>\n",
       "      <td>86.00000</td>\n",
       "      <td>42496600</td>\n",
       "      <td>0.026163</td>\n",
       "    </tr>\n",
       "    <tr>\n",
       "      <th>2000-01-06</th>\n",
       "      <td>1</td>\n",
       "      <td>80.09375</td>\n",
       "      <td>37134800</td>\n",
       "      <td>0.073742</td>\n",
       "    </tr>\n",
       "    <tr>\n",
       "      <th>2000-01-07</th>\n",
       "      <td>1</td>\n",
       "      <td>90.00000</td>\n",
       "      <td>28138200</td>\n",
       "      <td>-0.110069</td>\n",
       "    </tr>\n",
       "    <tr>\n",
       "      <th>2000-01-10</th>\n",
       "      <td>1</td>\n",
       "      <td>92.50000</td>\n",
       "      <td>29675600</td>\n",
       "      <td>-0.027027</td>\n",
       "    </tr>\n",
       "    <tr>\n",
       "      <th>2000-01-11</th>\n",
       "      <td>1</td>\n",
       "      <td>88.00000</td>\n",
       "      <td>32546600</td>\n",
       "      <td>0.051136</td>\n",
       "    </tr>\n",
       "    <tr>\n",
       "      <th>2000-01-12</th>\n",
       "      <td>1</td>\n",
       "      <td>86.06250</td>\n",
       "      <td>29050000</td>\n",
       "      <td>0.022513</td>\n",
       "    </tr>\n",
       "    <tr>\n",
       "      <th>2000-01-13</th>\n",
       "      <td>1</td>\n",
       "      <td>91.25000</td>\n",
       "      <td>25165200</td>\n",
       "      <td>-0.056849</td>\n",
       "    </tr>\n",
       "    <tr>\n",
       "      <th>2000-01-14</th>\n",
       "      <td>0</td>\n",
       "      <td>93.37500</td>\n",
       "      <td>21898600</td>\n",
       "      <td>-0.022758</td>\n",
       "    </tr>\n",
       "    <tr>\n",
       "      <th>2000-01-18</th>\n",
       "      <td>0</td>\n",
       "      <td>93.87500</td>\n",
       "      <td>16752400</td>\n",
       "      <td>-0.005326</td>\n",
       "    </tr>\n",
       "    <tr>\n",
       "      <th>2000-01-19</th>\n",
       "      <td>0</td>\n",
       "      <td>96.00000</td>\n",
       "      <td>19006000</td>\n",
       "      <td>-0.022135</td>\n",
       "    </tr>\n",
       "    <tr>\n",
       "      <th>2000-01-20</th>\n",
       "      <td>0</td>\n",
       "      <td>95.06250</td>\n",
       "      <td>25958000</td>\n",
       "      <td>0.009862</td>\n",
       "    </tr>\n",
       "    <tr>\n",
       "      <th>2000-01-21</th>\n",
       "      <td>0</td>\n",
       "      <td>96.25000</td>\n",
       "      <td>18698200</td>\n",
       "      <td>-0.012338</td>\n",
       "    </tr>\n",
       "    <tr>\n",
       "      <th>2000-01-24</th>\n",
       "      <td>1</td>\n",
       "      <td>91.62500</td>\n",
       "      <td>28340400</td>\n",
       "      <td>0.050477</td>\n",
       "    </tr>\n",
       "    <tr>\n",
       "      <th>2000-01-25</th>\n",
       "      <td>1</td>\n",
       "      <td>93.00000</td>\n",
       "      <td>33276200</td>\n",
       "      <td>-0.014785</td>\n",
       "    </tr>\n",
       "    <tr>\n",
       "      <th>2000-01-26</th>\n",
       "      <td>1</td>\n",
       "      <td>89.25000</td>\n",
       "      <td>23095600</td>\n",
       "      <td>0.042017</td>\n",
       "    </tr>\n",
       "    <tr>\n",
       "      <th>2000-01-27</th>\n",
       "      <td>1</td>\n",
       "      <td>90.56250</td>\n",
       "      <td>30739200</td>\n",
       "      <td>-0.014493</td>\n",
       "    </tr>\n",
       "    <tr>\n",
       "      <th>2000-01-28</th>\n",
       "      <td>1</td>\n",
       "      <td>86.00000</td>\n",
       "      <td>35313800</td>\n",
       "      <td>0.053052</td>\n",
       "    </tr>\n",
       "    <tr>\n",
       "      <th>2000-01-31</th>\n",
       "      <td>1</td>\n",
       "      <td>89.68750</td>\n",
       "      <td>36014600</td>\n",
       "      <td>-0.041115</td>\n",
       "    </tr>\n",
       "    <tr>\n",
       "      <th>2000-02-01</th>\n",
       "      <td>0</td>\n",
       "      <td>92.09375</td>\n",
       "      <td>26417600</td>\n",
       "      <td>-0.026128</td>\n",
       "    </tr>\n",
       "  </tbody>\n",
       "</table>\n",
       "</div>"
      ],
      "text/plain": [
       "            Hidden_state     Close    Volume       rtn\n",
       "Date                                                  \n",
       "2000-01-04             1  88.25000  33786600  0.073654\n",
       "2000-01-05             1  86.00000  42496600  0.026163\n",
       "2000-01-06             1  80.09375  37134800  0.073742\n",
       "2000-01-07             1  90.00000  28138200 -0.110069\n",
       "2000-01-10             1  92.50000  29675600 -0.027027\n",
       "2000-01-11             1  88.00000  32546600  0.051136\n",
       "2000-01-12             1  86.06250  29050000  0.022513\n",
       "2000-01-13             1  91.25000  25165200 -0.056849\n",
       "2000-01-14             0  93.37500  21898600 -0.022758\n",
       "2000-01-18             0  93.87500  16752400 -0.005326\n",
       "2000-01-19             0  96.00000  19006000 -0.022135\n",
       "2000-01-20             0  95.06250  25958000  0.009862\n",
       "2000-01-21             0  96.25000  18698200 -0.012338\n",
       "2000-01-24             1  91.62500  28340400  0.050477\n",
       "2000-01-25             1  93.00000  33276200 -0.014785\n",
       "2000-01-26             1  89.25000  23095600  0.042017\n",
       "2000-01-27             1  90.56250  30739200 -0.014493\n",
       "2000-01-28             1  86.00000  35313800  0.053052\n",
       "2000-01-31             1  89.68750  36014600 -0.041115\n",
       "2000-02-01             0  92.09375  26417600 -0.026128"
      ]
     },
     "execution_count": 55,
     "metadata": {},
     "output_type": "execute_result"
    }
   ],
   "source": [
    "Y=Y.join(df['Close'],how='inner').join(df2, how='inner')\n",
    "Y.head(n=20)"
   ]
  },
  {
   "cell_type": "markdown",
   "metadata": {},
   "source": [
    "In order to see each hidden state, the results below display the means and variances of the two hidden states that we have assumed in n_components. Because the input columns are \"Volume\" and \"rtn\", the two values in the mean and the var arrays are the expected means and varirances for \"Volume\" and \"rtn\" respectively. In terms of \"rtn\", It appears the 0th hidden state is the high state with higher mean value."
   ]
  },
  {
   "cell_type": "code",
   "execution_count": 49,
   "metadata": {},
   "outputs": [
    {
     "name": "stdout",
     "output_type": "stream",
     "text": [
      "0th hidden state\n",
      "mean =  [  3.37841394e+07  -1.01882430e-03]\n",
      "var =  [  1.88371137e+14   1.20430380e-04]\n",
      "\n",
      "1th hidden state\n",
      "mean =  [  1.02325098e+08   7.24762869e-04]\n",
      "var =  [  2.68947892e+15   4.44537462e-04]\n",
      "\n"
     ]
    }
   ],
   "source": [
    "for i in range(model.n_components):\n",
    "    print(\"{0}th hidden state\".format(i))\n",
    "    print(\"mean = \", model.means_[i])\n",
    "    print(\"var = \", np.diag(model.covars_[i]))\n",
    "    print()"
   ]
  },
  {
   "cell_type": "markdown",
   "metadata": {},
   "source": [
    "##### Density-based spatial clustering of applications with noise (DBSCAN) \n",
    "\n",
    "DBSCAN can handle clusters of various shapes and sizes. DBSCAN is able to find clusters that K-mean would not be able to find. Since its invention by Martin Ester, Hans-Peter Kriegel, Jörg Sander and Xiaowei Xu in 1996, it has been gaining increasing popularity. DBSCAN is resistant to noise, \n",
    "\n",
    "It is a density-based clustering algorithm: given a set of points in some space, it groups together points that are closely packed together (points with many nearby neighbors), marking as outliers points that lie alone in low-density regions (whose nearest neighbors are too far away). The figure below illustrates the idea. It groups together points in high-density (the colored dots) and marks as outliers (the white dots) for those that lie alone in low-density regions. \n",
    "\n",
    "<img src=\"DBSCAN.png\" alt=\"Drawing\" style=\"width: 300px;\"/>\n",
    "\n",
    "Unlike K-means, DBSCAN does not require the number of clusters. The algorithm lies in two measures. The first one is $\\epsilon$-Neighborhood: all points with a radius of $\\epsilon$ from point $q$. The second one is MinPts: minimum number of points in the given neighborhood. See Figure A. If a point has many points in its $\\epsilon$-radius, the density in that radius is high. Thus the name *density-based* comes from. Each point can be a *core* point if it its density is high, or a *border* point if its density is low but still in the neighborhood of a core point, or a $noise$ point that is not a core nor a border point. See Figure B.\n",
    "\n",
    "<img src=\"images/DBSCAN_combo.png\" alt=\"Drawing\" style=\"width: 600px;\"/>\n",
    "\n",
    "DBSCAN can cluster points by reaching out in any direction as long as a another point $p$ is in $q$'s $\\epsilon$-neighborhood or *directly density-reachable* from $q$. The following figure shows how DBSCAN grows its clusters. $p_1$ is directly density-reachable from $q$, $p_2$ is directly density-reachable from $p_1$, and so on until all $q, p_1, p_2, p$ are clustered together. Thus it can develop clusters of arbitrary shape in spatial databases with noise. \n",
    " \n",
    "<img src=\"images/DBSCAN2.png\" alt=\"Drawing\" style=\"width: 250px;\"/>\n",
    "\n",
    "\n",
    "[This site](https://www.naftaliharris.com/blog/visualizing-dbscan-clustering/) visualizes DBSCAN clusters nicely.\n",
    "\n"
   ]
  },
  {
   "cell_type": "code",
   "execution_count": 1,
   "metadata": {
    "collapsed": true
   },
   "outputs": [],
   "source": [
    "# https://plot.ly/scikit-learn/plot-dbscan/\n",
    "# http://www.dummies.com/programming/big-data/data-science/how-to-create-an-unsupervised-learning-model-with-dbscan/"
   ]
  },
  {
   "cell_type": "markdown",
   "metadata": {},
   "source": [
    "We will use a [dataset](http://scikit-learn.org/stable/modules/generated/sklearn.datasets.load_wine.html#sklearn.datasets.load_wine) in sklearn for wine classification. This dataset has 178 wine samplew with 13 attributes. "
   ]
  },
  {
   "cell_type": "code",
   "execution_count": 48,
   "metadata": {},
   "outputs": [
    {
     "data": {
      "text/html": [
       "<div>\n",
       "<style>\n",
       "    .dataframe thead tr:only-child th {\n",
       "        text-align: right;\n",
       "    }\n",
       "\n",
       "    .dataframe thead th {\n",
       "        text-align: left;\n",
       "    }\n",
       "\n",
       "    .dataframe tbody tr th {\n",
       "        vertical-align: top;\n",
       "    }\n",
       "</style>\n",
       "<table border=\"1\" class=\"dataframe\">\n",
       "  <thead>\n",
       "    <tr style=\"text-align: right;\">\n",
       "      <th></th>\n",
       "      <th>0</th>\n",
       "      <th>1</th>\n",
       "      <th>2</th>\n",
       "      <th>3</th>\n",
       "      <th>4</th>\n",
       "      <th>5</th>\n",
       "      <th>6</th>\n",
       "      <th>7</th>\n",
       "      <th>8</th>\n",
       "      <th>9</th>\n",
       "      <th>10</th>\n",
       "      <th>11</th>\n",
       "      <th>12</th>\n",
       "    </tr>\n",
       "  </thead>\n",
       "  <tbody>\n",
       "    <tr>\n",
       "      <th>0</th>\n",
       "      <td>14.23</td>\n",
       "      <td>1.71</td>\n",
       "      <td>2.43</td>\n",
       "      <td>15.6</td>\n",
       "      <td>127.0</td>\n",
       "      <td>2.80</td>\n",
       "      <td>3.06</td>\n",
       "      <td>0.28</td>\n",
       "      <td>2.29</td>\n",
       "      <td>5.64</td>\n",
       "      <td>1.04</td>\n",
       "      <td>3.92</td>\n",
       "      <td>1065.0</td>\n",
       "    </tr>\n",
       "    <tr>\n",
       "      <th>1</th>\n",
       "      <td>13.20</td>\n",
       "      <td>1.78</td>\n",
       "      <td>2.14</td>\n",
       "      <td>11.2</td>\n",
       "      <td>100.0</td>\n",
       "      <td>2.65</td>\n",
       "      <td>2.76</td>\n",
       "      <td>0.26</td>\n",
       "      <td>1.28</td>\n",
       "      <td>4.38</td>\n",
       "      <td>1.05</td>\n",
       "      <td>3.40</td>\n",
       "      <td>1050.0</td>\n",
       "    </tr>\n",
       "    <tr>\n",
       "      <th>2</th>\n",
       "      <td>13.16</td>\n",
       "      <td>2.36</td>\n",
       "      <td>2.67</td>\n",
       "      <td>18.6</td>\n",
       "      <td>101.0</td>\n",
       "      <td>2.80</td>\n",
       "      <td>3.24</td>\n",
       "      <td>0.30</td>\n",
       "      <td>2.81</td>\n",
       "      <td>5.68</td>\n",
       "      <td>1.03</td>\n",
       "      <td>3.17</td>\n",
       "      <td>1185.0</td>\n",
       "    </tr>\n",
       "    <tr>\n",
       "      <th>3</th>\n",
       "      <td>14.37</td>\n",
       "      <td>1.95</td>\n",
       "      <td>2.50</td>\n",
       "      <td>16.8</td>\n",
       "      <td>113.0</td>\n",
       "      <td>3.85</td>\n",
       "      <td>3.49</td>\n",
       "      <td>0.24</td>\n",
       "      <td>2.18</td>\n",
       "      <td>7.80</td>\n",
       "      <td>0.86</td>\n",
       "      <td>3.45</td>\n",
       "      <td>1480.0</td>\n",
       "    </tr>\n",
       "    <tr>\n",
       "      <th>4</th>\n",
       "      <td>13.24</td>\n",
       "      <td>2.59</td>\n",
       "      <td>2.87</td>\n",
       "      <td>21.0</td>\n",
       "      <td>118.0</td>\n",
       "      <td>2.80</td>\n",
       "      <td>2.69</td>\n",
       "      <td>0.39</td>\n",
       "      <td>1.82</td>\n",
       "      <td>4.32</td>\n",
       "      <td>1.04</td>\n",
       "      <td>2.93</td>\n",
       "      <td>735.0</td>\n",
       "    </tr>\n",
       "  </tbody>\n",
       "</table>\n",
       "</div>"
      ],
      "text/plain": [
       "      0     1     2     3      4     5     6     7     8     9     10    11  \\\n",
       "0  14.23  1.71  2.43  15.6  127.0  2.80  3.06  0.28  2.29  5.64  1.04  3.92   \n",
       "1  13.20  1.78  2.14  11.2  100.0  2.65  2.76  0.26  1.28  4.38  1.05  3.40   \n",
       "2  13.16  2.36  2.67  18.6  101.0  2.80  3.24  0.30  2.81  5.68  1.03  3.17   \n",
       "3  14.37  1.95  2.50  16.8  113.0  3.85  3.49  0.24  2.18  7.80  0.86  3.45   \n",
       "4  13.24  2.59  2.87  21.0  118.0  2.80  2.69  0.39  1.82  4.32  1.04  2.93   \n",
       "\n",
       "       12  \n",
       "0  1065.0  \n",
       "1  1050.0  \n",
       "2  1185.0  \n",
       "3  1480.0  \n",
       "4   735.0  "
      ]
     },
     "execution_count": 48,
     "metadata": {},
     "output_type": "execute_result"
    }
   ],
   "source": [
    "from sklearn.datasets import load_wine\n",
    "import pandas as pd\n",
    "import numpy as np\n",
    "wine=pd.DataFrame(load_wine().data)\n",
    "wine.head(n=5)"
   ]
  },
  {
   "cell_type": "markdown",
   "metadata": {},
   "source": [
    "The following lines of codes store the parameters in the DBSCAN statement. If DBSCAN() is left black, the default value will be used. In this example we set $\\epsilon$ to $50$. It is recommended that you fine-tune the parameters by testing a grid of values. "
   ]
  },
  {
   "cell_type": "code",
   "execution_count": 100,
   "metadata": {},
   "outputs": [
    {
     "data": {
      "text/plain": [
       "DBSCAN(algorithm='auto', eps=50, leaf_size=30, metric='euclidean',\n",
       "    metric_params=None, min_samples=5, n_jobs=1, p=None)"
      ]
     },
     "execution_count": 100,
     "metadata": {},
     "output_type": "execute_result"
    }
   ],
   "source": [
    "from sklearn.cluster import DBSCAN\n",
    "# Create an instance of DBSCAN with default values for eps and min_samples.\n",
    "my_dbscan = DBSCAN(eps=50)\n",
    "my_dbscan"
   ]
  },
  {
   "cell_type": "code",
   "execution_count": 104,
   "metadata": {},
   "outputs": [
    {
     "data": {
      "text/plain": [
       "array([ 0,  0,  0, -1,  1, -1,  2,  2,  0,  0, -1,  2,  2,  0, -1,  2,  2,\n",
       "        0, -1,  1,  1,  1,  0,  0,  1,  1,  0,  2,  1,  0,  2, -1,  0,  2,\n",
       "        0,  1,  1,  0,  0,  1,  1,  0,  0,  1,  1,  0,  0,  0,  0,  2,  0,\n",
       "        2,  0, -1,  0,  0,  0,  2,  2,  1,  1,  1,  1,  1,  1,  1,  1,  1,\n",
       "        1,  1,  1,  1,  1,  0,  1,  1,  1,  1,  1,  1,  1,  1,  1,  1,  1,\n",
       "        1,  1,  1,  1,  1,  1,  1,  1,  1,  1, -1,  1,  1,  1,  1,  1,  1,\n",
       "        1,  1,  1,  1,  1,  1,  1,  1,  1,  1,  1,  1,  1,  1,  1,  1,  1,\n",
       "        1,  1,  1,  1,  1,  1,  1,  1,  1,  1,  1,  1,  1,  1,  1,  1,  1,\n",
       "        1,  1,  1,  1,  1,  1,  1,  1,  1,  1,  1,  1,  1,  1,  1,  1,  1,\n",
       "        1,  1,  1,  1,  1,  1,  1,  1,  1,  1,  1,  1,  1,  1,  1,  1,  1,\n",
       "        1,  1,  1,  1,  1,  1,  1,  1])"
      ]
     },
     "execution_count": 104,
     "metadata": {},
     "output_type": "execute_result"
    }
   ],
   "source": [
    "my_dbscan.fit(wine)\n",
    "# Use dbscan.labels_ to see the outcome\n",
    "labels = my_dbscan.labels_ \n",
    "labels"
   ]
  },
  {
   "cell_type": "code",
   "execution_count": 107,
   "metadata": {},
   "outputs": [
    {
     "data": {
      "text/plain": [
       "array([  0,   1,   2,   4,   6,   7,   8,   9,  11,  12,  13,  15,  16,\n",
       "        17,  19,  20,  21,  22,  23,  24,  25,  26,  27,  28,  29,  30,\n",
       "        32,  33,  34,  35,  36,  37,  38,  39,  40,  41,  42,  43,  44,\n",
       "        45,  46,  47,  48,  49,  50,  51,  52,  54,  55,  57,  58,  59,\n",
       "        60,  61,  62,  63,  64,  65,  66,  67,  68,  69,  70,  71,  72,\n",
       "        74,  75,  76,  77,  78,  79,  80,  81,  82,  83,  84,  85,  86,\n",
       "        87,  88,  89,  90,  91,  92,  93,  94,  96,  97,  98,  99, 100,\n",
       "       101, 102, 103, 104, 105, 106, 107, 108, 109, 110, 111, 112, 113,\n",
       "       114, 115, 116, 117, 118, 119, 120, 121, 122, 123, 124, 125, 126,\n",
       "       127, 128, 129, 130, 131, 132, 133, 134, 135, 136, 137, 138, 139,\n",
       "       140, 141, 142, 143, 144, 145, 146, 147, 148, 149, 150, 151, 152,\n",
       "       153, 154, 155, 156, 157, 158, 159, 160, 161, 162, 163, 164, 165,\n",
       "       166, 167, 168, 169, 170, 171, 172, 173, 174, 175, 176, 177])"
      ]
     },
     "execution_count": 107,
     "metadata": {},
     "output_type": "execute_result"
    }
   ],
   "source": [
    "my_dbscan.core_sample_indices_ "
   ]
  },
  {
   "cell_type": "markdown",
   "metadata": {},
   "source": [
    "In the following two sets of codes I show how to get the count statistic by using numpy and pandas."
   ]
  },
  {
   "cell_type": "code",
   "execution_count": 61,
   "metadata": {},
   "outputs": [
    {
     "data": {
      "text/plain": [
       "{-1: 8, 0: 27, 1: 130, 2: 13}"
      ]
     },
     "execution_count": 61,
     "metadata": {},
     "output_type": "execute_result"
    }
   ],
   "source": [
    "# Use numpy to get unique counts\n",
    "unique, counts = np.unique(dbscan.labels_, return_counts=True)\n",
    "dict(zip(unique,counts))"
   ]
  },
  {
   "cell_type": "code",
   "execution_count": 63,
   "metadata": {},
   "outputs": [
    {
     "data": {
      "text/plain": [
       " 1    130\n",
       " 0     27\n",
       " 2     13\n",
       "-1      8\n",
       "dtype: int64"
      ]
     },
     "execution_count": 63,
     "metadata": {},
     "output_type": "execute_result"
    }
   ],
   "source": [
    "# Use pandas.Series to get unique counts\n",
    "pd.Series(dbscan.labels_).value_counts()"
   ]
  },
  {
   "cell_type": "markdown",
   "metadata": {},
   "source": [
    "Below we plot the outcome on a 2-dimensional graph. Because there are 13 features, we use principal component to condense to two components. "
   ]
  },
  {
   "cell_type": "code",
   "execution_count": 150,
   "metadata": {},
   "outputs": [
    {
     "data": {
      "image/png": "[encoded data removed]",
      "text/plain": [
       "<matplotlib.figure.Figure at 0x1a17bd2198>"
      ]
     },
     "metadata": {},
     "output_type": "display_data"
    }
   ],
   "source": [
    "from sklearn.decomposition import PCA\n",
    "import pylab as pl\n",
    "# Use principal component to condense the 13 features to 2 features\n",
    "pca = PCA(n_components=2).fit(wine)\n",
    "pca_2d = pca.transform(wine)\n",
    "# Assign colors\n",
    "for i in range(0, pca_2d.shape[0]):\n",
    "  if labels[i] == 0:\n",
    "    c1 = pl.scatter(pca_2d[i,0],pca_2d[i,1],c='r', marker='+')\n",
    "  elif labels[i] == 1:\n",
    "    c2 = pl.scatter(pca_2d[i,0],pca_2d[i,1],c='g', marker='o')\n",
    "  elif labels[i] == 2:\n",
    "    c3 = pl.scatter(pca_2d[i,0],pca_2d[i,1],c='y', marker='+')\n",
    "  elif labels[i] == -1:\n",
    "    c4 = pl.scatter(pca_2d[i,0],pca_2d[i,1],c='b', marker='*')\n",
    "    \n",
    "pl.legend([c1, c2, c3,c4], ['Cluster 1', 'Cluster 2','Cluster3','Noise'])\n",
    "pl.show()"
   ]
  },
  {
   "cell_type": "markdown",
   "metadata": {},
   "source": [
    "##### MeanShift\n",
    "\n",
    "\n",
    "MeanShift is an intuitive, powerful non-parametric algorithm. It was invented long back in 1975 by Fukunaga and Hostetler but did not gain its popularity unill two papers applied the algorithm to Computer Vision. Inn contrast to the K-means clustering algorithm, the output of mean shift does not depend on any explicit assumptions on the shape of the point distribution, the number of clusters, or any form of random initialization.\n",
    "\n",
    "\n",
    "[Comaniciu](http://comaniciu.net/Papers/MsRobustApproach.pdf)\n",
    "\n",
    "\n",
    "<img src=\"MeanShift.png\" alt=\"Drawing\" style=\"width: 500px;\"/>\n",
    "\n",
    "How does it work? Mean shift first finds the centroid of a set of data points. Secondly it shifts the center of window towards the mean until it converges - thus the name *meanshift*. The algorithm iteratively assign each data point towards the closest cluster centroid. The figure below shows the process of the convergence.\n",
    "\n",
    "<img src=\"Meanshift process all.png\" alt=\"Drawing\" style=\"width: 700px;\"/>\n",
    "\n",
    "The mean shift algorithm assumes that all points are sampled from some underlying probability density function (p.d.f.), with regions of high sample density corresponding to the local maxima of the distribution. This centroid-based approach computes the centroids of various regions in the dataset. Finally the algorithm settles with a few centroids the final clusters. How do we use Mean Shift for outlier dection? As in DBSCAN, data points far from the centroids can be ignored by the clustering process and thus flagged as outliers.\n",
    "\n",
    "For the sake of visual presentation we generate 2-feature data points in the following example. Readers are encouraged to generate data with higher dimensions. We use make_blobs of sklearn.datasets. The default values are:\n",
    "sklearn.datasets.make_blobs(n_samples=100, n_features=2, centers=3, cluster_std=1.0, center_box=(-10.0, 10.0), shuffle=True, random_state=None). Make_blobs returns X, an array of shape [n_samples, n_features] and y, the integer labels for cluster membership of each sample."
   ]
  },
  {
   "cell_type": "code",
   "execution_count": 2,
   "metadata": {},
   "outputs": [
    {
     "data": {
      "image/png": "[encoded data removed]",
      "text/plain": [
       "<matplotlib.figure.Figure at 0x1122b3710>"
      ]
     },
     "metadata": {},
     "output_type": "display_data"
    }
   ],
   "source": [
    "import numpy as np\n",
    "from sklearn.datasets.samples_generator import make_blobs\n",
    "import matplotlib.pyplot as plt\n",
    "# Generate sample data\n",
    "centers = [[1, 1], [-2, -2], [2, -1],[-1,1]]\n",
    "X, y = make_blobs(n_samples=5000, centers=centers, cluster_std=.5)\n",
    "plt.scatter(X[:,0],X[:,1], c='b', alpha=0.8)\n",
    "plt.show()"
   ]
  },
  {
   "cell_type": "markdown",
   "metadata": {},
   "source": [
    "The mean shift algorithm requires the bandwidth parameter, which is detected by the  estimate_bandwidth statement below. The parameter \"quantile\" should be between [0, 1].  0.5 means that the median of all pairwise distances is used. For large datasets, sklearn suggests setting the quantile parameter to a small value."
   ]
  },
  {
   "cell_type": "code",
   "execution_count": 3,
   "metadata": {},
   "outputs": [
    {
     "data": {
      "text/plain": [
       "1.1475698684165492"
      ]
     },
     "execution_count": 3,
     "metadata": {},
     "output_type": "execute_result"
    }
   ],
   "source": [
    "from sklearn.cluster import MeanShift, estimate_bandwidth\n",
    "from sklearn.datasets.samples_generator import make_blobs\n",
    "import pandas as pd\n",
    "\n",
    "# The following bandwidth can be automatically detected using\n",
    "bandwidth = estimate_bandwidth(X, quantile=.2, n_samples=1000)\n",
    "bandwidth"
   ]
  },
  {
   "cell_type": "markdown",
   "metadata": {},
   "source": [
    "We then store the parameters in 'ms'. It models the data when we use the 'fit()' function."
   ]
  },
  {
   "cell_type": "code",
   "execution_count": 28,
   "metadata": {},
   "outputs": [
    {
     "data": {
      "text/plain": [
       "array([[-0.92462193,  0.99221165],\n",
       "       [ 0.9137825 ,  0.98360627],\n",
       "       [ 1.94640909, -0.99184981],\n",
       "       [-2.00705545, -2.01315787]])"
      ]
     },
     "execution_count": 28,
     "metadata": {},
     "output_type": "execute_result"
    }
   ],
   "source": [
    "ms = MeanShift(bandwidth=bandwidth, bin_seeding=True)\n",
    "ms.fit(X)\n",
    "# store the cluster labels in 'labels'\n",
    "labels = ms.labels_\n",
    "labels_unique = np.unique(labels)\n",
    "n_clusters = len(labels_unique)\n",
    "\n",
    "# store the centroids of the clusters in cluster_centers\n",
    "cluster_centers = ms.cluster_centers_\n",
    "cluster_centers"
   ]
  },
  {
   "cell_type": "code",
   "execution_count": 29,
   "metadata": {},
   "outputs": [
    {
     "data": {
      "image/png": "[encoded data removed]",
      "text/plain": [
       "<matplotlib.figure.Figure at 0x1a2061bb70>"
      ]
     },
     "metadata": {},
     "output_type": "display_data"
    }
   ],
   "source": [
    "import matplotlib.pyplot as plt\n",
    "from itertools import cycle\n",
    "\n",
    "plt.figure(1)\n",
    "plt.clf()\n",
    "\n",
    "colors = cycle('bgrcmyk')\n",
    "for k, col in zip(range(n_clusters), colors):\n",
    "    my_members = labels == k\n",
    "    cluster_center = cluster_centers[k]\n",
    "    # Plot the data points by using the character '.' for the point marker.\n",
    "    plt.plot(X[my_members, 0], X[my_members, 1], col + '.')\n",
    "plt.title('Mean shift identifies %d' % n_clusters +' clusters')\n",
    "plt.show()"
   ]
  },
  {
   "cell_type": "code",
   "execution_count": 25,
   "metadata": {},
   "outputs": [
    {
     "data": {
      "text/html": [
       "<div>\n",
       "<style>\n",
       "    .dataframe thead tr:only-child th {\n",
       "        text-align: right;\n",
       "    }\n",
       "\n",
       "    .dataframe thead th {\n",
       "        text-align: left;\n",
       "    }\n",
       "\n",
       "    .dataframe tbody tr th {\n",
       "        vertical-align: top;\n",
       "    }\n",
       "</style>\n",
       "<table border=\"1\" class=\"dataframe\">\n",
       "  <thead>\n",
       "    <tr style=\"text-align: right;\">\n",
       "      <th></th>\n",
       "      <th>x1</th>\n",
       "      <th>x2</th>\n",
       "      <th>label</th>\n",
       "    </tr>\n",
       "  </thead>\n",
       "  <tbody>\n",
       "    <tr>\n",
       "      <th>0</th>\n",
       "      <td>-2.736426</td>\n",
       "      <td>-2.404392</td>\n",
       "      <td>3</td>\n",
       "    </tr>\n",
       "    <tr>\n",
       "      <th>1</th>\n",
       "      <td>1.905818</td>\n",
       "      <td>-0.351106</td>\n",
       "      <td>2</td>\n",
       "    </tr>\n",
       "    <tr>\n",
       "      <th>2</th>\n",
       "      <td>0.471411</td>\n",
       "      <td>1.300613</td>\n",
       "      <td>1</td>\n",
       "    </tr>\n",
       "    <tr>\n",
       "      <th>3</th>\n",
       "      <td>0.884055</td>\n",
       "      <td>-0.222943</td>\n",
       "      <td>1</td>\n",
       "    </tr>\n",
       "    <tr>\n",
       "      <th>4</th>\n",
       "      <td>-0.831231</td>\n",
       "      <td>1.010406</td>\n",
       "      <td>0</td>\n",
       "    </tr>\n",
       "  </tbody>\n",
       "</table>\n",
       "</div>"
      ],
      "text/plain": [
       "         x1        x2  label\n",
       "0 -2.736426 -2.404392      3\n",
       "1  1.905818 -0.351106      2\n",
       "2  0.471411  1.300613      1\n",
       "3  0.884055 -0.222943      1\n",
       "4 -0.831231  1.010406      0"
      ]
     },
     "execution_count": 25,
     "metadata": {},
     "output_type": "execute_result"
    }
   ],
   "source": [
    "Xy=pd.DataFrame(X,columns=('x1','x2'))\n",
    "labels=pd.Series(labels,name='label')\n",
    "Xy=pd.concat((Xy,labels),axis=1)\n",
    "Xy.head()"
   ]
  },
  {
   "cell_type": "markdown",
   "metadata": {},
   "source": [
    "// http://blog.yhat.com/posts/self-organizing-maps-1.html"
   ]
  }
 ],
 "metadata": {
  "kernelspec": {
   "display_name": "Python 3",
   "language": "python",
   "name": "python3"
  },
  "language_info": {
   "codemirror_mode": {
    "name": "ipython",
    "version": 3
   },
   "file_extension": ".py",
   "mimetype": "text/x-python",
   "name": "python",
   "nbconvert_exporter": "python",
   "pygments_lexer": "ipython3",
   "version": "3.6.3"
  }
 },
 "nbformat": 4,
 "nbformat_minor": 2
}
