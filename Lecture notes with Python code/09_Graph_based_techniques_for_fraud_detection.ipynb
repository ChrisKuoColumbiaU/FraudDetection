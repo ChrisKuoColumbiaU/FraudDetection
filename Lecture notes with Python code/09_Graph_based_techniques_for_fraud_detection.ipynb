{
 "cells": [
  {
   "cell_type": "markdown",
   "metadata": {},
   "source": [
    "## Modeling a fraud ring with a graph\n",
    "\n",
    "\n"
   ]
  },
  {
   "cell_type": "markdown",
   "metadata": {},
   "source": [
    "## Why \n",
    "\n",
    "It is not fraud detection, but it is going to raise suspicions for special investigation unit (SIU) to examine.\n",
    "\n",
    "Shared resources\n",
    "Shared addresses,\n",
    "\n",
    "Fraudsters typically keep a ring as small as possible in order to conseal their plot. \n",
    "\n",
    "\n",
    "### Fraud ring example 1: Auto accident insurance claims\n",
    "\n",
    "<img src=\"images/A fraud ring car accident.png\" align = \"right\" alt=\"Drawing\" style=\"width: 400px;\"/>\n",
    "\n",
    "\n",
    "Figure (A) shows an example of fraud ring. This ring includes five people, a doctor, and a lawyer. The drivers and passengers stage accidents, whose roles can be recycled (they call it recycling the roles\"), so a driver in an accident can be a witness in another accident. The National Insurance Crime Bureau (NICB) reports these staged crimes are [big business](https://www.nicb.org/prevent-fraud-theft/staged-auto-accident-fraud). The state of Florida, a no-fault state, is notorious for its rising auto accident frauds though it has been controlled in resent years. Under the no-fault laws, a driver is required to have Personal Injury Protection (PIP) to cover his own injury in an accident. The driver will recover financial losses from his own insurance company up to a specified threshold. The fraud ring thus stages a hit-and-run car accident. The fake passenage can file a claim and get paid by his insurance company. Florida enacted the No-Fault Reform or the Anti-Fraud Laws in 2012 to impose heavy penalties on medical providers who commit PIP fraud. It is [reported](https://www.prnewswire.com/news-releases/floridas-no-fault-reform-anti-fraud-laws-are-working-300017990.html) the number and cost of Personal Injury Protection (PIP) insurance claims have been reduced since then. However, it is anticipated new innovation in fraud ring will emerge in different forms, so the methods and technologies to catch fraud will be needed.\n",
    "\n",
    "Auto frauds can take various forms. NICB warns the public for \n",
    "[Auto repair scam](https://www.nicb.org/prevent-fraud-theft/avoid-auto-repair-scams). \n",
    "What happens is an unscrupulous auto shop can use cheap airbags (previously deployed and salvaged) to replace a customer’s deployed airbag, and then bill your insurance company for the retail value of a new one. In this staged case the insurance company should see suspicious number of airbag replacement by a particular auto shop.\n",
    "\n",
    "### Fraud ring example 2: First-party fraud in retail banking\n",
    "\n",
    "First-party fraud (FPF) is defined as when someone enters into a relationship with a bank <b>using either their own identity or a synthetic identity</b> with the intent to defraud. It is different from third-party fraud (also known as “identity fraud”) in which a third person's identification is used. According to the U.S. federal government, charge-off rates are currently at about 10% of all outstanding consumer credit. Most estimates of the amount of charged-off credit attributed to first-party fraud range [from 10% to 25%](http://www.infoglide.com/blog/first-party-fraud-assessing-the-damage/). In other words, a bank loses up to 25 cents of every dollar in receivables to FPF. \n",
    "\n",
    "Fraudsters create <b>synthetic identities</b>, which is usually a mix of real identity and fictitious identity. How do they do that? Take a look of the following steps:\n",
    "* SSN: Get a Social Security Number (SSN) of another person\n",
    "* Name: Fabricate a name to be used with the SSN. \n",
    "* Birth date: Create false birth dates that match the appearance of the fraudster, in case in-person appearances are required.\n",
    "* Address: Create an address to receive mail fraudulently\n",
    "* Phone: Provide telephone numbers\n",
    "* Apply a credit account (important): It will be declined in the first application by the credit reporting agencies (CRAs) or credit bureaus. However, after that the fake name with that SSN is in CRAs' systems. Submit the application again until it is accepted.\n",
    "* Add an authorized user (most popular): it is legitimate for a card to add authorized users such as a spouse or a child. Fraudsters exploit the process by piggybacking they names.\n",
    "\n",
    "<img src=\"images/busted out fraud.png\" align=\"right\" alt=\"Drawing\" style=\"width: 500px;\"/>\n",
    "\n",
    "We are not here to discuss various ways to bypass the security system. Readers are encouraged to see other ways to [creat synthetic identities](https://securityintelligence.com/synthetic-identity-theft-three-ways-synthetic-identities-are-created/). Once the identities are created, fraudsters typically build up a good history of behavior with timely payments and low utilizations. They act \"normally\" -- shopping regularly, opening accounts at different organizations and checking their credit scores. They made overpayment in the final stage of the bust out. That's why FPF is also called the Busted-out fraud.\n",
    "\n",
    "<img src=\"images/FPF.png\" align=\"right\" alt=\"Drawing\" style=\"width: 300px;\"/>\n",
    "\n",
    "Because synthetic identities are generated by recycling personal identitifiable information (PII), it is likely the same PII appear multiple times. In the Figure there are five fabricated card holders. It maybe perfectly normal that two card holders sharing the same phone number or address. However, it is highly unlikely two card holders sharing the same SSN. By examining the relationships of the cardholders in the huge database, there is a high chance to detect this fraud ring.\n",
    "\n",
    "### Why the \"traditional\" anomaly dection techniques cannot catch them?\n",
    "\n",
    "In previous chapter we illustrate anomaly detecion techniques with an example on credit card transactions. There are two reasons why the anomaly detection techniques do not work here. The first one lies in the fact that <b>fraudster's behaviors look normal</b>. These fraudsters hide themselves in the normal behaviors, so it is very hard to detect them at the individual card level. The second reason is <b>ineffective detecting technique</b>. We create features by a single dimension such as transaction time, location, payment type, etc. to determine the anomaly. However, it becomes ineffective when we need to detect if someone is using a stolen identity, syntehtic identify, fake IP address or a hijacked device. In order to catch the relationships among the targets, we need to examine the connectivity among the account holders or claims."
   ]
  },
  {
   "cell_type": "markdown",
   "metadata": {},
   "source": [
    "### Generate a dataset with synthetic identities\n",
    "\n",
    "In the follow code I first generate 1,000 normal account holders. Each record has the card holder's full name, the SSN, the Zip+4 and the phone number. I use the python module \"names\" to generate randomly names. I then generate 4 fraud records in order to create the synthetic identities. The synthetic identities come from any combination of the 5 elements (name, SSN, ZIP+4 and phone number) from the 4 records. As a result, there are $ 4^5=256$ synthetic identities. The final dataset contains 1,000+256 = 1,256 identities."
   ]
  },
  {
   "cell_type": "code",
   "execution_count": 2,
   "metadata": {
    "collapsed": true
   },
   "outputs": [],
   "source": [
    "# !pip install names \n",
    "import names\n",
    "import random\n",
    "import pandas as pd\n",
    "\n",
    "random.seed(0)\n",
    "\n",
    "# Generate phone number\n",
    "def gen_phone(size):\n",
    "    phone = []\n",
    "    for _ in range(size):\n",
    "        first = str(random.randint(100,999))\n",
    "        second = str(random.randint(1,888)).zfill(3)\n",
    "        last = str(random.randint(1,9998)).zfill(4)\n",
    "        tmp =  '{}-{}-{}'.format(first,second,last)\n",
    "        phone.append(tmp)\n",
    "    return phone\n",
    "\n",
    "# Generate Social Security Number (SSN)\n",
    "def gen_SSN(size):\n",
    "    SSN = []\n",
    "    for _ in range(size):\n",
    "        first = str(random.randint(100,999))\n",
    "        second = str(random.randint(1,99)).zfill(2)        \n",
    "        last = str(random.randint(1,9998)).zfill(4)\n",
    "        tmp =  '{}-{}-{}'.format(first,second,last)\n",
    "        SSN.append(tmp)\n",
    "    return SSN\n",
    "\n",
    "# Generate Zip+4\n",
    "def gen_ZIP4(size):\n",
    "    ZIP4 = []\n",
    "    for _ in range(size):\n",
    "        first = str(random.randint(0,99999)).zfill(5)\n",
    "        last = str(random.randint(1,9998)).zfill(4)\n",
    "        tmp =  '{}-{}'.format(first,last)\n",
    "        ZIP4.append(tmp)\n",
    "    return ZIP4\n",
    "\n",
    "# Generate names\n",
    "def gen_card_names(size):\n",
    "    card_names=[]\n",
    "    for _ in range(size):\n",
    "        tmp = names.get_full_name()\n",
    "        card_names.append(tmp)\n",
    "    return card_names"
   ]
  },
  {
   "cell_type": "code",
   "execution_count": 3,
   "metadata": {},
   "outputs": [
    {
     "data": {
      "text/html": [
       "<div>\n",
       "<style>\n",
       "    .dataframe thead tr:only-child th {\n",
       "        text-align: right;\n",
       "    }\n",
       "\n",
       "    .dataframe thead th {\n",
       "        text-align: left;\n",
       "    }\n",
       "\n",
       "    .dataframe tbody tr th {\n",
       "        vertical-align: top;\n",
       "    }\n",
       "</style>\n",
       "<table border=\"1\" class=\"dataframe\">\n",
       "  <thead>\n",
       "    <tr style=\"text-align: right;\">\n",
       "      <th></th>\n",
       "      <th>Card_name</th>\n",
       "      <th>Phone</th>\n",
       "      <th>SSN</th>\n",
       "      <th>ZIP</th>\n",
       "    </tr>\n",
       "  </thead>\n",
       "  <tbody>\n",
       "    <tr>\n",
       "      <th>0</th>\n",
       "      <td>Genevieve Gallegos</td>\n",
       "      <td>398-130-6320</td>\n",
       "      <td>739-39-3392</td>\n",
       "      <td>49206-9961</td>\n",
       "    </tr>\n",
       "    <tr>\n",
       "      <th>1</th>\n",
       "      <td>Masako Holley</td>\n",
       "      <td>127-223-3731</td>\n",
       "      <td>558-38-0053</td>\n",
       "      <td>67351-0382</td>\n",
       "    </tr>\n",
       "    <tr>\n",
       "      <th>2</th>\n",
       "      <td>Pearle Goodman</td>\n",
       "      <td>532-778-1057</td>\n",
       "      <td>143-55-7149</td>\n",
       "      <td>65528-8418</td>\n",
       "    </tr>\n",
       "    <tr>\n",
       "      <th>3</th>\n",
       "      <td>Douglas Schmidt</td>\n",
       "      <td>921-096-5093</td>\n",
       "      <td>663-89-0170</td>\n",
       "      <td>65814-3326</td>\n",
       "    </tr>\n",
       "    <tr>\n",
       "      <th>4</th>\n",
       "      <td>Russell Mills</td>\n",
       "      <td>173-346-2172</td>\n",
       "      <td>809-22-1692</td>\n",
       "      <td>55296-4461</td>\n",
       "    </tr>\n",
       "  </tbody>\n",
       "</table>\n",
       "</div>"
      ],
      "text/plain": [
       "            Card_name         Phone          SSN         ZIP\n",
       "0  Genevieve Gallegos  398-130-6320  739-39-3392  49206-9961\n",
       "1       Masako Holley  127-223-3731  558-38-0053  67351-0382\n",
       "2      Pearle Goodman  532-778-1057  143-55-7149  65528-8418\n",
       "3     Douglas Schmidt  921-096-5093  663-89-0170  65814-3326\n",
       "4       Russell Mills  173-346-2172  809-22-1692  55296-4461"
      ]
     },
     "execution_count": 3,
     "metadata": {},
     "output_type": "execute_result"
    }
   ],
   "source": [
    "# Generate the normal cardholders\n",
    "size = 1000\n",
    "norm_data = pd.DataFrame({'Card_name':gen_card_names(size),\n",
    "                     'ZIP':gen_ZIP4(size),\n",
    "                     'SSN':gen_SSN(size),\n",
    "                     'Phone':gen_phone(size)} )\n",
    "norm_data.head()"
   ]
  },
  {
   "cell_type": "code",
   "execution_count": 4,
   "metadata": {},
   "outputs": [
    {
     "data": {
      "text/html": [
       "<div>\n",
       "<style>\n",
       "    .dataframe thead tr:only-child th {\n",
       "        text-align: right;\n",
       "    }\n",
       "\n",
       "    .dataframe thead th {\n",
       "        text-align: left;\n",
       "    }\n",
       "\n",
       "    .dataframe tbody tr th {\n",
       "        vertical-align: top;\n",
       "    }\n",
       "</style>\n",
       "<table border=\"1\" class=\"dataframe\">\n",
       "  <thead>\n",
       "    <tr style=\"text-align: right;\">\n",
       "      <th></th>\n",
       "      <th>Card_name</th>\n",
       "      <th>Phone</th>\n",
       "      <th>SSN</th>\n",
       "      <th>ZIP</th>\n",
       "    </tr>\n",
       "  </thead>\n",
       "  <tbody>\n",
       "    <tr>\n",
       "      <th>0</th>\n",
       "      <td>Sharon Jones</td>\n",
       "      <td>405-682-1878</td>\n",
       "      <td>638-63-1353</td>\n",
       "      <td>28339-8358</td>\n",
       "    </tr>\n",
       "    <tr>\n",
       "      <th>1</th>\n",
       "      <td>Jennie Gibson</td>\n",
       "      <td>699-748-8901</td>\n",
       "      <td>136-64-4039</td>\n",
       "      <td>70945-8377</td>\n",
       "    </tr>\n",
       "    <tr>\n",
       "      <th>2</th>\n",
       "      <td>Jeff Smith</td>\n",
       "      <td>669-762-0998</td>\n",
       "      <td>908-16-3295</td>\n",
       "      <td>92042-6295</td>\n",
       "    </tr>\n",
       "    <tr>\n",
       "      <th>3</th>\n",
       "      <td>Joshua Berumen</td>\n",
       "      <td>785-340-0661</td>\n",
       "      <td>627-60-2087</td>\n",
       "      <td>83946-5778</td>\n",
       "    </tr>\n",
       "  </tbody>\n",
       "</table>\n",
       "</div>"
      ],
      "text/plain": [
       "        Card_name         Phone          SSN         ZIP\n",
       "0    Sharon Jones  405-682-1878  638-63-1353  28339-8358\n",
       "1   Jennie Gibson  699-748-8901  136-64-4039  70945-8377\n",
       "2      Jeff Smith  669-762-0998  908-16-3295  92042-6295\n",
       "3  Joshua Berumen  785-340-0661  627-60-2087  83946-5778"
      ]
     },
     "execution_count": 4,
     "metadata": {},
     "output_type": "execute_result"
    }
   ],
   "source": [
    "# Generate fraudulent cardholders\n",
    "size = 4\n",
    "fraud_data = pd.DataFrame({'Card_name':gen_card_names(size),\n",
    "                     'ZIP':gen_ZIP4(size),\n",
    "                     'SSN':gen_SSN(size),\n",
    "                     'Phone':gen_phone(size)})\n",
    "fraud_data"
   ]
  },
  {
   "cell_type": "code",
   "execution_count": 9,
   "metadata": {},
   "outputs": [
    {
     "data": {
      "text/plain": [
       "(256, 4)"
      ]
     },
     "execution_count": 9,
     "metadata": {},
     "output_type": "execute_result"
    }
   ],
   "source": [
    "# Generate synthetic identities from the records\n",
    "listOLists = [fraud_data['Card_name'],fraud_data['ZIP'],fraud_data['SSN'],fraud_data['Phone']]\n",
    "index = pd.MultiIndex.from_product(listOLists, names = [\"Card_name\", \"ZIP\",\"SSN\",\"Phone\"])\n",
    "synthetic = pd.DataFrame(index = index).reset_index()\n",
    "synthetic.shape"
   ]
  },
  {
   "cell_type": "code",
   "execution_count": 11,
   "metadata": {
    "collapsed": true
   },
   "outputs": [],
   "source": [
    "import numpy\n",
    "# Combine the normal identities and synthetic identities to get the final dataset\n",
    "# Clear the existing indices by setting the ignore_index option to True.\n",
    "data = pd.concat([norm_data,synthetic],ignore_index=True)\n",
    "data['Identifier']= range(1, len(data) + 1)\n",
    "data['Amount']=random.sample(range(1, 9999), len(data))\n",
    "# Set the columns in desired order\n",
    "data = data[['Identifier', 'Card_name','SSN','ZIP','Phone','Amount']]\n",
    "data.head()\n",
    "data.to_csv(\"/Users/chriskuo/Downloads/data.csv\", index = False)\n",
    "synthetic.to_csv(\"/Users/chriskuo/Downloads/synthetic.csv\", index = False)"
   ]
  },
  {
   "cell_type": "markdown",
   "metadata": {},
   "source": [
    "\n",
    "## Graph database: Neo4j\n",
    "\n",
    "Graph databases, a very popular tools in graph databases.\n",
    "Why use a graph database? With graph databases you can store the relationships between the data, and observe those relationship really easily. Because the relationships in the data have meaning in themselves. \n",
    "\n",
    "\n",
    "(benefits of Neo4j)\n",
    "\n",
    "In the following you will learn what is a graph database and what is cypher query language SQL, and most of all, how to use the graph database tool to identify fraud ring.\n",
    "\n",
    "### How to start Neo4j?\n",
    "\n",
    "Click [here](https://neo4j.com/download/) to install Neo4j. I found it is easy to install on Windows. Mac users may find it much easier to use [homebrew to install Neo4j](http://brewformulas.org/Neo4j). Homebrew claims \"installing the stuff you need that Apple didn’t.\" It can be installed to your macOS by following this [guide](https://brew.sh/). On my machine it shows something like this. On my command prompt it returns \"Started Neo4j. It is available at http://localhost:7474/\". It means Neo4j is available in this local address. Copy \"http://localhost:7474/\" to a brower, you will see a graphical user interface (GUI) Neo4j brower. Now you have successfully open Neo4j! On top you will see a command line with a blinking cursor. In the middle you can click \"Learn about Neo4j\" to learn, or click \"Jump to code\" to enter your cyper query language.\n",
    "\n",
    "\n",
    "<img src=\"Neo4j brower.png\" alt=\"Drawing\" style=\"width: 600px;\"/>"
   ]
  },
  {
   "cell_type": "markdown",
   "metadata": {},
   "source": [
    "### Learn Basic Cypher Queries for Neo4J\n",
    "Neo4j uses a query language called <b>Cypher</b>. Below is an example of the basic Cyther statement. It creates two \"Cardholder\" nodes with properties of the nodes are \"Name\" and \"Age\". The first node is refered as c1, and the 2nd, c2."
   ]
  },
  {
   "cell_type": "code",
   "execution_count": null,
   "metadata": {
    "collapsed": true
   },
   "outputs": [],
   "source": [
    "// Create two nodes\n",
    "CREATE (c1:Cardholder { Name:\"John Appleseed\", Age:24 }),\n",
    "(c2:Cardholder { Name:\"Mary Ruth\", Age:55 }),\n",
    "(c3:Cardholder { Name:\"John Author\", Age:34 })\n",
    "RETURN c1,c2,c3"
   ]
  },
  {
   "cell_type": "markdown",
   "metadata": {},
   "source": [
    "<b>Node</b>: Remember a few things about the creation of a node\n",
    "* To create a node, use *CREATE*.\n",
    "* A node have a label. The \"Cardholder\" is the label.\n",
    "* We can assign a reference to a node. Here the reference is (c).\n",
    "* A node has properties that provide extra information about the node. There are two properties: \"Name\" and \"Age\".\n",
    "* To display a node, use *RETURN*. The node will be shown as a color circle with text.\n",
    "\n",
    "<b> Relationship: </b>\n",
    "The syntax to create a relationship is as simple as the following: Node (a) reports to Node (b). Nodes are represented by parentheses. Relationships are represented by arrows. And the relationship can be inserted between the square brackets."
   ]
  },
  {
   "cell_type": "code",
   "execution_count": null,
   "metadata": {
    "collapsed": true
   },
   "outputs": [],
   "source": [
    "// Create a relationship\n",
    "MATCH (a:Cardholder),(b:Cardholder)\n",
    "WHERE a.Name = \"John Appleseed\" AND b.Name = \"Mary Ruth\"\n",
    "CREATE (a)-[r:RELATED_TO]->(b)\n",
    "RETURN r"
   ]
  },
  {
   "cell_type": "markdown",
   "metadata": {},
   "source": [
    "The above statement does the following things:\n",
    "* MATCH statment to find the two nodes,\n",
    "* WHERE the two specific nodes are,\n",
    "* CREATE the relationship. The relationship is established an arrow indicating the direction of the relationship: (a)-[r:RELATED_TO]->(b). \"RELATED_TO\" is the label named by the coder for this relationship. You are free to use other labels such as \"REPORT_TO\", \"BELONG\", or \"z\".\n",
    "\n",
    "### Load a csv file \n",
    "Neo4j can easily load a csv file by using <b>LOAD CSV</b>. The easiest way to load data from CSV is to use the LOAD CSV statement. When your CSV file cotaining headers, you use HEADERS to load the headers. The LOAD CSV statement also supports common options, such as accessing via column header or column index, configuring the terminator character and other common options. For more instruction on how to load data into Neo4j, click [here](http://neo4j.com/docs/developer-manual/current/cypher/clauses/load-csv/).\n",
    "\n",
    "We will first use the file \"synthetic.csv\" to get you familiar with the basic syntax of Neo4j. The dataset synthetic.csv contains all the synthetic records. We will use this file to show the basic syntax. We then apply the same codes to the dataset data.csv to identify the fraud ring. "
   ]
  },
  {
   "cell_type": "code",
   "execution_count": null,
   "metadata": {
    "collapsed": true
   },
   "outputs": [],
   "source": [
    "LOAD CSV WITH HEADERS FROM \"file:///synthetic.csv\" AS row\n",
    "RETURN count(*);"
   ]
  },
  {
   "cell_type": "markdown",
   "metadata": {},
   "source": [
    "If the CSV file ia a large file, USING PERIODIC COMMIT can be used to instruct Neo4j to perform a commit after a number of rows. This can increase the efficiency by restricting the number of rows in the memory. The commit will happen every 1000 rows. The following example reduces to 500 rows."
   ]
  },
  {
   "cell_type": "code",
   "execution_count": null,
   "metadata": {
    "collapsed": true
   },
   "outputs": [],
   "source": [
    "USING PERIODIC COMMIT 500\n",
    "LOAD CSV WITH HEADERS FROM \"file:///synthetic.csv\" AS row\n",
    "RETURN count(*);"
   ]
  },
  {
   "cell_type": "markdown",
   "metadata": {},
   "source": [
    "### Create nodes and relationships\n",
    "Let's continue. The following statement a new node with the Cardholder label is created for each row in the CSV file. Also, two columns from the CSV file are set as properties on the nodes."
   ]
  },
  {
   "cell_type": "code",
   "execution_count": null,
   "metadata": {
    "collapsed": true
   },
   "outputs": [],
   "source": [
    "USING PERIODIC COMMIT 500\n",
    "LOAD CSV WITH HEADERS FROM \"file:///synthetic.csv\" AS row\n",
    "MERGE (c:Cardholder {name:row.Card_name, SSN: row.SSN})\n",
    "MERGE (s:ssn {SSN: row.SSN})\n",
    "return c,s"
   ]
  },
  {
   "cell_type": "markdown",
   "metadata": {},
   "source": [
    "We know there are duplicate SSN or Card_name in the dataset. If we use CREATE, it will create separate nodes for the SSNs and some can be duplicated. So we use a powerful statement MERGE. The MERGE statement creates a new node or relationship if not exists, or match to an existing node or relationship. Thus the nodes or relationships will be unique. We have used four SSNs and four card names to generate the synthetic records. Each SSN should associate with 4 names."
   ]
  },
  {
   "cell_type": "code",
   "execution_count": null,
   "metadata": {
    "collapsed": true
   },
   "outputs": [],
   "source": [
    "LOAD CSV WITH HEADERS FROM \"file:///synthetic.csv\" AS row\n",
    "MERGE (c:Card_name {name:row.Card_name, SSN: row.SSN})\n",
    "MERGE (s:ssn {SSN: row.SSN})\n",
    "MERGE (c)-[r:z]->(s)\n",
    "return c,s,r"
   ]
  },
  {
   "cell_type": "markdown",
   "metadata": {},
   "source": [
    "<img src=\"synthetic.png\" alt=\"insert here\" style=\"width: 600px;\"/>"
   ]
  },
  {
   "cell_type": "markdown",
   "metadata": {},
   "source": [
    "### Use Neo4j to identify the fraud"
   ]
  },
  {
   "cell_type": "code",
   "execution_count": null,
   "metadata": {
    "collapsed": true
   },
   "outputs": [],
   "source": [
    "LOAD CSV WITH HEADERS FROM \"file:///data.csv\" AS row\n",
    "MERGE (c:Card_name {name:row.Card_name, SSN: row.SSN})\n",
    "MERGE (s:ssn {SSN: row.SSN})\n",
    "MERGE (c)-[r:z]->(s)\n",
    "RETURN c,s,r"
   ]
  },
  {
   "cell_type": "markdown",
   "metadata": {},
   "source": [
    "Below is a screenshot showing the Card_names, SSN and the relationships. Not all the nodes and relationships are shown here. Also your result may be different from this image. Most of the results are one-to-one relationships between the names and the SSNs.\n",
    "<img src=\"Neo4j data all.png\" alt=\"insert here\" style=\"width: 600px;\"/>\n",
    "There will be SSNs associating with multiple card names. The code below counts the number of links between Card_name and SSN. By filtering the count more than 1, we can identify those accounts sharing the same SSNs. "
   ]
  },
  {
   "cell_type": "code",
   "execution_count": null,
   "metadata": {
    "collapsed": true
   },
   "outputs": [],
   "source": [
    "LOAD CSV WITH HEADERS FROM \"file:///data.csv\" AS row\n",
    "MERGE (c:Card_name {name:row.Card_name, SSN: row.SSN})\n",
    "MERGE (s:ssn {SSN: row.SSN})\n",
    "MERGE (c)-[r:z]->(s)\n",
    "WITH c, s,r,count(r) as f\n",
    "where f>1\n",
    "RETURN  c,s,r"
   ]
  },
  {
   "cell_type": "markdown",
   "metadata": {},
   "source": [
    "<img src=\"Neo4j data SSN.png\" alt=\"insert here\" style=\"width: 600px;\"/>\n",
    "\n",
    "We also can display the records in a list. Below the fraudulent account names are ranked in decending order by the number of SSN accociated with them."
   ]
  },
  {
   "cell_type": "code",
   "execution_count": null,
   "metadata": {
    "collapsed": true
   },
   "outputs": [],
   "source": [
    "LOAD CSV WITH HEADERS FROM \"file:///data.csv\" AS row\n",
    "MERGE (c:Card_name {name:row.Card_name, SSN: row.SSN})\n",
    "MERGE (s:ssn {SSN: row.SSN})\n",
    "MERGE (c)-[r:z]->(s)\n",
    "WITH c, count(r) as f\n",
    "where f>=16\n",
    "RETURN  c,f\n",
    "ORDER BY f DESC\n",
    "limit 10"
   ]
  },
  {
   "cell_type": "markdown",
   "metadata": {},
   "source": [
    "\n",
    "<img src=\"Neo4j data SSN list.png\" alt=\"insert here\" style=\"width: 500px;\"/>"
   ]
  }
 ],
 "metadata": {
  "kernelspec": {
   "display_name": "Python 3",
   "language": "python",
   "name": "python3"
  },
  "language_info": {
   "codemirror_mode": {
    "name": "ipython",
    "version": 3
   },
   "file_extension": ".py",
   "mimetype": "text/x-python",
   "name": "python",
   "nbconvert_exporter": "python",
   "pygments_lexer": "ipython3",
   "version": "3.6.4"
  }
 },
 "nbformat": 4,
 "nbformat_minor": 2
}
