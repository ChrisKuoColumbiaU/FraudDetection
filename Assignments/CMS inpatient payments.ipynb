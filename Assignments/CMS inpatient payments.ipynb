{
 "cells": [
  {
   "cell_type": "code",
   "execution_count": 30,
   "metadata": {},
   "outputs": [
    {
     "name": "stderr",
     "output_type": "stream",
     "text": [
      "Updating HTML index of packages in '.Library'\n",
      "Making 'packages.html' ... done\n"
     ]
    }
   ],
   "source": [
    "#install.packages(\"stringr\")\n",
    "#install.packages(\"ggthemes\")\n",
    "#install.packages(\"devtools\")\n",
    "#devtools::install_github(\"tidyverse/readr\")\n",
    "#install.packages(\"dplyr\")\n",
    "#install.packages(\"maps\")\n",
    "#install.packages(\"readr\")\n",
    "install.packages(\"ggplot2\")"
   ]
  },
  {
   "cell_type": "code",
   "execution_count": 31,
   "metadata": {},
   "outputs": [],
   "source": [
    "library(dplyr)\n",
    "library(stringr)\n",
    "library(maps)\n",
    "library(ggplot2)"
   ]
  },
  {
   "cell_type": "markdown",
   "metadata": {},
   "source": [
    "suppressPackageStartupMessages(library(tidyverse))\n",
    "library(stringr)\n",
    "library(ggthemes)\n",
    "library(dplyr)\n",
    "suppressPackageStartupMessages(library(maps))"
   ]
  },
  {
   "cell_type": "code",
   "execution_count": 9,
   "metadata": {
    "collapsed": true
   },
   "outputs": [],
   "source": [
    "charges <- read.csv('/Users/chriskuo/downloads/Inpatient_Payment.csv')"
   ]
  },
  {
   "cell_type": "code",
   "execution_count": 10,
   "metadata": {},
   "outputs": [
    {
     "name": "stdout",
     "output_type": "stream",
     "text": [
      "[1] \"Data size in RAM:\"\n",
      "36.1 Mb\n",
      "[1] \"Data.frame dimensions:\"\n",
      "[1] 163065     12\n"
     ]
    },
    {
     "data": {
      "text/html": [
       "<table>\n",
       "<thead><tr><th scope=col>DRG.Definition</th><th scope=col>Provider.Id</th><th scope=col>Provider.Name</th><th scope=col>Provider.Street.Address</th><th scope=col>Provider.City</th><th scope=col>Provider.State</th><th scope=col>Provider.Zip.Code</th><th scope=col>Hospital.Referral.Region.Description</th><th scope=col>Total.Discharges</th><th scope=col>Average.Covered.Charges</th><th scope=col>Average.Total.Payments</th><th scope=col>Average.Medicare.Payments</th></tr></thead>\n",
       "<tbody>\n",
       "\t<tr><td>039 - EXTRACRANIAL PROCEDURES W/O CC/MCC</td><td>10001                                   </td><td>SOUTHEAST ALABAMA MEDICAL CENTER        </td><td>1108 ROSS CLARK CIRCLE                  </td><td>DOTHAN                                  </td><td>AL                                      </td><td>36301                                   </td><td>AL - Dothan                             </td><td>91                                      </td><td>$32963.07                               </td><td>$5777.24                                </td><td>$4763.73                                </td></tr>\n",
       "\t<tr><td>039 - EXTRACRANIAL PROCEDURES W/O CC/MCC</td><td>10005                                   </td><td>MARSHALL MEDICAL CENTER SOUTH           </td><td>2505 U S HIGHWAY 431 NORTH              </td><td>BOAZ                                    </td><td>AL                                      </td><td>35957                                   </td><td>AL - Birmingham                         </td><td>14                                      </td><td>$15131.85                               </td><td>$5787.57                                </td><td>$4976.71                                </td></tr>\n",
       "\t<tr><td>039 - EXTRACRANIAL PROCEDURES W/O CC/MCC</td><td>10006                                   </td><td>ELIZA COFFEE MEMORIAL HOSPITAL          </td><td>205 MARENGO STREET                      </td><td>FLORENCE                                </td><td>AL                                      </td><td>35631                                   </td><td>AL - Birmingham                         </td><td>24                                      </td><td>$37560.37                               </td><td>$5434.95                                </td><td>$4453.79                                </td></tr>\n",
       "\t<tr><td>039 - EXTRACRANIAL PROCEDURES W/O CC/MCC</td><td>10011                                   </td><td>ST VINCENT'S EAST                       </td><td>50 MEDICAL PARK EAST DRIVE              </td><td>BIRMINGHAM                              </td><td>AL                                      </td><td>35235                                   </td><td>AL - Birmingham                         </td><td>25                                      </td><td>$13998.28                               </td><td>$5417.56                                </td><td>$4129.16                                </td></tr>\n",
       "\t<tr><td>039 - EXTRACRANIAL PROCEDURES W/O CC/MCC</td><td>10016                                   </td><td>SHELBY BAPTIST MEDICAL CENTER           </td><td>1000 FIRST STREET NORTH                 </td><td>ALABASTER                               </td><td>AL                                      </td><td>35007                                   </td><td>AL - Birmingham                         </td><td>18                                      </td><td>$31633.27                               </td><td>$5658.33                                </td><td>$4851.44                                </td></tr>\n",
       "\t<tr><td>039 - EXTRACRANIAL PROCEDURES W/O CC/MCC</td><td>10023                                   </td><td>BAPTIST MEDICAL CENTER SOUTH            </td><td>2105 EAST SOUTH BOULEVARD               </td><td>MONTGOMERY                              </td><td>AL                                      </td><td>36116                                   </td><td>AL - Montgomery                         </td><td>67                                      </td><td>$16920.79                               </td><td>$6653.80                                </td><td>$5374.14                                </td></tr>\n",
       "</tbody>\n",
       "</table>\n"
      ],
      "text/latex": [
       "\\begin{tabular}{r|llllllllllll}\n",
       " DRG.Definition & Provider.Id & Provider.Name & Provider.Street.Address & Provider.City & Provider.State & Provider.Zip.Code & Hospital.Referral.Region.Description & Total.Discharges & Average.Covered.Charges & Average.Total.Payments & Average.Medicare.Payments\\\\\n",
       "\\hline\n",
       "\t 039 - EXTRACRANIAL PROCEDURES W/O CC/MCC & 10001                                    & SOUTHEAST ALABAMA MEDICAL CENTER         & 1108 ROSS CLARK CIRCLE                   & DOTHAN                                   & AL                                       & 36301                                    & AL - Dothan                              & 91                                       & \\$32963.07                              & \\$5777.24                               & \\$4763.73                              \\\\\n",
       "\t 039 - EXTRACRANIAL PROCEDURES W/O CC/MCC & 10005                                    & MARSHALL MEDICAL CENTER SOUTH            & 2505 U S HIGHWAY 431 NORTH               & BOAZ                                     & AL                                       & 35957                                    & AL - Birmingham                          & 14                                       & \\$15131.85                              & \\$5787.57                               & \\$4976.71                              \\\\\n",
       "\t 039 - EXTRACRANIAL PROCEDURES W/O CC/MCC & 10006                                    & ELIZA COFFEE MEMORIAL HOSPITAL           & 205 MARENGO STREET                       & FLORENCE                                 & AL                                       & 35631                                    & AL - Birmingham                          & 24                                       & \\$37560.37                              & \\$5434.95                               & \\$4453.79                              \\\\\n",
       "\t 039 - EXTRACRANIAL PROCEDURES W/O CC/MCC & 10011                                    & ST VINCENT'S EAST                        & 50 MEDICAL PARK EAST DRIVE               & BIRMINGHAM                               & AL                                       & 35235                                    & AL - Birmingham                          & 25                                       & \\$13998.28                              & \\$5417.56                               & \\$4129.16                              \\\\\n",
       "\t 039 - EXTRACRANIAL PROCEDURES W/O CC/MCC & 10016                                    & SHELBY BAPTIST MEDICAL CENTER            & 1000 FIRST STREET NORTH                  & ALABASTER                                & AL                                       & 35007                                    & AL - Birmingham                          & 18                                       & \\$31633.27                              & \\$5658.33                               & \\$4851.44                              \\\\\n",
       "\t 039 - EXTRACRANIAL PROCEDURES W/O CC/MCC & 10023                                    & BAPTIST MEDICAL CENTER SOUTH             & 2105 EAST SOUTH BOULEVARD                & MONTGOMERY                               & AL                                       & 36116                                    & AL - Montgomery                          & 67                                       & \\$16920.79                              & \\$6653.80                               & \\$5374.14                              \\\\\n",
       "\\end{tabular}\n"
      ],
      "text/markdown": [
       "\n",
       "DRG.Definition | Provider.Id | Provider.Name | Provider.Street.Address | Provider.City | Provider.State | Provider.Zip.Code | Hospital.Referral.Region.Description | Total.Discharges | Average.Covered.Charges | Average.Total.Payments | Average.Medicare.Payments | \n",
       "|---|---|---|---|---|---|\n",
       "| 039 - EXTRACRANIAL PROCEDURES W/O CC/MCC | 10001                                    | SOUTHEAST ALABAMA MEDICAL CENTER         | 1108 ROSS CLARK CIRCLE                   | DOTHAN                                   | AL                                       | 36301                                    | AL - Dothan                              | 91                                       | $32963.07                                | $5777.24                                 | $4763.73                                 | \n",
       "| 039 - EXTRACRANIAL PROCEDURES W/O CC/MCC | 10005                                    | MARSHALL MEDICAL CENTER SOUTH            | 2505 U S HIGHWAY 431 NORTH               | BOAZ                                     | AL                                       | 35957                                    | AL - Birmingham                          | 14                                       | $15131.85                                | $5787.57                                 | $4976.71                                 | \n",
       "| 039 - EXTRACRANIAL PROCEDURES W/O CC/MCC | 10006                                    | ELIZA COFFEE MEMORIAL HOSPITAL           | 205 MARENGO STREET                       | FLORENCE                                 | AL                                       | 35631                                    | AL - Birmingham                          | 24                                       | $37560.37                                | $5434.95                                 | $4453.79                                 | \n",
       "| 039 - EXTRACRANIAL PROCEDURES W/O CC/MCC | 10011                                    | ST VINCENT'S EAST                        | 50 MEDICAL PARK EAST DRIVE               | BIRMINGHAM                               | AL                                       | 35235                                    | AL - Birmingham                          | 25                                       | $13998.28                                | $5417.56                                 | $4129.16                                 | \n",
       "| 039 - EXTRACRANIAL PROCEDURES W/O CC/MCC | 10016                                    | SHELBY BAPTIST MEDICAL CENTER            | 1000 FIRST STREET NORTH                  | ALABASTER                                | AL                                       | 35007                                    | AL - Birmingham                          | 18                                       | $31633.27                                | $5658.33                                 | $4851.44                                 | \n",
       "| 039 - EXTRACRANIAL PROCEDURES W/O CC/MCC | 10023                                    | BAPTIST MEDICAL CENTER SOUTH             | 2105 EAST SOUTH BOULEVARD                | MONTGOMERY                               | AL                                       | 36116                                    | AL - Montgomery                          | 67                                       | $16920.79                                | $6653.80                                 | $5374.14                                 | \n",
       "\n",
       "\n"
      ],
      "text/plain": [
       "  DRG.Definition                           Provider.Id\n",
       "1 039 - EXTRACRANIAL PROCEDURES W/O CC/MCC 10001      \n",
       "2 039 - EXTRACRANIAL PROCEDURES W/O CC/MCC 10005      \n",
       "3 039 - EXTRACRANIAL PROCEDURES W/O CC/MCC 10006      \n",
       "4 039 - EXTRACRANIAL PROCEDURES W/O CC/MCC 10011      \n",
       "5 039 - EXTRACRANIAL PROCEDURES W/O CC/MCC 10016      \n",
       "6 039 - EXTRACRANIAL PROCEDURES W/O CC/MCC 10023      \n",
       "  Provider.Name                    Provider.Street.Address    Provider.City\n",
       "1 SOUTHEAST ALABAMA MEDICAL CENTER 1108 ROSS CLARK CIRCLE     DOTHAN       \n",
       "2 MARSHALL MEDICAL CENTER SOUTH    2505 U S HIGHWAY 431 NORTH BOAZ         \n",
       "3 ELIZA COFFEE MEMORIAL HOSPITAL   205 MARENGO STREET         FLORENCE     \n",
       "4 ST VINCENT'S EAST                50 MEDICAL PARK EAST DRIVE BIRMINGHAM   \n",
       "5 SHELBY BAPTIST MEDICAL CENTER    1000 FIRST STREET NORTH    ALABASTER    \n",
       "6 BAPTIST MEDICAL CENTER SOUTH     2105 EAST SOUTH BOULEVARD  MONTGOMERY   \n",
       "  Provider.State Provider.Zip.Code Hospital.Referral.Region.Description\n",
       "1 AL             36301             AL - Dothan                         \n",
       "2 AL             35957             AL - Birmingham                     \n",
       "3 AL             35631             AL - Birmingham                     \n",
       "4 AL             35235             AL - Birmingham                     \n",
       "5 AL             35007             AL - Birmingham                     \n",
       "6 AL             36116             AL - Montgomery                     \n",
       "  Total.Discharges Average.Covered.Charges Average.Total.Payments\n",
       "1 91               $32963.07               $5777.24              \n",
       "2 14               $15131.85               $5787.57              \n",
       "3 24               $37560.37               $5434.95              \n",
       "4 25               $13998.28               $5417.56              \n",
       "5 18               $31633.27               $5658.33              \n",
       "6 67               $16920.79               $6653.80              \n",
       "  Average.Medicare.Payments\n",
       "1 $4763.73                 \n",
       "2 $4976.71                 \n",
       "3 $4453.79                 \n",
       "4 $4129.16                 \n",
       "5 $4851.44                 \n",
       "6 $5374.14                 "
      ]
     },
     "metadata": {},
     "output_type": "display_data"
    }
   ],
   "source": [
    "print(\"Data size in RAM:\")\n",
    "print(object.size(charges), units = 'Mb')\n",
    "\n",
    "print(\"Data.frame dimensions:\")\n",
    "print(dim(charges))\n",
    "\n",
    "head(charges)"
   ]
  },
  {
   "cell_type": "code",
   "execution_count": 14,
   "metadata": {
    "collapsed": true
   },
   "outputs": [],
   "source": [
    "names(charges) <- c('drg_def', 'prov_id', 'prov_name', 'prov_address', 'prov_city', 'prov_state', \n",
    "                   'prov_zip', 'referral_reg', 'total_discharges', 'mean_covered_charges',\n",
    "                   'mean_total_payments', 'mean_medicare_payments')"
   ]
  },
  {
   "cell_type": "markdown",
   "metadata": {},
   "source": [
    "##### Note: \n",
    "All the variants of summarise, mutate and transmute() make the tasks easy to apply to selected variables.\n",
    "* summarise_all(), summarise_if(), summarise_at(), summarize_all(), summarize_if(), summarize_at(), \n",
    "* mutate_all(), mutate_if(), mutate_at(), \n",
    "* transmute_all(), transmute_if(), transmute_at()\n",
    "\n",
    "There are three variants.\n",
    "* _all(): apples every variable.\n",
    "* _if(): apples variables selected with a predicate function.\n",
    "* _at(): applies variables selected with a character vector or vars()."
   ]
  },
  {
   "cell_type": "code",
   "execution_count": 15,
   "metadata": {},
   "outputs": [
    {
     "data": {
      "text/html": [
       "<table>\n",
       "<thead><tr><th scope=col>drg_def</th><th scope=col>prov_id</th><th scope=col>prov_name</th><th scope=col>prov_address</th><th scope=col>prov_city</th><th scope=col>prov_state</th><th scope=col>prov_zip</th><th scope=col>referral_reg</th><th scope=col>total_discharges</th><th scope=col>mean_covered_charges</th><th scope=col>mean_total_payments</th><th scope=col>mean_medicare_payments</th></tr></thead>\n",
       "<tbody>\n",
       "\t<tr><td>039 - EXTRACRANIAL PROCEDURES W/O CC/MCC</td><td>10001                                   </td><td>SOUTHEAST ALABAMA MEDICAL CENTER        </td><td>1108 ROSS CLARK CIRCLE                  </td><td>DOTHAN                                  </td><td>AL                                      </td><td>36301                                   </td><td>AL - Dothan                             </td><td>91                                      </td><td>32963.07                                </td><td>5777.24                                 </td><td>4763.73                                 </td></tr>\n",
       "\t<tr><td>039 - EXTRACRANIAL PROCEDURES W/O CC/MCC</td><td>10005                                   </td><td>MARSHALL MEDICAL CENTER SOUTH           </td><td>2505 U S HIGHWAY 431 NORTH              </td><td>BOAZ                                    </td><td>AL                                      </td><td>35957                                   </td><td>AL - Birmingham                         </td><td>14                                      </td><td>15131.85                                </td><td>5787.57                                 </td><td>4976.71                                 </td></tr>\n",
       "\t<tr><td>039 - EXTRACRANIAL PROCEDURES W/O CC/MCC</td><td>10006                                   </td><td>ELIZA COFFEE MEMORIAL HOSPITAL          </td><td>205 MARENGO STREET                      </td><td>FLORENCE                                </td><td>AL                                      </td><td>35631                                   </td><td>AL - Birmingham                         </td><td>24                                      </td><td>37560.37                                </td><td>5434.95                                 </td><td>4453.79                                 </td></tr>\n",
       "\t<tr><td>039 - EXTRACRANIAL PROCEDURES W/O CC/MCC</td><td>10011                                   </td><td>ST VINCENT'S EAST                       </td><td>50 MEDICAL PARK EAST DRIVE              </td><td>BIRMINGHAM                              </td><td>AL                                      </td><td>35235                                   </td><td>AL - Birmingham                         </td><td>25                                      </td><td>13998.28                                </td><td>5417.56                                 </td><td>4129.16                                 </td></tr>\n",
       "\t<tr><td>039 - EXTRACRANIAL PROCEDURES W/O CC/MCC</td><td>10016                                   </td><td>SHELBY BAPTIST MEDICAL CENTER           </td><td>1000 FIRST STREET NORTH                 </td><td>ALABASTER                               </td><td>AL                                      </td><td>35007                                   </td><td>AL - Birmingham                         </td><td>18                                      </td><td>31633.27                                </td><td>5658.33                                 </td><td>4851.44                                 </td></tr>\n",
       "\t<tr><td>039 - EXTRACRANIAL PROCEDURES W/O CC/MCC</td><td>10023                                   </td><td>BAPTIST MEDICAL CENTER SOUTH            </td><td>2105 EAST SOUTH BOULEVARD               </td><td>MONTGOMERY                              </td><td>AL                                      </td><td>36116                                   </td><td>AL - Montgomery                         </td><td>67                                      </td><td>16920.79                                </td><td>6653.80                                 </td><td>5374.14                                 </td></tr>\n",
       "</tbody>\n",
       "</table>\n"
      ],
      "text/latex": [
       "\\begin{tabular}{r|llllllllllll}\n",
       " drg\\_def & prov\\_id & prov\\_name & prov\\_address & prov\\_city & prov\\_state & prov\\_zip & referral\\_reg & total\\_discharges & mean\\_covered\\_charges & mean\\_total\\_payments & mean\\_medicare\\_payments\\\\\n",
       "\\hline\n",
       "\t 039 - EXTRACRANIAL PROCEDURES W/O CC/MCC & 10001                                    & SOUTHEAST ALABAMA MEDICAL CENTER         & 1108 ROSS CLARK CIRCLE                   & DOTHAN                                   & AL                                       & 36301                                    & AL - Dothan                              & 91                                       & 32963.07                                 & 5777.24                                  & 4763.73                                 \\\\\n",
       "\t 039 - EXTRACRANIAL PROCEDURES W/O CC/MCC & 10005                                    & MARSHALL MEDICAL CENTER SOUTH            & 2505 U S HIGHWAY 431 NORTH               & BOAZ                                     & AL                                       & 35957                                    & AL - Birmingham                          & 14                                       & 15131.85                                 & 5787.57                                  & 4976.71                                 \\\\\n",
       "\t 039 - EXTRACRANIAL PROCEDURES W/O CC/MCC & 10006                                    & ELIZA COFFEE MEMORIAL HOSPITAL           & 205 MARENGO STREET                       & FLORENCE                                 & AL                                       & 35631                                    & AL - Birmingham                          & 24                                       & 37560.37                                 & 5434.95                                  & 4453.79                                 \\\\\n",
       "\t 039 - EXTRACRANIAL PROCEDURES W/O CC/MCC & 10011                                    & ST VINCENT'S EAST                        & 50 MEDICAL PARK EAST DRIVE               & BIRMINGHAM                               & AL                                       & 35235                                    & AL - Birmingham                          & 25                                       & 13998.28                                 & 5417.56                                  & 4129.16                                 \\\\\n",
       "\t 039 - EXTRACRANIAL PROCEDURES W/O CC/MCC & 10016                                    & SHELBY BAPTIST MEDICAL CENTER            & 1000 FIRST STREET NORTH                  & ALABASTER                                & AL                                       & 35007                                    & AL - Birmingham                          & 18                                       & 31633.27                                 & 5658.33                                  & 4851.44                                 \\\\\n",
       "\t 039 - EXTRACRANIAL PROCEDURES W/O CC/MCC & 10023                                    & BAPTIST MEDICAL CENTER SOUTH             & 2105 EAST SOUTH BOULEVARD                & MONTGOMERY                               & AL                                       & 36116                                    & AL - Montgomery                          & 67                                       & 16920.79                                 & 6653.80                                  & 5374.14                                 \\\\\n",
       "\\end{tabular}\n"
      ],
      "text/markdown": [
       "\n",
       "drg_def | prov_id | prov_name | prov_address | prov_city | prov_state | prov_zip | referral_reg | total_discharges | mean_covered_charges | mean_total_payments | mean_medicare_payments | \n",
       "|---|---|---|---|---|---|\n",
       "| 039 - EXTRACRANIAL PROCEDURES W/O CC/MCC | 10001                                    | SOUTHEAST ALABAMA MEDICAL CENTER         | 1108 ROSS CLARK CIRCLE                   | DOTHAN                                   | AL                                       | 36301                                    | AL - Dothan                              | 91                                       | 32963.07                                 | 5777.24                                  | 4763.73                                  | \n",
       "| 039 - EXTRACRANIAL PROCEDURES W/O CC/MCC | 10005                                    | MARSHALL MEDICAL CENTER SOUTH            | 2505 U S HIGHWAY 431 NORTH               | BOAZ                                     | AL                                       | 35957                                    | AL - Birmingham                          | 14                                       | 15131.85                                 | 5787.57                                  | 4976.71                                  | \n",
       "| 039 - EXTRACRANIAL PROCEDURES W/O CC/MCC | 10006                                    | ELIZA COFFEE MEMORIAL HOSPITAL           | 205 MARENGO STREET                       | FLORENCE                                 | AL                                       | 35631                                    | AL - Birmingham                          | 24                                       | 37560.37                                 | 5434.95                                  | 4453.79                                  | \n",
       "| 039 - EXTRACRANIAL PROCEDURES W/O CC/MCC | 10011                                    | ST VINCENT'S EAST                        | 50 MEDICAL PARK EAST DRIVE               | BIRMINGHAM                               | AL                                       | 35235                                    | AL - Birmingham                          | 25                                       | 13998.28                                 | 5417.56                                  | 4129.16                                  | \n",
       "| 039 - EXTRACRANIAL PROCEDURES W/O CC/MCC | 10016                                    | SHELBY BAPTIST MEDICAL CENTER            | 1000 FIRST STREET NORTH                  | ALABASTER                                | AL                                       | 35007                                    | AL - Birmingham                          | 18                                       | 31633.27                                 | 5658.33                                  | 4851.44                                  | \n",
       "| 039 - EXTRACRANIAL PROCEDURES W/O CC/MCC | 10023                                    | BAPTIST MEDICAL CENTER SOUTH             | 2105 EAST SOUTH BOULEVARD                | MONTGOMERY                               | AL                                       | 36116                                    | AL - Montgomery                          | 67                                       | 16920.79                                 | 6653.80                                  | 5374.14                                  | \n",
       "\n",
       "\n"
      ],
      "text/plain": [
       "  drg_def                                  prov_id\n",
       "1 039 - EXTRACRANIAL PROCEDURES W/O CC/MCC 10001  \n",
       "2 039 - EXTRACRANIAL PROCEDURES W/O CC/MCC 10005  \n",
       "3 039 - EXTRACRANIAL PROCEDURES W/O CC/MCC 10006  \n",
       "4 039 - EXTRACRANIAL PROCEDURES W/O CC/MCC 10011  \n",
       "5 039 - EXTRACRANIAL PROCEDURES W/O CC/MCC 10016  \n",
       "6 039 - EXTRACRANIAL PROCEDURES W/O CC/MCC 10023  \n",
       "  prov_name                        prov_address               prov_city \n",
       "1 SOUTHEAST ALABAMA MEDICAL CENTER 1108 ROSS CLARK CIRCLE     DOTHAN    \n",
       "2 MARSHALL MEDICAL CENTER SOUTH    2505 U S HIGHWAY 431 NORTH BOAZ      \n",
       "3 ELIZA COFFEE MEMORIAL HOSPITAL   205 MARENGO STREET         FLORENCE  \n",
       "4 ST VINCENT'S EAST                50 MEDICAL PARK EAST DRIVE BIRMINGHAM\n",
       "5 SHELBY BAPTIST MEDICAL CENTER    1000 FIRST STREET NORTH    ALABASTER \n",
       "6 BAPTIST MEDICAL CENTER SOUTH     2105 EAST SOUTH BOULEVARD  MONTGOMERY\n",
       "  prov_state prov_zip referral_reg    total_discharges mean_covered_charges\n",
       "1 AL         36301    AL - Dothan     91               32963.07            \n",
       "2 AL         35957    AL - Birmingham 14               15131.85            \n",
       "3 AL         35631    AL - Birmingham 24               37560.37            \n",
       "4 AL         35235    AL - Birmingham 25               13998.28            \n",
       "5 AL         35007    AL - Birmingham 18               31633.27            \n",
       "6 AL         36116    AL - Montgomery 67               16920.79            \n",
       "  mean_total_payments mean_medicare_payments\n",
       "1 5777.24             4763.73               \n",
       "2 5787.57             4976.71               \n",
       "3 5434.95             4453.79               \n",
       "4 5417.56             4129.16               \n",
       "5 5658.33             4851.44               \n",
       "6 6653.80             5374.14               "
      ]
     },
     "metadata": {},
     "output_type": "display_data"
    }
   ],
   "source": [
    "remove_dollar <- function(x) {\n",
    "    as.numeric(str_replace(x, '\\\\$', ''))\n",
    "}\n",
    "\n",
    "charges <- charges %>% \n",
    "    mutate_at(vars(mean_covered_charges, mean_total_payments, mean_medicare_payments), \n",
    "              remove_dollar)\n",
    "head(charges)"
   ]
  },
  {
   "cell_type": "markdown",
   "metadata": {},
   "source": [
    "## Exploratory Data Analysis (EDA)"
   ]
  },
  {
   "cell_type": "markdown",
   "metadata": {},
   "source": [
    "#### DRG: Diagnosis Related Group\n",
    "A classification system of diagnosis used by Medicare & Medicaid that groups patients according to diagnosis, type of treatment, age, and other relevant criteria, regardless the actual cost of care for the individual. DRGs are assigned based on ICD (International Classification of Diseases) diagnoses, procedures, age, sex, discharge status, and the presence of complications or comorbidities. DRGs have been used in the US since 1982 to determine how much Medicare pays the hospital for each \"product\", since patients within each category are clinically similar and are expected to use the same level of hospital resources. DRGs may be further grouped into Major Diagnostic Categories (MDCs). DRGs are also standard practice for establishing reimbursements for other Medicare related reimbursements such as to home healthcare providers.[citation needed]\n",
    "\n",
    "#### What are the top ten most common procedures."
   ]
  },
  {
   "cell_type": "code",
   "execution_count": 17,
   "metadata": {},
   "outputs": [
    {
     "data": {
      "text/html": [
       "<table>\n",
       "<thead><tr><th scope=col>drg_def</th><th scope=col>n</th></tr></thead>\n",
       "<tbody>\n",
       "\t<tr><td><span style=white-space:pre-wrap>194 - SIMPLE PNEUMONIA &amp; PLEURISY W CC                                  </span></td><td>3023                                                                                                                </td></tr>\n",
       "\t<tr><td><span style=white-space:pre-wrap>690 - KIDNEY &amp; URINARY TRACT INFECTIONS W/O MCC                         </span></td><td>2989                                                                                                                </td></tr>\n",
       "\t<tr><td><span style=white-space:pre-wrap>292 - HEART FAILURE &amp; SHOCK W CC                                        </span></td><td>2953                                                                                                                </td></tr>\n",
       "\t<tr><td><span style=white-space:pre-wrap>392 - ESOPHAGITIS, GASTROENT &amp; MISC DIGEST DISORDERS W/O MCC            </span></td><td>2950                                                                                                                </td></tr>\n",
       "\t<tr><td>641 - MISC DISORDERS OF NUTRITION,METABOLISM,FLUIDS/ELECTROLYTES W/O MCC</td><td>2899                                                                    </td></tr>\n",
       "\t<tr><td>871 - SEPTICEMIA OR SEVERE SEPSIS W/O MV 96+ HOURS W MCC                </td><td>2812                                                                    </td></tr>\n",
       "\t<tr><td>603 - CELLULITIS W/O MCC                                                </td><td>2807                                                                    </td></tr>\n",
       "\t<tr><td>470 - MAJOR JOINT REPLACEMENT OR REATTACHMENT OF LOWER EXTREMITY W/O MCC</td><td>2750                                                                    </td></tr>\n",
       "\t<tr><td>191 - CHRONIC OBSTRUCTIVE PULMONARY DISEASE W CC                        </td><td>2720                                                                    </td></tr>\n",
       "\t<tr><td>190 - CHRONIC OBSTRUCTIVE PULMONARY DISEASE W MCC                       </td><td>2713                                                                    </td></tr>\n",
       "</tbody>\n",
       "</table>\n"
      ],
      "text/latex": [
       "\\begin{tabular}{r|ll}\n",
       " drg\\_def & n\\\\\n",
       "\\hline\n",
       "\t 194 - SIMPLE PNEUMONIA \\& PLEURISY W CC                                   & 3023                                                                      \\\\\n",
       "\t 690 - KIDNEY \\& URINARY TRACT INFECTIONS W/O MCC                          & 2989                                                                      \\\\\n",
       "\t 292 - HEART FAILURE \\& SHOCK W CC                                         & 2953                                                                      \\\\\n",
       "\t 392 - ESOPHAGITIS, GASTROENT \\& MISC DIGEST DISORDERS W/O MCC             & 2950                                                                      \\\\\n",
       "\t 641 - MISC DISORDERS OF NUTRITION,METABOLISM,FLUIDS/ELECTROLYTES W/O MCC & 2899                                                                    \\\\\n",
       "\t 871 - SEPTICEMIA OR SEVERE SEPSIS W/O MV 96+ HOURS W MCC                 & 2812                                                                    \\\\\n",
       "\t 603 - CELLULITIS W/O MCC                                                 & 2807                                                                    \\\\\n",
       "\t 470 - MAJOR JOINT REPLACEMENT OR REATTACHMENT OF LOWER EXTREMITY W/O MCC & 2750                                                                    \\\\\n",
       "\t 191 - CHRONIC OBSTRUCTIVE PULMONARY DISEASE W CC                         & 2720                                                                    \\\\\n",
       "\t 190 - CHRONIC OBSTRUCTIVE PULMONARY DISEASE W MCC                        & 2713                                                                    \\\\\n",
       "\\end{tabular}\n"
      ],
      "text/markdown": [
       "\n",
       "drg_def | n | \n",
       "|---|---|---|---|---|---|---|---|---|---|\n",
       "| 194 - SIMPLE PNEUMONIA & PLEURISY W CC                                   | 3023                                                                     | \n",
       "| 690 - KIDNEY & URINARY TRACT INFECTIONS W/O MCC                          | 2989                                                                     | \n",
       "| 292 - HEART FAILURE & SHOCK W CC                                         | 2953                                                                     | \n",
       "| 392 - ESOPHAGITIS, GASTROENT & MISC DIGEST DISORDERS W/O MCC             | 2950                                                                     | \n",
       "| 641 - MISC DISORDERS OF NUTRITION,METABOLISM,FLUIDS/ELECTROLYTES W/O MCC | 2899                                                                     | \n",
       "| 871 - SEPTICEMIA OR SEVERE SEPSIS W/O MV 96+ HOURS W MCC                 | 2812                                                                     | \n",
       "| 603 - CELLULITIS W/O MCC                                                 | 2807                                                                     | \n",
       "| 470 - MAJOR JOINT REPLACEMENT OR REATTACHMENT OF LOWER EXTREMITY W/O MCC | 2750                                                                     | \n",
       "| 191 - CHRONIC OBSTRUCTIVE PULMONARY DISEASE W CC                         | 2720                                                                     | \n",
       "| 190 - CHRONIC OBSTRUCTIVE PULMONARY DISEASE W MCC                        | 2713                                                                     | \n",
       "\n",
       "\n"
      ],
      "text/plain": [
       "   drg_def                                                                 \n",
       "1  194 - SIMPLE PNEUMONIA & PLEURISY W CC                                  \n",
       "2  690 - KIDNEY & URINARY TRACT INFECTIONS W/O MCC                         \n",
       "3  292 - HEART FAILURE & SHOCK W CC                                        \n",
       "4  392 - ESOPHAGITIS, GASTROENT & MISC DIGEST DISORDERS W/O MCC            \n",
       "5  641 - MISC DISORDERS OF NUTRITION,METABOLISM,FLUIDS/ELECTROLYTES W/O MCC\n",
       "6  871 - SEPTICEMIA OR SEVERE SEPSIS W/O MV 96+ HOURS W MCC                \n",
       "7  603 - CELLULITIS W/O MCC                                                \n",
       "8  470 - MAJOR JOINT REPLACEMENT OR REATTACHMENT OF LOWER EXTREMITY W/O MCC\n",
       "9  191 - CHRONIC OBSTRUCTIVE PULMONARY DISEASE W CC                        \n",
       "10 190 - CHRONIC OBSTRUCTIVE PULMONARY DISEASE W MCC                       \n",
       "   n   \n",
       "1  3023\n",
       "2  2989\n",
       "3  2953\n",
       "4  2950\n",
       "5  2899\n",
       "6  2812\n",
       "7  2807\n",
       "8  2750\n",
       "9  2720\n",
       "10 2713"
      ]
     },
     "metadata": {},
     "output_type": "display_data"
    }
   ],
   "source": [
    "charges %>%\n",
    "    group_by(drg_def) %>%\n",
    "    summarize(n = n()) %>%\n",
    "    arrange(-n) %>% # Use arrange to sort in descending order\n",
    "    head(10)"
   ]
  },
  {
   "cell_type": "code",
   "execution_count": 34,
   "metadata": {},
   "outputs": [],
   "source": [
    "# https://www.cms.gov/icd10manual/fullcode_cms/P0002.html\n",
    "procDF <- charges %>% # aggregate  procedures from all hospitals\n",
    "  group_by(drg_def) %>% \n",
    "  summarise(procSum = sum(total_discharges))\n",
    "\n",
    "#procDF <- data.frame(procDF)\n",
    "#procDF <- procDF[order(-procDF$procSum),] # sort by #procedures\n",
    "\n",
    "#x <- list(  title = \"procedure type\")\n",
    "#y <- list(  title = \"procedure count\")"
   ]
  },
  {
   "cell_type": "code",
   "execution_count": 35,
   "metadata": {},
   "outputs": [
    {
     "data": {
      "text/html": [
       "<table>\n",
       "<thead><tr><th scope=col>drg_def</th><th scope=col>procSum</th></tr></thead>\n",
       "<tbody>\n",
       "\t<tr><td>039 - EXTRACRANIAL PROCEDURES W/O CC/MCC                       </td><td> 33606                                                         </td></tr>\n",
       "\t<tr><td>057 - DEGENERATIVE NERVOUS SYSTEM DISORDERS W/O MCC            </td><td> 30212                                                         </td></tr>\n",
       "\t<tr><td>064 - INTRACRANIAL HEMORRHAGE OR CEREBRAL INFARCTION W MCC     </td><td> 62093                                                         </td></tr>\n",
       "\t<tr><td>065 - INTRACRANIAL HEMORRHAGE OR CEREBRAL INFARCTION W CC      </td><td>106414                                                         </td></tr>\n",
       "\t<tr><td>066 - INTRACRANIAL HEMORRHAGE OR CEREBRAL INFARCTION W/O CC/MCC</td><td> 55849                                                         </td></tr>\n",
       "\t<tr><td>069 - TRANSIENT ISCHEMIA                                       </td><td> 79590                                                         </td></tr>\n",
       "</tbody>\n",
       "</table>\n"
      ],
      "text/latex": [
       "\\begin{tabular}{r|ll}\n",
       " drg\\_def & procSum\\\\\n",
       "\\hline\n",
       "\t 039 - EXTRACRANIAL PROCEDURES W/O CC/MCC                        &  33606                                                         \\\\\n",
       "\t 057 - DEGENERATIVE NERVOUS SYSTEM DISORDERS W/O MCC             &  30212                                                         \\\\\n",
       "\t 064 - INTRACRANIAL HEMORRHAGE OR CEREBRAL INFARCTION W MCC      &  62093                                                         \\\\\n",
       "\t 065 - INTRACRANIAL HEMORRHAGE OR CEREBRAL INFARCTION W CC       & 106414                                                         \\\\\n",
       "\t 066 - INTRACRANIAL HEMORRHAGE OR CEREBRAL INFARCTION W/O CC/MCC &  55849                                                         \\\\\n",
       "\t 069 - TRANSIENT ISCHEMIA                                        &  79590                                                         \\\\\n",
       "\\end{tabular}\n"
      ],
      "text/markdown": [
       "\n",
       "drg_def | procSum | \n",
       "|---|---|---|---|---|---|\n",
       "| 039 - EXTRACRANIAL PROCEDURES W/O CC/MCC                        |  33606                                                          | \n",
       "| 057 - DEGENERATIVE NERVOUS SYSTEM DISORDERS W/O MCC             |  30212                                                          | \n",
       "| 064 - INTRACRANIAL HEMORRHAGE OR CEREBRAL INFARCTION W MCC      |  62093                                                          | \n",
       "| 065 - INTRACRANIAL HEMORRHAGE OR CEREBRAL INFARCTION W CC       | 106414                                                          | \n",
       "| 066 - INTRACRANIAL HEMORRHAGE OR CEREBRAL INFARCTION W/O CC/MCC |  55849                                                          | \n",
       "| 069 - TRANSIENT ISCHEMIA                                        |  79590                                                          | \n",
       "\n",
       "\n"
      ],
      "text/plain": [
       "  drg_def                                                         procSum\n",
       "1 039 - EXTRACRANIAL PROCEDURES W/O CC/MCC                         33606 \n",
       "2 057 - DEGENERATIVE NERVOUS SYSTEM DISORDERS W/O MCC              30212 \n",
       "3 064 - INTRACRANIAL HEMORRHAGE OR CEREBRAL INFARCTION W MCC       62093 \n",
       "4 065 - INTRACRANIAL HEMORRHAGE OR CEREBRAL INFARCTION W CC       106414 \n",
       "5 066 - INTRACRANIAL HEMORRHAGE OR CEREBRAL INFARCTION W/O CC/MCC  55849 \n",
       "6 069 - TRANSIENT ISCHEMIA                                         79590 "
      ]
     },
     "metadata": {},
     "output_type": "display_data"
    }
   ],
   "source": [
    "head(procDF)"
   ]
  },
  {
   "cell_type": "code",
   "execution_count": 39,
   "metadata": {},
   "outputs": [
    {
     "data": {},
     "metadata": {},
     "output_type": "display_data"
    },
    {
     "data": {},
     "metadata": {},
     "output_type": "display_data"
    },
    {
     "ename": "ERROR",
     "evalue": "Error in dev.off(): QuartzBitmap_Output - unable to open file '/var/folders/jw/wyhtzlf94zbgtpf9g_n5tryr0000gn/T//Rtmps8NJjv/file301b5df5a074.png'\n",
     "output_type": "error",
     "traceback": [
      "Error in dev.off(): QuartzBitmap_Output - unable to open file '/var/folders/jw/wyhtzlf94zbgtpf9g_n5tryr0000gn/T//Rtmps8NJjv/file301b5df5a074.png'\nTraceback:\n"
     ]
    },
    {
     "data": {
      "text/plain": [
       "plot without title"
      ]
     },
     "metadata": {},
     "output_type": "display_data"
    },
    {
     "ename": "ERROR",
     "evalue": "Error in dev.off(): QuartzBitmap_Output - unable to open file '/var/folders/jw/wyhtzlf94zbgtpf9g_n5tryr0000gn/T//Rtmps8NJjv/file301b10fe2034.png'\n",
     "output_type": "error",
     "traceback": [
      "Error in dev.off(): QuartzBitmap_Output - unable to open file '/var/folders/jw/wyhtzlf94zbgtpf9g_n5tryr0000gn/T//Rtmps8NJjv/file301b10fe2034.png'\nTraceback:\n"
     ]
    },
    {
     "data": {
      "text/plain": [
       "plot without title"
      ]
     },
     "metadata": {},
     "output_type": "display_data"
    }
   ],
   "source": [
    "ggplot(data=procDF, aes(x=drg_def, y=procSum))\n",
    "\n",
    "# geom_bar is designed to make it easy to create bar charts that show counts\n",
    "g <- ggplot(procDF, aes(drg_def,procSum))\n",
    "g + geom_bar(stat = \"identity\", aes(fill = type))\n"
   ]
  },
  {
   "cell_type": "code",
   "execution_count": 44,
   "metadata": {},
   "outputs": [
    {
     "ename": "ERROR",
     "evalue": "Error in dev.off(): QuartzBitmap_Output - unable to open file '/var/folders/jw/wyhtzlf94zbgtpf9g_n5tryr0000gn/T//Rtmps8NJjv/file301b1e6b2635.png'\n",
     "output_type": "error",
     "traceback": [
      "Error in dev.off(): QuartzBitmap_Output - unable to open file '/var/folders/jw/wyhtzlf94zbgtpf9g_n5tryr0000gn/T//Rtmps8NJjv/file301b1e6b2635.png'\nTraceback:\n"
     ]
    },
    {
     "data": {
      "text/plain": [
       "Plot with title “DRG”"
      ]
     },
     "metadata": {},
     "output_type": "display_data"
    }
   ],
   "source": [
    "# Simple Bar Plot \n",
    "counts <- table(procDF$procSum)\n",
    "barplot(counts, main=\"DRG\", \n",
    "  \txlab=\"Total\")"
   ]
  },
  {
   "cell_type": "code",
   "execution_count": 43,
   "metadata": {
    "collapsed": true
   },
   "outputs": [],
   "source": [
    "setwd(\"/Users/chriskuo/downloads\")"
   ]
  },
  {
   "cell_type": "code",
   "execution_count": 32,
   "metadata": {},
   "outputs": [
    {
     "ename": "ERROR",
     "evalue": "Error: Result 160 is not a length 1 atomic vector\n",
     "output_type": "error",
     "traceback": [
      "Error: Result 160 is not a length 1 atomic vector\nTraceback:\n",
      "1. map_chr(charges$prov_state, function(x) {\n .     tolower(state.name[grep(x, state.abb)])\n . })"
     ]
    }
   ],
   "source": [
    "# Add codes for DC and Puerto Rico to the default state lists\n",
    "state.abb <- append(state.abb, c(\"DC\"))\n",
    "state.name <- append(state.name, c(\"District of Columbia\"))\n",
    "\n",
    "# Map the state abbreviations to state names so we can join with the map data\n",
    "charges$region <- map_chr(charges$prov_state, function(x) { tolower(state.name[grep(x, state.abb)]) })\n",
    "\n",
    "# Get the us state map data\n",
    "state_map <- map_data('state')"
   ]
  },
  {
   "cell_type": "code",
   "execution_count": 7,
   "metadata": {},
   "outputs": [
    {
     "ename": "ERROR",
     "evalue": "Error in map_data(\"state\"): could not find function \"map_data\"\n",
     "output_type": "error",
     "traceback": [
      "Error in map_data(\"state\"): could not find function \"map_data\"\nTraceback:\n"
     ]
    }
   ],
   "source": [
    "state_map <- map_data('state')"
   ]
  },
  {
   "cell_type": "code",
   "execution_count": 30,
   "metadata": {
    "collapsed": true
   },
   "outputs": [],
   "source": [
    "library(purrr)"
   ]
  },
  {
   "cell_type": "code",
   "execution_count": 38,
   "metadata": {},
   "outputs": [
    {
     "ename": "ERROR",
     "evalue": "Error: ggplot2 doesn't know how to deal with data of class list\n",
     "output_type": "error",
     "traceback": [
      "Error: ggplot2 doesn't know how to deal with data of class list\nTraceback:\n",
      "1. map_data(\"state\")",
      "2. fortify(map(map, region, exact = exact, plot = FALSE, fill = TRUE, \n .     ...))",
      "3. fortify.default(map(map, region, exact = exact, plot = FALSE, \n .     fill = TRUE, ...))",
      "4. stop(\"ggplot2 doesn't know how to deal with data of class \", \n .     paste(class(model), collapse = \"/\"), call. = FALSE)"
     ]
    }
   ],
   "source": [
    "states <- map_data(\"state\")"
   ]
  },
  {
   "cell_type": "code",
   "execution_count": null,
   "metadata": {
    "collapsed": true
   },
   "outputs": [],
   "source": []
  }
 ],
 "metadata": {
  "kernelspec": {
   "display_name": "R",
   "language": "R",
   "name": "ir"
  },
  "language_info": {
   "codemirror_mode": "r",
   "file_extension": ".r",
   "mimetype": "text/x-r-source",
   "name": "R",
   "pygments_lexer": "r",
   "version": "3.4.2"
  }
 },
 "nbformat": 4,
 "nbformat_minor": 2
}
