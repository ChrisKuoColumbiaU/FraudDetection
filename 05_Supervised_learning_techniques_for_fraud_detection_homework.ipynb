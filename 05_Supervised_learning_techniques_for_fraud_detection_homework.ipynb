{
 "cells": [
  {
   "cell_type": "markdown",
   "metadata": {},
   "source": [
    "### gbm\n",
    "\n",
    "I prefer the package 'dismo' that was mentioned by Abbas. It (dismo::gbm.step()) does a stepwise training of the GBM model based on automatical cross-validation, and then you can drop all the predictors that seems to be unimportant with the dismo::gbm.simplify() function. All these automatical features can be parameterized by changing the default arguments of the functions, therefore you won't lose control over your model... I attached some papers about the dismo-version GBM/BRT (Boosted Regression Trees) and its advantages that you might find interesting. FYI I also attached one of my research papers in which we used package dismo for modeling natural habitats with GBM.\n"
   ]
  }
 ],
 "metadata": {
  "kernelspec": {
   "display_name": "R",
   "language": "R",
   "name": "ir"
  }
 },
 "nbformat": 4,
 "nbformat_minor": 2
}
