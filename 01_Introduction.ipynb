{
 "cells": [
  {
   "cell_type": "markdown",
   "metadata": {},
   "source": [
    "## The growth of fraud risks\n",
    "\n",
    "As the old proverb says, “A thief is a thief, whether he steals a diamond or a cucumber.” The  fast-developing digital world also come with growing fraud. Fraud rises and no industry is immune. From healthcare to insurance to companies with highly valuable intellectual properties. Fraud schemes also become more and more sophisticated that legacy detection cannot keep up with. The fraudsters have grown their ability to detect the weak links in systems by using distributed networks, big data and the dark web to find the weak links to maximise their monetary gains. Also, access to faster and cheaper cloud computing empowers fraudsters larger scale of attacks. Companies can suffer devastating losses almost overnight.\n",
    "\n",
    "\n",
    "In recent years fraud risks continue to rise. The Federal Trade Commission released the Annual Summary of Consumer Compliants that [Identity theft](https://www.ftc.gov/news-events/press-releases/2017/03/ftc-releases-annual-summary-consumer-complaints) is the top third complaints. In insurance, the Coalition Against Insurance Fraud named the eight worst insurance criminals of 2016 in its [Hall of shame](http://www.insurancefraud.org/hall-of-shame.htm). J.P.Morgan in its [2017 Payments Fraud and Control Survey](https://commercial.jpmorganchase.com/jpmpdf/1320732417358.pdf) \n",
    "reports 75 percent of organizations experienced check fraud in 2016. Mobile fraud becomes a rampant issue too. The complexity of the mobile devices allow scammers to hide in the systems. J.P.Morgan reports that over 70 percent of corporate treasury and finance professionals seriouly concern adopting mobile payments at their organizations.\n",
    "\n",
    "\n",
    "## Finding fraud fast\n",
    "\n",
    "The mission is simply: finding fraud fast. Effective fraud prevention relies on fast data curation, better alerting and response before a payment is made. \n",
    "\n",
    "\n",
    "\n",
    "In U.S. banking electronic payments are settled by banks the following day, a relatively slow compared to systems in other countries. But this is not the case anymore. Same Day ACH (Automated Clearing House) settles payments on the same day. Same Day ACH presents great exposuress  in the risk of fraud. Faster payments will open doors for fraudsters, so companies have shorter time to react to incidents of fraud.\n",
    "\n",
    "\n",
    "## A good fraud detection system\n",
    "\n",
    "\n",
    "## Why this book?\n",
    "\n",
    "There are many books on machine learning and artificial intelligence for Ph.D. students in computer science with advanced mathematics. While turning practical problems into elegant mathematical solutions, there is a need for the new data scientists to survey the wide range of fraudulent bahaviors and consequences. On the other hand, fraud detection practitioners need a suite of new machine learning techniques to fight against fraud effectively. In this book we attempt to cover the best practices in fraud detection, as well as the cutting-edge machine learning techniques. The author draws examples from insurance, financial services and retail industries since he has served in these industries for 17+ years. We hope this book will help data scientists, fraud detection analysts and practitioners at special investigation units (SIU) in fighting fraud and achieve efficiency.\n",
    "\n",
    "## Features of this book\n",
    "\n",
    "#### tbd\n",
    "\n",
    "#### Code examples\n",
    "\n",
    "\n",
    "\n",
    "## Navigating this book\n",
    "\n",
    "* Chapter 1 explains the motives of this book and why we choose this particular layout.\n",
    "* Chapter 2 \n",
    "* Chapter 3 walks the readers through feature engineering. \n",
    "* Chapter 4 shows how to create features from textual data.\n",
    "* Chapter 5 explains the need to handle extremely imbalanced data in supervised learning, and introduces several sampling techniques.\n",
    "* Chapter 6 covers supervised learning techniques in fraud detection.\n",
    "* Chapter 7 covers unsupervised learning techniques.\n",
    "* Chapter 8 explains how to use graph-based techniques to detect fraud.\n",
    "\n",
    "A case study is provided in each chapter to work on. "
   ]
  }
 ],
 "metadata": {
  "kernelspec": {
   "display_name": "Python 3",
   "language": "python",
   "name": "python3"
  },
  "language_info": {
   "codemirror_mode": {
    "name": "ipython",
    "version": 3
   },
   "file_extension": ".py",
   "mimetype": "text/x-python",
   "name": "python",
   "nbconvert_exporter": "python",
   "pygments_lexer": "ipython3",
   "version": "3.6.3"
  }
 },
 "nbformat": 4,
 "nbformat_minor": 2
}
