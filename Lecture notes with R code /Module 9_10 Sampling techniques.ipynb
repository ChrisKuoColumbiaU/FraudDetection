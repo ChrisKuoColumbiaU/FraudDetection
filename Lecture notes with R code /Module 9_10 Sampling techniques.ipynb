{
 "cells": [
  {
   "cell_type": "code",
   "execution_count": 2,
   "metadata": {},
   "outputs": [
    {
     "name": "stderr",
     "output_type": "stream",
     "text": [
      "also installing the dependencies ‘fastmatch’, ‘ParamHelpers’, ‘BBmisc’, ‘checkmate’, ‘parallelMap’, ‘XML’, ‘mlr’, ‘FNN’, ‘RANN’\n",
      "\n",
      "Warning message in install.packages(\"unbalanced\"):\n",
      "“installation of package ‘fastmatch’ had non-zero exit status”Warning message in install.packages(\"unbalanced\"):\n",
      "“installation of package ‘checkmate’ had non-zero exit status”Warning message in install.packages(\"unbalanced\"):\n",
      "“installation of package ‘XML’ had non-zero exit status”Warning message in install.packages(\"unbalanced\"):\n",
      "“installation of package ‘FNN’ had non-zero exit status”Warning message in install.packages(\"unbalanced\"):\n",
      "“installation of package ‘RANN’ had non-zero exit status”Warning message in install.packages(\"unbalanced\"):\n",
      "“installation of package ‘BBmisc’ had non-zero exit status”Warning message in install.packages(\"unbalanced\"):\n",
      "“installation of package ‘ParamHelpers’ had non-zero exit status”Warning message in install.packages(\"unbalanced\"):\n",
      "“installation of package ‘parallelMap’ had non-zero exit status”Warning message in install.packages(\"unbalanced\"):\n",
      "“installation of package ‘mlr’ had non-zero exit status”Warning message in install.packages(\"unbalanced\"):\n",
      "“installation of package ‘unbalanced’ had non-zero exit status”Updating HTML index of packages in '.Library'\n",
      "Making 'packages.html' ... done\n"
     ]
    },
    {
     "ename": "ERROR",
     "evalue": "Error in library(\"unbalanced\"): there is no package called ‘unbalanced’\n",
     "output_type": "error",
     "traceback": [
      "Error in library(\"unbalanced\"): there is no package called ‘unbalanced’\nTraceback:\n",
      "1. library(\"unbalanced\")",
      "2. stop(txt, domain = NA)"
     ]
    }
   ],
   "source": [
    "install.packages(\"unbalanced\")\n",
    "library(\"unbalanced\")"
   ]
  },
  {
   "cell_type": "code",
   "execution_count": 6,
   "metadata": {},
   "outputs": [
    {
     "ename": "ERROR",
     "evalue": "Error in library(\"UBL\"): there is no package called ‘UBL’\n",
     "output_type": "error",
     "traceback": [
      "Error in library(\"UBL\"): there is no package called ‘UBL’\nTraceback:\n",
      "1. library(\"UBL\")",
      "2. stop(txt, domain = NA)"
     ]
    }
   ],
   "source": [
    "#install.packages(\"UBL\")\n",
    "library(\"UBL\")"
   ]
  },
  {
   "cell_type": "code",
   "execution_count": 7,
   "metadata": {},
   "outputs": [
    {
     "name": "stderr",
     "output_type": "stream",
     "text": [
      "Updating HTML index of packages in '.Library'\n",
      "Making 'packages.html' ... done\n"
     ]
    }
   ],
   "source": [
    "install.packages(\"smotefamily\")"
   ]
  },
  {
   "cell_type": "code",
   "execution_count": null,
   "metadata": {},
   "outputs": [],
   "source": []
  }
 ],
 "metadata": {
  "kernelspec": {
   "display_name": "R",
   "language": "R",
   "name": "ir"
  },
  "language_info": {
   "codemirror_mode": "r",
   "file_extension": ".r",
   "mimetype": "text/x-r-source",
   "name": "R",
   "pygments_lexer": "r",
   "version": "3.4.3"
  }
 },
 "nbformat": 4,
 "nbformat_minor": 2
}
