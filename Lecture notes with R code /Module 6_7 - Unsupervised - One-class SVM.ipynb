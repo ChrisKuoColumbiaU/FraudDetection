{
 "cells": [
  {
   "cell_type": "markdown",
   "metadata": {},
   "source": [
    "### One-class SVM"
   ]
  },
  {
   "cell_type": "code",
   "execution_count": 4,
   "metadata": {},
   "outputs": [],
   "source": [
    "library(e1071)\n",
    "library(caret)"
   ]
  },
  {
   "cell_type": "code",
   "execution_count": 5,
   "metadata": {},
   "outputs": [
    {
     "data": {
      "text/html": [
       "<table>\n",
       "<thead><tr><th scope=col>Sepal.Length</th><th scope=col>Sepal.Width</th><th scope=col>Petal.Length</th><th scope=col>Petal.Width</th><th scope=col>Species</th><th scope=col>SpeciesClass</th></tr></thead>\n",
       "<tbody>\n",
       "\t<tr><td>5.1   </td><td>3.5   </td><td>1.4   </td><td>0.2   </td><td>setosa</td><td>FALSE </td></tr>\n",
       "\t<tr><td>4.9   </td><td>3.0   </td><td>1.4   </td><td>0.2   </td><td>setosa</td><td>FALSE </td></tr>\n",
       "\t<tr><td>4.7   </td><td>3.2   </td><td>1.3   </td><td>0.2   </td><td>setosa</td><td>FALSE </td></tr>\n",
       "\t<tr><td>4.6   </td><td>3.1   </td><td>1.5   </td><td>0.2   </td><td>setosa</td><td>FALSE </td></tr>\n",
       "\t<tr><td>5.0   </td><td>3.6   </td><td>1.4   </td><td>0.2   </td><td>setosa</td><td>FALSE </td></tr>\n",
       "</tbody>\n",
       "</table>\n"
      ],
      "text/latex": [
       "\\begin{tabular}{r|llllll}\n",
       " Sepal.Length & Sepal.Width & Petal.Length & Petal.Width & Species & SpeciesClass\\\\\n",
       "\\hline\n",
       "\t 5.1    & 3.5    & 1.4    & 0.2    & setosa & FALSE \\\\\n",
       "\t 4.9    & 3.0    & 1.4    & 0.2    & setosa & FALSE \\\\\n",
       "\t 4.7    & 3.2    & 1.3    & 0.2    & setosa & FALSE \\\\\n",
       "\t 4.6    & 3.1    & 1.5    & 0.2    & setosa & FALSE \\\\\n",
       "\t 5.0    & 3.6    & 1.4    & 0.2    & setosa & FALSE \\\\\n",
       "\\end{tabular}\n"
      ],
      "text/markdown": [
       "\n",
       "Sepal.Length | Sepal.Width | Petal.Length | Petal.Width | Species | SpeciesClass | \n",
       "|---|---|---|---|---|\n",
       "| 5.1    | 3.5    | 1.4    | 0.2    | setosa | FALSE  | \n",
       "| 4.9    | 3.0    | 1.4    | 0.2    | setosa | FALSE  | \n",
       "| 4.7    | 3.2    | 1.3    | 0.2    | setosa | FALSE  | \n",
       "| 4.6    | 3.1    | 1.5    | 0.2    | setosa | FALSE  | \n",
       "| 5.0    | 3.6    | 1.4    | 0.2    | setosa | FALSE  | \n",
       "\n",
       "\n"
      ],
      "text/plain": [
       "  Sepal.Length Sepal.Width Petal.Length Petal.Width Species SpeciesClass\n",
       "1 5.1          3.5         1.4          0.2         setosa  FALSE       \n",
       "2 4.9          3.0         1.4          0.2         setosa  FALSE       \n",
       "3 4.7          3.2         1.3          0.2         setosa  FALSE       \n",
       "4 4.6          3.1         1.5          0.2         setosa  FALSE       \n",
       "5 5.0          3.6         1.4          0.2         setosa  FALSE       "
      ]
     },
     "metadata": {},
     "output_type": "display_data"
    },
    {
     "data": {
      "text/plain": [
       "\n",
       "    setosa versicolor  virginica \n",
       "        50         50         50 "
      ]
     },
     "metadata": {},
     "output_type": "display_data"
    }
   ],
   "source": [
    "head(iris,5)\n",
    "table(iris$Species)"
   ]
  },
  {
   "cell_type": "markdown",
   "metadata": {},
   "source": [
    "Suppose \"versicolor\" is the one class. The one-class SVM builds the model on this population first. Then the model is then applied to all data points. \n",
    "\n",
    "Steps:\n",
    "1. Assign \"versicolor\" to one-class \"TRUE\" for training.\n",
    "2. Take 60% of the \"TRUE\" class: \"inTrain\" from trainPositive\n",
    "3. Combine the remaining 40% of the training with the rest \"FALSE\" to be the test dataset\n",
    "4. Train the model\n",
    "5. Validate the model with the test dataset"
   ]
  },
  {
   "cell_type": "code",
   "execution_count": 18,
   "metadata": {},
   "outputs": [
    {
     "data": {
      "text/html": [
       "<table>\n",
       "<thead><tr><th></th><th scope=col>Sepal.Length</th><th scope=col>Sepal.Width</th><th scope=col>Petal.Length</th><th scope=col>Petal.Width</th><th scope=col>Species</th><th scope=col>SpeciesClass</th></tr></thead>\n",
       "<tbody>\n",
       "\t<tr><th scope=row>52</th><td>6.4       </td><td>3.2       </td><td>4.5       </td><td>1.5       </td><td>versicolor</td><td>TRUE      </td></tr>\n",
       "\t<tr><th scope=row>54</th><td>5.5       </td><td>2.3       </td><td>4.0       </td><td>1.3       </td><td>versicolor</td><td>TRUE      </td></tr>\n",
       "\t<tr><th scope=row>60</th><td>5.2       </td><td>2.7       </td><td>3.9       </td><td>1.4       </td><td>versicolor</td><td>TRUE      </td></tr>\n",
       "\t<tr><th scope=row>61</th><td>5.0       </td><td>2.0       </td><td>3.5       </td><td>1.0       </td><td>versicolor</td><td>TRUE      </td></tr>\n",
       "\t<tr><th scope=row>62</th><td>5.9       </td><td>3.0       </td><td>4.2       </td><td>1.5       </td><td>versicolor</td><td>TRUE      </td></tr>\n",
       "\t<tr><th scope=row>66</th><td>6.7       </td><td>3.1       </td><td>4.4       </td><td>1.4       </td><td>versicolor</td><td>TRUE      </td></tr>\n",
       "</tbody>\n",
       "</table>\n"
      ],
      "text/latex": [
       "\\begin{tabular}{r|llllll}\n",
       "  & Sepal.Length & Sepal.Width & Petal.Length & Petal.Width & Species & SpeciesClass\\\\\n",
       "\\hline\n",
       "\t52 & 6.4        & 3.2        & 4.5        & 1.5        & versicolor & TRUE      \\\\\n",
       "\t54 & 5.5        & 2.3        & 4.0        & 1.3        & versicolor & TRUE      \\\\\n",
       "\t60 & 5.2        & 2.7        & 3.9        & 1.4        & versicolor & TRUE      \\\\\n",
       "\t61 & 5.0        & 2.0        & 3.5        & 1.0        & versicolor & TRUE      \\\\\n",
       "\t62 & 5.9        & 3.0        & 4.2        & 1.5        & versicolor & TRUE      \\\\\n",
       "\t66 & 6.7        & 3.1        & 4.4        & 1.4        & versicolor & TRUE      \\\\\n",
       "\\end{tabular}\n"
      ],
      "text/markdown": [
       "\n",
       "| <!--/--> | Sepal.Length | Sepal.Width | Petal.Length | Petal.Width | Species | SpeciesClass | \n",
       "|---|---|---|---|---|---|\n",
       "| 52 | 6.4        | 3.2        | 4.5        | 1.5        | versicolor | TRUE       | \n",
       "| 54 | 5.5        | 2.3        | 4.0        | 1.3        | versicolor | TRUE       | \n",
       "| 60 | 5.2        | 2.7        | 3.9        | 1.4        | versicolor | TRUE       | \n",
       "| 61 | 5.0        | 2.0        | 3.5        | 1.0        | versicolor | TRUE       | \n",
       "| 62 | 5.9        | 3.0        | 4.2        | 1.5        | versicolor | TRUE       | \n",
       "| 66 | 6.7        | 3.1        | 4.4        | 1.4        | versicolor | TRUE       | \n",
       "\n",
       "\n"
      ],
      "text/plain": [
       "   Sepal.Length Sepal.Width Petal.Length Petal.Width Species    SpeciesClass\n",
       "52 6.4          3.2         4.5          1.5         versicolor TRUE        \n",
       "54 5.5          2.3         4.0          1.3         versicolor TRUE        \n",
       "60 5.2          2.7         3.9          1.4         versicolor TRUE        \n",
       "61 5.0          2.0         3.5          1.0         versicolor TRUE        \n",
       "62 5.9          3.0         4.2          1.5         versicolor TRUE        \n",
       "66 6.7          3.1         4.4          1.4         versicolor TRUE        "
      ]
     },
     "metadata": {},
     "output_type": "display_data"
    }
   ],
   "source": [
    "iris$SpeciesClass[iris$Species==\"versicolor\"] <- \"TRUE\"\n",
    "iris$SpeciesClass[iris$Species!=\"versicolor\"] <- \"FALSE\"\n",
    "trainPositive<-subset(iris,SpeciesClass==\"TRUE\")\n",
    "testnegative<-subset(iris,SpeciesClass==\"FALSE\")\n",
    "inTrain<-createDataPartition(1:nrow(trainPositive),p=0.6,list=FALSE)\n",
    "trainpredictors<-trainPositive[inTrain,1:4]\n",
    "trainLabels<-trainPositive[inTrain,6]"
   ]
  },
  {
   "cell_type": "markdown",
   "metadata": {},
   "source": [
    "The test dataset contains the remaining 40% of the training data (18 incidences), and all the rest 100 incidences"
   ]
  },
  {
   "cell_type": "code",
   "execution_count": 20,
   "metadata": {},
   "outputs": [
    {
     "data": {
      "text/plain": [
       "\n",
       "FALSE  TRUE \n",
       "  100    18 "
      ]
     },
     "metadata": {},
     "output_type": "display_data"
    }
   ],
   "source": [
    "testPositive<-trainPositive[-inTrain,]\n",
    "testPosNeg<-rbind(testPositive,testnegative)\n",
    "table(testPosNeg$SpeciesClass)\n",
    "\n",
    "testpredictors<-testPosNeg[,1:4]\n",
    "testLabels<-testPosNeg[,6]"
   ]
  },
  {
   "cell_type": "code",
   "execution_count": 38,
   "metadata": {},
   "outputs": [],
   "source": [
    "svm.model<-svm(trainpredictors,y=NULL,\n",
    "               type='one-classification',\n",
    "               nu=0.02,\n",
    "               scale=TRUE,\n",
    "               kernel=\"radial\")\n",
    "svm.predtest<-predict(svm.model,testpredictors)"
   ]
  },
  {
   "cell_type": "markdown",
   "metadata": {},
   "source": [
    "The accuracy for the test dataset is 91.53."
   ]
  },
  {
   "cell_type": "code",
   "execution_count": 39,
   "metadata": {},
   "outputs": [
    {
     "data": {
      "text/plain": [
       "Confusion Matrix and Statistics\n",
       "\n",
       "         Reference\n",
       "Predicted FALSE TRUE\n",
       "    FALSE   100   10\n",
       "    TRUE      0    8\n",
       "                                          \n",
       "               Accuracy : 0.9153          \n",
       "                 95% CI : (0.8497, 0.9586)\n",
       "    No Information Rate : 0.8475          \n",
       "    P-Value [Acc > NIR] : 0.021543        \n",
       "                                          \n",
       "                  Kappa : 0.5755          \n",
       " Mcnemar's Test P-Value : 0.004427        \n",
       "                                          \n",
       "            Sensitivity : 0.4444          \n",
       "            Specificity : 1.0000          \n",
       "         Pos Pred Value : 1.0000          \n",
       "         Neg Pred Value : 0.9091          \n",
       "             Prevalence : 0.1525          \n",
       "         Detection Rate : 0.0678          \n",
       "   Detection Prevalence : 0.0678          \n",
       "      Balanced Accuracy : 0.7222          \n",
       "                                          \n",
       "       'Positive' Class : TRUE            \n",
       "                                          "
      ]
     },
     "metadata": {},
     "output_type": "display_data"
    }
   ],
   "source": [
    "confTest<-table(Predicted=svm.predtest,Reference=testLabels)\n",
    "confusionMatrix(confTest,positive='TRUE')"
   ]
  },
  {
   "cell_type": "code",
   "execution_count": null,
   "metadata": {},
   "outputs": [],
   "source": []
  }
 ],
 "metadata": {
  "kernelspec": {
   "display_name": "R",
   "language": "R",
   "name": "ir"
  },
  "language_info": {
   "codemirror_mode": "r",
   "file_extension": ".r",
   "mimetype": "text/x-r-source",
   "name": "R",
   "pygments_lexer": "r",
   "version": "3.4.3"
  }
 },
 "nbformat": 4,
 "nbformat_minor": 2
}
