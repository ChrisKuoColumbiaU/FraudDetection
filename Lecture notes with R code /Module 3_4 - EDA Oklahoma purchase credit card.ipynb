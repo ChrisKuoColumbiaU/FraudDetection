{
 "cells": [
  {
   "cell_type": "markdown",
   "metadata": {},
   "source": [
    "### Oklahoma purchase credit card transactions\n",
    "\n",
    "The Office of Management and Enterprise Services in the State of Oklahoma has made its [purchase credit card transactions](https://catalog.data.gov/dataset/purchase-card-pcard-fiscal-year-2014) available. This dataset contains information on purchases made through the purchase card programs administered by the state and higher education institutions. \n",
    "\n",
    "In this assignment, you will complete the following tasks.\n",
    "\n",
    "- Create new features and conduct exploratory data analysis. Your exploratory data analysis should be as exhaustive as possible. \n",
    "- Each feature or discussion is a new lead. Structure your EDA for different leads with sub-sections. Each sub-section will cover the following:\n",
    "    - Lead: Write what you are going to do in two to three sentences.\n",
    "    - Analysis: your EDA\n",
    "    - Conclusion: What is the business insight? How can this feature help prediction? Write a short conclusion in the end of each sub-section. \n",
    "\n",
    "-  Submit in the HTML format.  "
   ]
  },
  {
   "cell_type": "code",
   "execution_count": 1,
   "metadata": {},
   "outputs": [
    {
     "name": "stderr",
     "output_type": "stream",
     "text": [
      "\n",
      "Attaching package: ‘dplyr’\n",
      "\n",
      "The following objects are masked from ‘package:stats’:\n",
      "\n",
      "    filter, lag\n",
      "\n",
      "The following objects are masked from ‘package:base’:\n",
      "\n",
      "    intersect, setdiff, setequal, union\n",
      "\n",
      "\n",
      "Attaching package: ‘plotly’\n",
      "\n",
      "The following object is masked from ‘package:ggplot2’:\n",
      "\n",
      "    last_plot\n",
      "\n",
      "The following object is masked from ‘package:stats’:\n",
      "\n",
      "    filter\n",
      "\n",
      "The following object is masked from ‘package:graphics’:\n",
      "\n",
      "    layout\n",
      "\n"
     ]
    }
   ],
   "source": [
    "library(dplyr)\n",
    "#library(DataExplorer)\n",
    "#library(xda)\n",
    "library(ggplot2)\n",
    "library(plotly)"
   ]
  },
  {
   "cell_type": "code",
   "execution_count": 2,
   "metadata": {},
   "outputs": [],
   "source": [
    "ccard <- read.csv(\"/Users/chriskuo/Downloads/purchase_credit_card.csv\")"
   ]
  },
  {
   "cell_type": "code",
   "execution_count": 3,
   "metadata": {},
   "outputs": [
    {
     "data": {
      "text/html": [
       "<ol class=list-inline>\n",
       "\t<li>442458</li>\n",
       "\t<li>11</li>\n",
       "</ol>\n"
      ],
      "text/latex": [
       "\\begin{enumerate*}\n",
       "\\item 442458\n",
       "\\item 11\n",
       "\\end{enumerate*}\n"
      ],
      "text/markdown": [
       "1. 442458\n",
       "2. 11\n",
       "\n",
       "\n"
      ],
      "text/plain": [
       "[1] 442458     11"
      ]
     },
     "metadata": {},
     "output_type": "display_data"
    },
    {
     "data": {
      "text/plain": [
       "   Year.Month     Agency.Number  \n",
       " Min.   :201307   Min.   : 1000  \n",
       " 1st Qu.:201309   1st Qu.: 1000  \n",
       " Median :201401   Median :47700  \n",
       " Mean   :201357   Mean   :42786  \n",
       " 3rd Qu.:201404   3rd Qu.:76000  \n",
       " Max.   :201406   Max.   :98000  \n",
       "                                 \n",
       "                                Agency.Name    \n",
       " OKLAHOMA STATE UNIVERSITY            :115995  \n",
       " UNIVERSITY OF OKLAHOMA               : 76143  \n",
       " UNIV. OF OKLA. HEALTH SCIENCES CENTER: 58247  \n",
       " DEPARTMENT OF CORRECTIONS            : 22322  \n",
       " DEPARTMENT OF TOURISM AND RECREATION : 17232  \n",
       " DEPARTMENT OF TRANSPORTATION         : 15689  \n",
       " (Other)                              :136830  \n",
       "               Cardholder.Last.Name Cardholder.First.Initial\n",
       " JOURNEY HOUSE TRAVEL INC: 10137    J      : 55031          \n",
       " UNIVERSITY AMERICAN     :  7219    G      : 42251          \n",
       " JOURNEY HOUSE TRAVEL    :  4693    D      : 38120          \n",
       " Heusel                  :  4212    M      : 35352          \n",
       " Hines                   :  3423    S      : 34698          \n",
       " Bowers                  :  2448    C      : 33213          \n",
       " (Other)                 :410326    (Other):203793          \n",
       "                        Description         Amount         \n",
       " GENERAL PURCHASE             :247187   Min.   : -42863.0  \n",
       " AIR TRAVEL                   : 29584   1st Qu.:     30.9  \n",
       " ROOM CHARGES                 : 18120   Median :    104.9  \n",
       " AT&T SERVICE PAYMENT ITM     :  2657   Mean   :    425.0  \n",
       " 001 Priority          1LB PCE:  2005   3rd Qu.:    345.0  \n",
       " 000000000000000000000000     :  1828   Max.   :1903858.4  \n",
       " (Other)                      :141077                      \n",
       "                       Vendor                     Transaction.Date \n",
       " STAPLES                  : 14842   09/11/2013 12:00:00 AM:  2122  \n",
       " AMAZON MKTPLACE PMTS     : 12197   08/07/2013 12:00:00 AM:  2108  \n",
       " WW GRAINGER              : 12076   01/14/2014 12:00:00 AM:  2059  \n",
       " Amazon.com               : 10766   01/16/2014 12:00:00 AM:  2009  \n",
       " BILL WARREN OFFICE PRODUC:  4479   09/05/2013 12:00:00 AM:  1999  \n",
       " LOWES #00241             :  4231   10/01/2013 12:00:00 AM:  1996  \n",
       " (Other)                  :383867   (Other)               :430165  \n",
       "                 Posted.Date    \n",
       " 01/13/2014 12:00:00 AM:  3256  \n",
       " 04/14/2014 12:00:00 AM:  3163  \n",
       " 03/10/2014 12:00:00 AM:  3139  \n",
       " 03/03/2014 12:00:00 AM:  3101  \n",
       " 09/16/2013 12:00:00 AM:  3062  \n",
       " 01/20/2014 12:00:00 AM:  3032  \n",
       " (Other)               :423705  \n",
       "                                          Merchant.Category.Code..MCC.\n",
       " STATIONERY, OFFICE SUPPLIES, PRINTING AND WRITING PAPER: 24860       \n",
       " BOOK STORES                                            : 21981       \n",
       " INDUSTRIAL SUPPLIES NOT ELSEWHERE CLASSIFIED           : 21669       \n",
       " DENTAL/LABORATORY/MEDICAL/OPHTHALMIC HOSP EQIP AND SUP.: 20183       \n",
       " GROCERY STORES,AND SUPERMARKETS                        : 17152       \n",
       " MISCELLANEOUS AND SPECIALTY RETAIL STORES              : 13335       \n",
       " (Other)                                                :323278       "
      ]
     },
     "metadata": {},
     "output_type": "display_data"
    },
    {
     "data": {
      "text/html": [
       "<ol class=list-inline>\n",
       "\t<li>'Year.Month'</li>\n",
       "\t<li>'Agency.Number'</li>\n",
       "\t<li>'Agency.Name'</li>\n",
       "\t<li>'Cardholder.Last.Name'</li>\n",
       "\t<li>'Cardholder.First.Initial'</li>\n",
       "\t<li>'Description'</li>\n",
       "\t<li>'Amount'</li>\n",
       "\t<li>'Vendor'</li>\n",
       "\t<li>'Transaction.Date'</li>\n",
       "\t<li>'Posted.Date'</li>\n",
       "\t<li>'Merchant.Category.Code..MCC.'</li>\n",
       "</ol>\n"
      ],
      "text/latex": [
       "\\begin{enumerate*}\n",
       "\\item 'Year.Month'\n",
       "\\item 'Agency.Number'\n",
       "\\item 'Agency.Name'\n",
       "\\item 'Cardholder.Last.Name'\n",
       "\\item 'Cardholder.First.Initial'\n",
       "\\item 'Description'\n",
       "\\item 'Amount'\n",
       "\\item 'Vendor'\n",
       "\\item 'Transaction.Date'\n",
       "\\item 'Posted.Date'\n",
       "\\item 'Merchant.Category.Code..MCC.'\n",
       "\\end{enumerate*}\n"
      ],
      "text/markdown": [
       "1. 'Year.Month'\n",
       "2. 'Agency.Number'\n",
       "3. 'Agency.Name'\n",
       "4. 'Cardholder.Last.Name'\n",
       "5. 'Cardholder.First.Initial'\n",
       "6. 'Description'\n",
       "7. 'Amount'\n",
       "8. 'Vendor'\n",
       "9. 'Transaction.Date'\n",
       "10. 'Posted.Date'\n",
       "11. 'Merchant.Category.Code..MCC.'\n",
       "\n",
       "\n"
      ],
      "text/plain": [
       " [1] \"Year.Month\"                   \"Agency.Number\"               \n",
       " [3] \"Agency.Name\"                  \"Cardholder.Last.Name\"        \n",
       " [5] \"Cardholder.First.Initial\"     \"Description\"                 \n",
       " [7] \"Amount\"                       \"Vendor\"                      \n",
       " [9] \"Transaction.Date\"             \"Posted.Date\"                 \n",
       "[11] \"Merchant.Category.Code..MCC.\""
      ]
     },
     "metadata": {},
     "output_type": "display_data"
    }
   ],
   "source": [
    "dim(ccard)\n",
    "summary(ccard)\n",
    "colnames(ccard)"
   ]
  },
  {
   "cell_type": "code",
   "execution_count": 4,
   "metadata": {},
   "outputs": [],
   "source": [
    "# Count of agencies\n",
    "# Spent by agency\n",
    "# Count by merchant.Category.Code\n",
    "colnames(ccard)<-c('Year_Month', 'Agency_Number', 'Agency_Name', 'Cardholder_Last_Name',\n",
    "      'Cardholder_First_Initial', 'Description', 'Amount', 'Vendor', 'Transaction_Date',\n",
    "      'Posted_Date', 'Merchant_Category')"
   ]
  },
  {
   "cell_type": "code",
   "execution_count": 6,
   "metadata": {},
   "outputs": [
    {
     "data": {
      "text/html": [
       "442458"
      ],
      "text/latex": [
       "442458"
      ],
      "text/markdown": [
       "442458"
      ],
      "text/plain": [
       "[1] 442458"
      ]
     },
     "metadata": {},
     "output_type": "display_data"
    },
    {
     "data": {
      "text/html": [
       "<table>\n",
       "<thead><tr><th scope=col>Year_Month</th><th scope=col>Agency_Number</th><th scope=col>Agency_Name</th><th scope=col>Cardholder_Last_Name</th><th scope=col>Cardholder_First_Initial</th><th scope=col>Description</th><th scope=col>Amount</th><th scope=col>Vendor</th><th scope=col>Transaction_Date</th><th scope=col>Posted_Date</th><th scope=col>Merchant_Category</th></tr></thead>\n",
       "<tbody>\n",
       "\t<tr><td>201307                                                   </td><td>1000                                                     </td><td>OKLAHOMA STATE UNIVERSITY                                </td><td>Mason                                                    </td><td>C                                                        </td><td>GENERAL PURCHASE                                         </td><td>890.00                                                   </td><td>NACAS                                                    </td><td>07/30/2013 12:00:00 AM                                   </td><td>07/31/2013 12:00:00 AM                                   </td><td>CHARITABLE AND SOCIAL SERVICE ORGANIZATIONS              </td></tr>\n",
       "\t<tr><td>201307                                                   </td><td>1000                                                     </td><td>OKLAHOMA STATE UNIVERSITY                                </td><td>Mason                                                    </td><td>C                                                        </td><td>ROOM CHARGES                                             </td><td>368.96                                                   </td><td>SHERATON HOTEL                                           </td><td>07/30/2013 12:00:00 AM                                   </td><td>07/31/2013 12:00:00 AM                                   </td><td>SHERATON                                                 </td></tr>\n",
       "\t<tr><td>201307                                                   </td><td>1000                                                     </td><td>OKLAHOMA STATE UNIVERSITY                                </td><td>Massey                                                   </td><td>J                                                        </td><td>GENERAL PURCHASE                                         </td><td>165.82                                                   </td><td>SEARS.COM 9300                                           </td><td>07/29/2013 12:00:00 AM                                   </td><td>07/31/2013 12:00:00 AM                                   </td><td>DIRCT MARKETING/DIRCT MARKETERS--NOT ELSEWHERE CLASSIFIED</td></tr>\n",
       "\t<tr><td>201307                                                   </td><td>1000                                                     </td><td>OKLAHOMA STATE UNIVERSITY                                </td><td>Massey                                                   </td><td>T                                                        </td><td>GENERAL PURCHASE                                         </td><td> 96.39                                                   </td><td>WAL-MART #0137                                           </td><td>07/30/2013 12:00:00 AM                                   </td><td>07/31/2013 12:00:00 AM                                   </td><td>GROCERY STORES,AND SUPERMARKETS                          </td></tr>\n",
       "\t<tr><td>201307                                                   </td><td>1000                                                     </td><td>OKLAHOMA STATE UNIVERSITY                                </td><td>Mauro-Herrera                                            </td><td>M                                                        </td><td>HAMMERMILL COPY PLUS COPY EA                             </td><td>125.96                                                   </td><td>STAPLES DIRECT                                           </td><td>07/30/2013 12:00:00 AM                                   </td><td>07/31/2013 12:00:00 AM                                   </td><td>STATIONERY, OFFICE SUPPLIES, PRINTING AND WRITING PAPER  </td></tr>\n",
       "\t<tr><td>201307                                                   </td><td>1000                                                     </td><td>OKLAHOMA STATE UNIVERSITY                                </td><td>Mauro-Herrera                                            </td><td>M                                                        </td><td>GENERAL PURCHASE                                         </td><td>394.28                                                   </td><td>KYOCERA DOCUMENT SOLUTION                                </td><td>07/29/2013 12:00:00 AM                                   </td><td>07/31/2013 12:00:00 AM                                   </td><td>OFFICE, PHOTOGRAPHIC, PHOTOCOPY, AND MICROFILM EQUIPMENT </td></tr>\n",
       "</tbody>\n",
       "</table>\n"
      ],
      "text/latex": [
       "\\begin{tabular}{r|lllllllllll}\n",
       " Year\\_Month & Agency\\_Number & Agency\\_Name & Cardholder\\_Last\\_Name & Cardholder\\_First\\_Initial & Description & Amount & Vendor & Transaction\\_Date & Posted\\_Date & Merchant\\_Category\\\\\n",
       "\\hline\n",
       "\t 201307                                                    & 1000                                                      & OKLAHOMA STATE UNIVERSITY                                 & Mason                                                     & C                                                         & GENERAL PURCHASE                                          & 890.00                                                    & NACAS                                                     & 07/30/2013 12:00:00 AM                                    & 07/31/2013 12:00:00 AM                                    & CHARITABLE AND SOCIAL SERVICE ORGANIZATIONS              \\\\\n",
       "\t 201307                                                    & 1000                                                      & OKLAHOMA STATE UNIVERSITY                                 & Mason                                                     & C                                                         & ROOM CHARGES                                              & 368.96                                                    & SHERATON HOTEL                                            & 07/30/2013 12:00:00 AM                                    & 07/31/2013 12:00:00 AM                                    & SHERATON                                                 \\\\\n",
       "\t 201307                                                    & 1000                                                      & OKLAHOMA STATE UNIVERSITY                                 & Massey                                                    & J                                                         & GENERAL PURCHASE                                          & 165.82                                                    & SEARS.COM 9300                                            & 07/29/2013 12:00:00 AM                                    & 07/31/2013 12:00:00 AM                                    & DIRCT MARKETING/DIRCT MARKETERS--NOT ELSEWHERE CLASSIFIED\\\\\n",
       "\t 201307                                                    & 1000                                                      & OKLAHOMA STATE UNIVERSITY                                 & Massey                                                    & T                                                         & GENERAL PURCHASE                                          &  96.39                                                    & WAL-MART \\#0137                                          & 07/30/2013 12:00:00 AM                                    & 07/31/2013 12:00:00 AM                                    & GROCERY STORES,AND SUPERMARKETS                          \\\\\n",
       "\t 201307                                                    & 1000                                                      & OKLAHOMA STATE UNIVERSITY                                 & Mauro-Herrera                                             & M                                                         & HAMMERMILL COPY PLUS COPY EA                              & 125.96                                                    & STAPLES DIRECT                                            & 07/30/2013 12:00:00 AM                                    & 07/31/2013 12:00:00 AM                                    & STATIONERY, OFFICE SUPPLIES, PRINTING AND WRITING PAPER  \\\\\n",
       "\t 201307                                                    & 1000                                                      & OKLAHOMA STATE UNIVERSITY                                 & Mauro-Herrera                                             & M                                                         & GENERAL PURCHASE                                          & 394.28                                                    & KYOCERA DOCUMENT SOLUTION                                 & 07/29/2013 12:00:00 AM                                    & 07/31/2013 12:00:00 AM                                    & OFFICE, PHOTOGRAPHIC, PHOTOCOPY, AND MICROFILM EQUIPMENT \\\\\n",
       "\\end{tabular}\n"
      ],
      "text/markdown": [
       "\n",
       "Year_Month | Agency_Number | Agency_Name | Cardholder_Last_Name | Cardholder_First_Initial | Description | Amount | Vendor | Transaction_Date | Posted_Date | Merchant_Category | \n",
       "|---|---|---|---|---|---|\n",
       "| 201307                                                    | 1000                                                      | OKLAHOMA STATE UNIVERSITY                                 | Mason                                                     | C                                                         | GENERAL PURCHASE                                          | 890.00                                                    | NACAS                                                     | 07/30/2013 12:00:00 AM                                    | 07/31/2013 12:00:00 AM                                    | CHARITABLE AND SOCIAL SERVICE ORGANIZATIONS               | \n",
       "| 201307                                                    | 1000                                                      | OKLAHOMA STATE UNIVERSITY                                 | Mason                                                     | C                                                         | ROOM CHARGES                                              | 368.96                                                    | SHERATON HOTEL                                            | 07/30/2013 12:00:00 AM                                    | 07/31/2013 12:00:00 AM                                    | SHERATON                                                  | \n",
       "| 201307                                                    | 1000                                                      | OKLAHOMA STATE UNIVERSITY                                 | Massey                                                    | J                                                         | GENERAL PURCHASE                                          | 165.82                                                    | SEARS.COM 9300                                            | 07/29/2013 12:00:00 AM                                    | 07/31/2013 12:00:00 AM                                    | DIRCT MARKETING/DIRCT MARKETERS--NOT ELSEWHERE CLASSIFIED | \n",
       "| 201307                                                    | 1000                                                      | OKLAHOMA STATE UNIVERSITY                                 | Massey                                                    | T                                                         | GENERAL PURCHASE                                          |  96.39                                                    | WAL-MART #0137                                            | 07/30/2013 12:00:00 AM                                    | 07/31/2013 12:00:00 AM                                    | GROCERY STORES,AND SUPERMARKETS                           | \n",
       "| 201307                                                    | 1000                                                      | OKLAHOMA STATE UNIVERSITY                                 | Mauro-Herrera                                             | M                                                         | HAMMERMILL COPY PLUS COPY EA                              | 125.96                                                    | STAPLES DIRECT                                            | 07/30/2013 12:00:00 AM                                    | 07/31/2013 12:00:00 AM                                    | STATIONERY, OFFICE SUPPLIES, PRINTING AND WRITING PAPER   | \n",
       "| 201307                                                    | 1000                                                      | OKLAHOMA STATE UNIVERSITY                                 | Mauro-Herrera                                             | M                                                         | GENERAL PURCHASE                                          | 394.28                                                    | KYOCERA DOCUMENT SOLUTION                                 | 07/29/2013 12:00:00 AM                                    | 07/31/2013 12:00:00 AM                                    | OFFICE, PHOTOGRAPHIC, PHOTOCOPY, AND MICROFILM EQUIPMENT  | \n",
       "\n",
       "\n"
      ],
      "text/plain": [
       "  Year_Month Agency_Number Agency_Name               Cardholder_Last_Name\n",
       "1 201307     1000          OKLAHOMA STATE UNIVERSITY Mason               \n",
       "2 201307     1000          OKLAHOMA STATE UNIVERSITY Mason               \n",
       "3 201307     1000          OKLAHOMA STATE UNIVERSITY Massey              \n",
       "4 201307     1000          OKLAHOMA STATE UNIVERSITY Massey              \n",
       "5 201307     1000          OKLAHOMA STATE UNIVERSITY Mauro-Herrera       \n",
       "6 201307     1000          OKLAHOMA STATE UNIVERSITY Mauro-Herrera       \n",
       "  Cardholder_First_Initial Description                  Amount\n",
       "1 C                        GENERAL PURCHASE             890.00\n",
       "2 C                        ROOM CHARGES                 368.96\n",
       "3 J                        GENERAL PURCHASE             165.82\n",
       "4 T                        GENERAL PURCHASE              96.39\n",
       "5 M                        HAMMERMILL COPY PLUS COPY EA 125.96\n",
       "6 M                        GENERAL PURCHASE             394.28\n",
       "  Vendor                    Transaction_Date       Posted_Date           \n",
       "1 NACAS                     07/30/2013 12:00:00 AM 07/31/2013 12:00:00 AM\n",
       "2 SHERATON HOTEL            07/30/2013 12:00:00 AM 07/31/2013 12:00:00 AM\n",
       "3 SEARS.COM 9300            07/29/2013 12:00:00 AM 07/31/2013 12:00:00 AM\n",
       "4 WAL-MART #0137            07/30/2013 12:00:00 AM 07/31/2013 12:00:00 AM\n",
       "5 STAPLES DIRECT            07/30/2013 12:00:00 AM 07/31/2013 12:00:00 AM\n",
       "6 KYOCERA DOCUMENT SOLUTION 07/29/2013 12:00:00 AM 07/31/2013 12:00:00 AM\n",
       "  Merchant_Category                                        \n",
       "1 CHARITABLE AND SOCIAL SERVICE ORGANIZATIONS              \n",
       "2 SHERATON                                                 \n",
       "3 DIRCT MARKETING/DIRCT MARKETERS--NOT ELSEWHERE CLASSIFIED\n",
       "4 GROCERY STORES,AND SUPERMARKETS                          \n",
       "5 STATIONERY, OFFICE SUPPLIES, PRINTING AND WRITING PAPER  \n",
       "6 OFFICE, PHOTOGRAPHIC, PHOTOCOPY, AND MICROFILM EQUIPMENT "
      ]
     },
     "metadata": {},
     "output_type": "display_data"
    }
   ],
   "source": [
    "nrow(ccard)\n",
    "head(ccard)"
   ]
  },
  {
   "cell_type": "code",
   "execution_count": 10,
   "metadata": {},
   "outputs": [
    {
     "data": {
      "text/html": [
       "<table>\n",
       "<thead><tr><th scope=col>Agency_Name_ind</th><th scope=col>count</th><th scope=col>amount</th><th scope=col>percent</th><th scope=col>mean</th><th scope=col>min</th><th scope=col>max</th></tr></thead>\n",
       "<tbody>\n",
       "\t<tr><td>1_OKLAHOMA STATE UNIVERSITY            </td><td>115995                                 </td><td>33778840                               </td><td>0.17963575                             </td><td> 291.2094                              </td><td> -6266.53                              </td><td>  27967.38                             </td></tr>\n",
       "\t<tr><td>2_UNIVERSITY OF OKLAHOMA               </td><td> 76143                                 </td><td>24886383                               </td><td>0.13234570                             </td><td> 326.8374                              </td><td>-41740.00                              </td><td> 114203.17                             </td></tr>\n",
       "\t<tr><td>3_UNIV. OF OKLA. HEALTH SCIENCES CENTER</td><td> 58247                                 </td><td>24527325                               </td><td>0.13043623                             </td><td> 421.0916                              </td><td> -7188.61                              </td><td>1903858.37                             </td></tr>\n",
       "\t<tr><td>4_GRAND RIVER DAM AUTH.                </td><td> 10427                                 </td><td>22213829                               </td><td>0.11813306                             </td><td>2130.4142                              </td><td> -9000.00                              </td><td>1089180.00                             </td></tr>\n",
       "\t<tr><td>5_DEPARTMENT OF TRANSPORTATION         </td><td> 15689                                 </td><td>14399262                               </td><td>0.07657522                             </td><td> 917.7935                              </td><td>-34108.00                              </td><td> 348053.75                             </td></tr>\n",
       "\t<tr><td>6_DEPARTMENT OF CORRECTIONS            </td><td> 22322                                 </td><td>13988872                               </td><td>0.07439277                             </td><td> 626.6854                              </td><td>-20000.00                              </td><td>  96190.38                             </td></tr>\n",
       "</tbody>\n",
       "</table>\n"
      ],
      "text/latex": [
       "\\begin{tabular}{r|lllllll}\n",
       " Agency\\_Name\\_ind & count & amount & percent & mean & min & max\\\\\n",
       "\\hline\n",
       "\t 1\\_OKLAHOMA STATE UNIVERSITY             & 115995                                    & 33778840                                  & 0.17963575                                &  291.2094                                 &  -6266.53                                 &   27967.38                               \\\\\n",
       "\t 2\\_UNIVERSITY OF OKLAHOMA                &  76143                                    & 24886383                                  & 0.13234570                                &  326.8374                                 & -41740.00                                 &  114203.17                               \\\\\n",
       "\t 3\\_UNIV. OF OKLA. HEALTH SCIENCES CENTER &  58247                                    & 24527325                                  & 0.13043623                                &  421.0916                                 &  -7188.61                                 & 1903858.37                               \\\\\n",
       "\t 4\\_GRAND RIVER DAM AUTH.                 &  10427                                    & 22213829                                  & 0.11813306                                & 2130.4142                                 &  -9000.00                                 & 1089180.00                               \\\\\n",
       "\t 5\\_DEPARTMENT OF TRANSPORTATION          &  15689                                    & 14399262                                  & 0.07657522                                &  917.7935                                 & -34108.00                                 &  348053.75                               \\\\\n",
       "\t 6\\_DEPARTMENT OF CORRECTIONS             &  22322                                    & 13988872                                  & 0.07439277                                &  626.6854                                 & -20000.00                                 &   96190.38                               \\\\\n",
       "\\end{tabular}\n"
      ],
      "text/markdown": [
       "\n",
       "Agency_Name_ind | count | amount | percent | mean | min | max | \n",
       "|---|---|---|---|---|---|\n",
       "| 1_OKLAHOMA STATE UNIVERSITY             | 115995                                  | 33778840                                | 0.17963575                              |  291.2094                               |  -6266.53                               |   27967.38                              | \n",
       "| 2_UNIVERSITY OF OKLAHOMA                |  76143                                  | 24886383                                | 0.13234570                              |  326.8374                               | -41740.00                               |  114203.17                              | \n",
       "| 3_UNIV. OF OKLA. HEALTH SCIENCES CENTER |  58247                                  | 24527325                                | 0.13043623                              |  421.0916                               |  -7188.61                               | 1903858.37                              | \n",
       "| 4_GRAND RIVER DAM AUTH.                 |  10427                                  | 22213829                                | 0.11813306                              | 2130.4142                               |  -9000.00                               | 1089180.00                              | \n",
       "| 5_DEPARTMENT OF TRANSPORTATION          |  15689                                  | 14399262                                | 0.07657522                              |  917.7935                               | -34108.00                               |  348053.75                              | \n",
       "| 6_DEPARTMENT OF CORRECTIONS             |  22322                                  | 13988872                                | 0.07439277                              |  626.6854                               | -20000.00                               |   96190.38                              | \n",
       "\n",
       "\n"
      ],
      "text/plain": [
       "  Agency_Name_ind                         count  amount   percent    mean     \n",
       "1 1_OKLAHOMA STATE UNIVERSITY             115995 33778840 0.17963575  291.2094\n",
       "2 2_UNIVERSITY OF OKLAHOMA                 76143 24886383 0.13234570  326.8374\n",
       "3 3_UNIV. OF OKLA. HEALTH SCIENCES CENTER  58247 24527325 0.13043623  421.0916\n",
       "4 4_GRAND RIVER DAM AUTH.                  10427 22213829 0.11813306 2130.4142\n",
       "5 5_DEPARTMENT OF TRANSPORTATION           15689 14399262 0.07657522  917.7935\n",
       "6 6_DEPARTMENT OF CORRECTIONS              22322 13988872 0.07439277  626.6854\n",
       "  min       max       \n",
       "1  -6266.53   27967.38\n",
       "2 -41740.00  114203.17\n",
       "3  -7188.61 1903858.37\n",
       "4  -9000.00 1089180.00\n",
       "5 -34108.00  348053.75\n",
       "6 -20000.00   96190.38"
      ]
     },
     "metadata": {},
     "output_type": "display_data"
    },
    {
     "ename": "ERROR",
     "evalue": "Error in dev.off(): QuartzBitmap_Output - unable to open file '/var/folders/jw/wyhtzlf94zbgtpf9g_n5tryr0000gn/T//RtmphyAIkN/file12195f3e81f7.png'\n",
     "output_type": "error",
     "traceback": [
      "Error in dev.off(): QuartzBitmap_Output - unable to open file '/var/folders/jw/wyhtzlf94zbgtpf9g_n5tryr0000gn/T//RtmphyAIkN/file12195f3e81f7.png'\nTraceback:\n"
     ]
    },
    {
     "data": {
      "text/plain": [
       "Plot with title “Amount by agency name”"
      ]
     },
     "metadata": {},
     "output_type": "display_data"
    }
   ],
   "source": [
    "# Simple Bar Plot \n",
    "stat_by_agency <- ccard %>% group_by(Agency_Name) %>%\n",
    "    summarise(count = n(),\n",
    "              amount = sum(Amount),\n",
    "              mean = mean(Amount),\n",
    "              min = min(Amount),\n",
    "              max = max(Amount)\n",
    "             ) %>%\n",
    "    arrange(desc(amount)) %>% ungroup() \n",
    "\n",
    "stat_by_agency <- stat_by_agency %>%\n",
    "    mutate(row = rep(1:nrow(stat_by_agency)),\n",
    "          Agency_Name_ind = paste(row,Agency_Name,sep=\"_\"),\n",
    "          percent = amount/sum(amount)) %>%\n",
    "    select(Agency_Name_ind,count, amount, percent,mean, min, max)\n",
    "\n",
    "head(stat_by_agency)\n",
    "temp <-stat_by_agency[1:30,]\n",
    "setwd(\"/Users/chriskuo/Downloads\")\n",
    "barplot(temp$count,names.arg=temp$Agency_Name_ind,\n",
    "main=\"Amount by agency name\",las=2       )"
   ]
  },
  {
   "cell_type": "markdown",
   "metadata": {},
   "source": [
    "#### Create timestamp"
   ]
  },
  {
   "cell_type": "code",
   "execution_count": 8,
   "metadata": {},
   "outputs": [
    {
     "data": {
      "text/html": [
       "<table>\n",
       "<thead><tr><th scope=col>Agency_Number</th><th scope=col>Agency_Name</th><th scope=col>Transaction_Date</th><th scope=col>time</th></tr></thead>\n",
       "<tbody>\n",
       "\t<tr><td>26500                   </td><td>`DEPARTMENT OF EDUCATION</td><td>2013-06-29              </td><td>NA days                 </td></tr>\n",
       "\t<tr><td>26500                   </td><td>`DEPARTMENT OF EDUCATION</td><td>2013-07-01              </td><td> 2 days                 </td></tr>\n",
       "\t<tr><td>26500                   </td><td>`DEPARTMENT OF EDUCATION</td><td>2013-07-01              </td><td> 0 days                 </td></tr>\n",
       "\t<tr><td>26500                   </td><td>`DEPARTMENT OF EDUCATION</td><td>2013-07-03              </td><td> 2 days                 </td></tr>\n",
       "\t<tr><td>26500                   </td><td>`DEPARTMENT OF EDUCATION</td><td>2013-07-03              </td><td> 0 days                 </td></tr>\n",
       "\t<tr><td>26500                   </td><td>`DEPARTMENT OF EDUCATION</td><td>2013-07-03              </td><td> 0 days                 </td></tr>\n",
       "\t<tr><td>26500                   </td><td>`DEPARTMENT OF EDUCATION</td><td>2013-07-03              </td><td> 0 days                 </td></tr>\n",
       "\t<tr><td>26500                   </td><td>`DEPARTMENT OF EDUCATION</td><td>2013-07-03              </td><td> 0 days                 </td></tr>\n",
       "\t<tr><td>26500                   </td><td>`DEPARTMENT OF EDUCATION</td><td>2013-07-03              </td><td> 0 days                 </td></tr>\n",
       "\t<tr><td>26500                   </td><td>`DEPARTMENT OF EDUCATION</td><td>2013-07-03              </td><td> 0 days                 </td></tr>\n",
       "\t<tr><td>26500                   </td><td>`DEPARTMENT OF EDUCATION</td><td>2013-07-03              </td><td> 0 days                 </td></tr>\n",
       "\t<tr><td>26500                   </td><td>`DEPARTMENT OF EDUCATION</td><td>2013-07-03              </td><td> 0 days                 </td></tr>\n",
       "\t<tr><td>26500                   </td><td>`DEPARTMENT OF EDUCATION</td><td>2013-07-03              </td><td> 0 days                 </td></tr>\n",
       "\t<tr><td>26500                   </td><td>`DEPARTMENT OF EDUCATION</td><td>2013-07-03              </td><td> 0 days                 </td></tr>\n",
       "\t<tr><td>26500                   </td><td>`DEPARTMENT OF EDUCATION</td><td>2013-07-03              </td><td> 0 days                 </td></tr>\n",
       "\t<tr><td>26500                   </td><td>`DEPARTMENT OF EDUCATION</td><td>2013-07-05              </td><td> 2 days                 </td></tr>\n",
       "\t<tr><td>26500                   </td><td>`DEPARTMENT OF EDUCATION</td><td>2013-07-05              </td><td> 0 days                 </td></tr>\n",
       "\t<tr><td>26500                   </td><td>`DEPARTMENT OF EDUCATION</td><td>2013-07-08              </td><td> 3 days                 </td></tr>\n",
       "\t<tr><td>26500                   </td><td>`DEPARTMENT OF EDUCATION</td><td>2013-07-08              </td><td> 0 days                 </td></tr>\n",
       "\t<tr><td>26500                   </td><td>`DEPARTMENT OF EDUCATION</td><td>2013-07-08              </td><td> 0 days                 </td></tr>\n",
       "\t<tr><td>26500                   </td><td>`DEPARTMENT OF EDUCATION</td><td>2013-07-08              </td><td> 0 days                 </td></tr>\n",
       "\t<tr><td>26500                   </td><td>`DEPARTMENT OF EDUCATION</td><td>2013-07-08              </td><td> 0 days                 </td></tr>\n",
       "\t<tr><td>26500                   </td><td>`DEPARTMENT OF EDUCATION</td><td>2013-07-08              </td><td> 0 days                 </td></tr>\n",
       "\t<tr><td>26500                   </td><td>`DEPARTMENT OF EDUCATION</td><td>2013-07-08              </td><td> 0 days                 </td></tr>\n",
       "\t<tr><td>26500                   </td><td>`DEPARTMENT OF EDUCATION</td><td>2013-07-08              </td><td> 0 days                 </td></tr>\n",
       "\t<tr><td>26500                   </td><td>`DEPARTMENT OF EDUCATION</td><td>2013-07-09              </td><td> 1 days                 </td></tr>\n",
       "\t<tr><td>26500                   </td><td>`DEPARTMENT OF EDUCATION</td><td>2013-07-09              </td><td> 0 days                 </td></tr>\n",
       "\t<tr><td>26500                   </td><td>`DEPARTMENT OF EDUCATION</td><td>2013-07-09              </td><td> 0 days                 </td></tr>\n",
       "\t<tr><td>26500                   </td><td>`DEPARTMENT OF EDUCATION</td><td>2013-07-09              </td><td> 0 days                 </td></tr>\n",
       "\t<tr><td>26500                   </td><td>`DEPARTMENT OF EDUCATION</td><td>2013-07-09              </td><td> 0 days                 </td></tr>\n",
       "\t<tr><td>⋮</td><td>⋮</td><td>⋮</td><td>⋮</td></tr>\n",
       "\t<tr><td>88000                          </td><td>WILL ROGERS MEMORIAL COMMISSION</td><td>2014-03-11                     </td><td> 4 days                        </td></tr>\n",
       "\t<tr><td>88000                          </td><td>WILL ROGERS MEMORIAL COMMISSION</td><td>2014-03-11                     </td><td> 0 days                        </td></tr>\n",
       "\t<tr><td>88000                          </td><td>WILL ROGERS MEMORIAL COMMISSION</td><td>2014-03-19                     </td><td> 8 days                        </td></tr>\n",
       "\t<tr><td>88000                          </td><td>WILL ROGERS MEMORIAL COMMISSION</td><td>2014-03-21                     </td><td> 2 days                        </td></tr>\n",
       "\t<tr><td>88000                          </td><td>WILL ROGERS MEMORIAL COMMISSION</td><td>2014-03-24                     </td><td> 3 days                        </td></tr>\n",
       "\t<tr><td>88000                          </td><td>WILL ROGERS MEMORIAL COMMISSION</td><td>2014-04-09                     </td><td>16 days                        </td></tr>\n",
       "\t<tr><td>88000                          </td><td>WILL ROGERS MEMORIAL COMMISSION</td><td>2014-04-22                     </td><td>13 days                        </td></tr>\n",
       "\t<tr><td>88000                          </td><td>WILL ROGERS MEMORIAL COMMISSION</td><td>2014-04-24                     </td><td> 2 days                        </td></tr>\n",
       "\t<tr><td>88000                          </td><td>WILL ROGERS MEMORIAL COMMISSION</td><td>2014-04-25                     </td><td> 1 days                        </td></tr>\n",
       "\t<tr><td>88000                          </td><td>WILL ROGERS MEMORIAL COMMISSION</td><td>2014-04-25                     </td><td> 0 days                        </td></tr>\n",
       "\t<tr><td>88000                          </td><td>WILL ROGERS MEMORIAL COMMISSION</td><td>2014-05-01                     </td><td> 6 days                        </td></tr>\n",
       "\t<tr><td>88000                          </td><td>WILL ROGERS MEMORIAL COMMISSION</td><td>2014-05-06                     </td><td> 5 days                        </td></tr>\n",
       "\t<tr><td>88000                          </td><td>WILL ROGERS MEMORIAL COMMISSION</td><td>2014-05-14                     </td><td> 8 days                        </td></tr>\n",
       "\t<tr><td>88000                          </td><td>WILL ROGERS MEMORIAL COMMISSION</td><td>2014-05-15                     </td><td> 1 days                        </td></tr>\n",
       "\t<tr><td>88000                          </td><td>WILL ROGERS MEMORIAL COMMISSION</td><td>2014-05-24                     </td><td> 9 days                        </td></tr>\n",
       "\t<tr><td>88000                          </td><td>WILL ROGERS MEMORIAL COMMISSION</td><td>2014-05-30                     </td><td> 6 days                        </td></tr>\n",
       "\t<tr><td>88000                          </td><td>WILL ROGERS MEMORIAL COMMISSION</td><td>2014-06-24                     </td><td>25 days                        </td></tr>\n",
       "\t<tr><td>88000                          </td><td>WILL ROGERS MEMORIAL COMMISSION</td><td>2014-06-28                     </td><td> 4 days                        </td></tr>\n",
       "\t<tr><td>86500                          </td><td>WORKER'S COMP. COMMISSION      </td><td>2014-03-12                     </td><td>NA days                        </td></tr>\n",
       "\t<tr><td>36900                          </td><td>WORKERS COMPENSATION COURT     </td><td>2013-07-24                     </td><td>NA days                        </td></tr>\n",
       "\t<tr><td>36900                          </td><td>WORKERS COMPENSATION COURT     </td><td>2013-07-24                     </td><td> 0 days                        </td></tr>\n",
       "\t<tr><td>36900                          </td><td>WORKERS COMPENSATION COURT     </td><td>2013-08-02                     </td><td> 9 days                        </td></tr>\n",
       "\t<tr><td>36900                          </td><td>WORKERS COMPENSATION COURT     </td><td>2013-08-16                     </td><td>14 days                        </td></tr>\n",
       "\t<tr><td>36900                          </td><td>WORKERS COMPENSATION COURT     </td><td>2013-08-27                     </td><td>11 days                        </td></tr>\n",
       "\t<tr><td>36900                          </td><td>WORKERS COMPENSATION COURT     </td><td>2013-08-28                     </td><td> 1 days                        </td></tr>\n",
       "\t<tr><td>36900                          </td><td>WORKERS COMPENSATION COURT     </td><td>2013-09-26                     </td><td>29 days                        </td></tr>\n",
       "\t<tr><td>36900                          </td><td>WORKERS COMPENSATION COURT     </td><td>2013-10-22                     </td><td>26 days                        </td></tr>\n",
       "\t<tr><td>36900                          </td><td>WORKERS COMPENSATION COURT     </td><td>2014-01-07                     </td><td>77 days                        </td></tr>\n",
       "\t<tr><td>36900                          </td><td>WORKERS COMPENSATION COURT     </td><td>2014-01-08                     </td><td> 1 days                        </td></tr>\n",
       "\t<tr><td>36900                          </td><td>WORKERS COMPENSATION COURT     </td><td>2014-01-27                     </td><td>19 days                        </td></tr>\n",
       "</tbody>\n",
       "</table>\n"
      ],
      "text/latex": [
       "\\begin{tabular}{r|llll}\n",
       " Agency\\_Number & Agency\\_Name & Transaction\\_Date & time\\\\\n",
       "\\hline\n",
       "\t 26500                    & `DEPARTMENT OF EDUCATION & 2013-06-29               & NA days                 \\\\\n",
       "\t 26500                    & `DEPARTMENT OF EDUCATION & 2013-07-01               &  2 days                 \\\\\n",
       "\t 26500                    & `DEPARTMENT OF EDUCATION & 2013-07-01               &  0 days                 \\\\\n",
       "\t 26500                    & `DEPARTMENT OF EDUCATION & 2013-07-03               &  2 days                 \\\\\n",
       "\t 26500                    & `DEPARTMENT OF EDUCATION & 2013-07-03               &  0 days                 \\\\\n",
       "\t 26500                    & `DEPARTMENT OF EDUCATION & 2013-07-03               &  0 days                 \\\\\n",
       "\t 26500                    & `DEPARTMENT OF EDUCATION & 2013-07-03               &  0 days                 \\\\\n",
       "\t 26500                    & `DEPARTMENT OF EDUCATION & 2013-07-03               &  0 days                 \\\\\n",
       "\t 26500                    & `DEPARTMENT OF EDUCATION & 2013-07-03               &  0 days                 \\\\\n",
       "\t 26500                    & `DEPARTMENT OF EDUCATION & 2013-07-03               &  0 days                 \\\\\n",
       "\t 26500                    & `DEPARTMENT OF EDUCATION & 2013-07-03               &  0 days                 \\\\\n",
       "\t 26500                    & `DEPARTMENT OF EDUCATION & 2013-07-03               &  0 days                 \\\\\n",
       "\t 26500                    & `DEPARTMENT OF EDUCATION & 2013-07-03               &  0 days                 \\\\\n",
       "\t 26500                    & `DEPARTMENT OF EDUCATION & 2013-07-03               &  0 days                 \\\\\n",
       "\t 26500                    & `DEPARTMENT OF EDUCATION & 2013-07-03               &  0 days                 \\\\\n",
       "\t 26500                    & `DEPARTMENT OF EDUCATION & 2013-07-05               &  2 days                 \\\\\n",
       "\t 26500                    & `DEPARTMENT OF EDUCATION & 2013-07-05               &  0 days                 \\\\\n",
       "\t 26500                    & `DEPARTMENT OF EDUCATION & 2013-07-08               &  3 days                 \\\\\n",
       "\t 26500                    & `DEPARTMENT OF EDUCATION & 2013-07-08               &  0 days                 \\\\\n",
       "\t 26500                    & `DEPARTMENT OF EDUCATION & 2013-07-08               &  0 days                 \\\\\n",
       "\t 26500                    & `DEPARTMENT OF EDUCATION & 2013-07-08               &  0 days                 \\\\\n",
       "\t 26500                    & `DEPARTMENT OF EDUCATION & 2013-07-08               &  0 days                 \\\\\n",
       "\t 26500                    & `DEPARTMENT OF EDUCATION & 2013-07-08               &  0 days                 \\\\\n",
       "\t 26500                    & `DEPARTMENT OF EDUCATION & 2013-07-08               &  0 days                 \\\\\n",
       "\t 26500                    & `DEPARTMENT OF EDUCATION & 2013-07-08               &  0 days                 \\\\\n",
       "\t 26500                    & `DEPARTMENT OF EDUCATION & 2013-07-09               &  1 days                 \\\\\n",
       "\t 26500                    & `DEPARTMENT OF EDUCATION & 2013-07-09               &  0 days                 \\\\\n",
       "\t 26500                    & `DEPARTMENT OF EDUCATION & 2013-07-09               &  0 days                 \\\\\n",
       "\t 26500                    & `DEPARTMENT OF EDUCATION & 2013-07-09               &  0 days                 \\\\\n",
       "\t 26500                    & `DEPARTMENT OF EDUCATION & 2013-07-09               &  0 days                 \\\\\n",
       "\t ⋮ & ⋮ & ⋮ & ⋮\\\\\n",
       "\t 88000                           & WILL ROGERS MEMORIAL COMMISSION & 2014-03-11                      &  4 days                        \\\\\n",
       "\t 88000                           & WILL ROGERS MEMORIAL COMMISSION & 2014-03-11                      &  0 days                        \\\\\n",
       "\t 88000                           & WILL ROGERS MEMORIAL COMMISSION & 2014-03-19                      &  8 days                        \\\\\n",
       "\t 88000                           & WILL ROGERS MEMORIAL COMMISSION & 2014-03-21                      &  2 days                        \\\\\n",
       "\t 88000                           & WILL ROGERS MEMORIAL COMMISSION & 2014-03-24                      &  3 days                        \\\\\n",
       "\t 88000                           & WILL ROGERS MEMORIAL COMMISSION & 2014-04-09                      & 16 days                        \\\\\n",
       "\t 88000                           & WILL ROGERS MEMORIAL COMMISSION & 2014-04-22                      & 13 days                        \\\\\n",
       "\t 88000                           & WILL ROGERS MEMORIAL COMMISSION & 2014-04-24                      &  2 days                        \\\\\n",
       "\t 88000                           & WILL ROGERS MEMORIAL COMMISSION & 2014-04-25                      &  1 days                        \\\\\n",
       "\t 88000                           & WILL ROGERS MEMORIAL COMMISSION & 2014-04-25                      &  0 days                        \\\\\n",
       "\t 88000                           & WILL ROGERS MEMORIAL COMMISSION & 2014-05-01                      &  6 days                        \\\\\n",
       "\t 88000                           & WILL ROGERS MEMORIAL COMMISSION & 2014-05-06                      &  5 days                        \\\\\n",
       "\t 88000                           & WILL ROGERS MEMORIAL COMMISSION & 2014-05-14                      &  8 days                        \\\\\n",
       "\t 88000                           & WILL ROGERS MEMORIAL COMMISSION & 2014-05-15                      &  1 days                        \\\\\n",
       "\t 88000                           & WILL ROGERS MEMORIAL COMMISSION & 2014-05-24                      &  9 days                        \\\\\n",
       "\t 88000                           & WILL ROGERS MEMORIAL COMMISSION & 2014-05-30                      &  6 days                        \\\\\n",
       "\t 88000                           & WILL ROGERS MEMORIAL COMMISSION & 2014-06-24                      & 25 days                        \\\\\n",
       "\t 88000                           & WILL ROGERS MEMORIAL COMMISSION & 2014-06-28                      &  4 days                        \\\\\n",
       "\t 86500                           & WORKER'S COMP. COMMISSION       & 2014-03-12                      & NA days                        \\\\\n",
       "\t 36900                           & WORKERS COMPENSATION COURT      & 2013-07-24                      & NA days                        \\\\\n",
       "\t 36900                           & WORKERS COMPENSATION COURT      & 2013-07-24                      &  0 days                        \\\\\n",
       "\t 36900                           & WORKERS COMPENSATION COURT      & 2013-08-02                      &  9 days                        \\\\\n",
       "\t 36900                           & WORKERS COMPENSATION COURT      & 2013-08-16                      & 14 days                        \\\\\n",
       "\t 36900                           & WORKERS COMPENSATION COURT      & 2013-08-27                      & 11 days                        \\\\\n",
       "\t 36900                           & WORKERS COMPENSATION COURT      & 2013-08-28                      &  1 days                        \\\\\n",
       "\t 36900                           & WORKERS COMPENSATION COURT      & 2013-09-26                      & 29 days                        \\\\\n",
       "\t 36900                           & WORKERS COMPENSATION COURT      & 2013-10-22                      & 26 days                        \\\\\n",
       "\t 36900                           & WORKERS COMPENSATION COURT      & 2014-01-07                      & 77 days                        \\\\\n",
       "\t 36900                           & WORKERS COMPENSATION COURT      & 2014-01-08                      &  1 days                        \\\\\n",
       "\t 36900                           & WORKERS COMPENSATION COURT      & 2014-01-27                      & 19 days                        \\\\\n",
       "\\end{tabular}\n"
      ],
      "text/markdown": [
       "\n",
       "Agency_Number | Agency_Name | Transaction_Date | time | \n",
       "|---|---|---|---|---|---|---|---|---|---|---|---|---|---|---|---|---|---|---|---|---|---|---|---|---|---|---|---|---|---|---|---|---|---|---|---|---|---|---|---|---|---|---|---|---|---|---|---|---|---|---|---|---|---|---|---|---|---|---|---|---|\n",
       "| 26500                    | `DEPARTMENT OF EDUCATION | 2013-06-29               | NA days                  | \n",
       "| 26500                    | `DEPARTMENT OF EDUCATION | 2013-07-01               |  2 days                  | \n",
       "| 26500                    | `DEPARTMENT OF EDUCATION | 2013-07-01               |  0 days                  | \n",
       "| 26500                    | `DEPARTMENT OF EDUCATION | 2013-07-03               |  2 days                  | \n",
       "| 26500                    | `DEPARTMENT OF EDUCATION | 2013-07-03               |  0 days                  | \n",
       "| 26500                    | `DEPARTMENT OF EDUCATION | 2013-07-03               |  0 days                  | \n",
       "| 26500                    | `DEPARTMENT OF EDUCATION | 2013-07-03               |  0 days                  | \n",
       "| 26500                    | `DEPARTMENT OF EDUCATION | 2013-07-03               |  0 days                  | \n",
       "| 26500                    | `DEPARTMENT OF EDUCATION | 2013-07-03               |  0 days                  | \n",
       "| 26500                    | `DEPARTMENT OF EDUCATION | 2013-07-03               |  0 days                  | \n",
       "| 26500                    | `DEPARTMENT OF EDUCATION | 2013-07-03               |  0 days                  | \n",
       "| 26500                    | `DEPARTMENT OF EDUCATION | 2013-07-03               |  0 days                  | \n",
       "| 26500                    | `DEPARTMENT OF EDUCATION | 2013-07-03               |  0 days                  | \n",
       "| 26500                    | `DEPARTMENT OF EDUCATION | 2013-07-03               |  0 days                  | \n",
       "| 26500                    | `DEPARTMENT OF EDUCATION | 2013-07-03               |  0 days                  | \n",
       "| 26500                    | `DEPARTMENT OF EDUCATION | 2013-07-05               |  2 days                  | \n",
       "| 26500                    | `DEPARTMENT OF EDUCATION | 2013-07-05               |  0 days                  | \n",
       "| 26500                    | `DEPARTMENT OF EDUCATION | 2013-07-08               |  3 days                  | \n",
       "| 26500                    | `DEPARTMENT OF EDUCATION | 2013-07-08               |  0 days                  | \n",
       "| 26500                    | `DEPARTMENT OF EDUCATION | 2013-07-08               |  0 days                  | \n",
       "| 26500                    | `DEPARTMENT OF EDUCATION | 2013-07-08               |  0 days                  | \n",
       "| 26500                    | `DEPARTMENT OF EDUCATION | 2013-07-08               |  0 days                  | \n",
       "| 26500                    | `DEPARTMENT OF EDUCATION | 2013-07-08               |  0 days                  | \n",
       "| 26500                    | `DEPARTMENT OF EDUCATION | 2013-07-08               |  0 days                  | \n",
       "| 26500                    | `DEPARTMENT OF EDUCATION | 2013-07-08               |  0 days                  | \n",
       "| 26500                    | `DEPARTMENT OF EDUCATION | 2013-07-09               |  1 days                  | \n",
       "| 26500                    | `DEPARTMENT OF EDUCATION | 2013-07-09               |  0 days                  | \n",
       "| 26500                    | `DEPARTMENT OF EDUCATION | 2013-07-09               |  0 days                  | \n",
       "| 26500                    | `DEPARTMENT OF EDUCATION | 2013-07-09               |  0 days                  | \n",
       "| 26500                    | `DEPARTMENT OF EDUCATION | 2013-07-09               |  0 days                  | \n",
       "| ⋮ | ⋮ | ⋮ | ⋮ | \n",
       "| 88000                           | WILL ROGERS MEMORIAL COMMISSION | 2014-03-11                      |  4 days                         | \n",
       "| 88000                           | WILL ROGERS MEMORIAL COMMISSION | 2014-03-11                      |  0 days                         | \n",
       "| 88000                           | WILL ROGERS MEMORIAL COMMISSION | 2014-03-19                      |  8 days                         | \n",
       "| 88000                           | WILL ROGERS MEMORIAL COMMISSION | 2014-03-21                      |  2 days                         | \n",
       "| 88000                           | WILL ROGERS MEMORIAL COMMISSION | 2014-03-24                      |  3 days                         | \n",
       "| 88000                           | WILL ROGERS MEMORIAL COMMISSION | 2014-04-09                      | 16 days                         | \n",
       "| 88000                           | WILL ROGERS MEMORIAL COMMISSION | 2014-04-22                      | 13 days                         | \n",
       "| 88000                           | WILL ROGERS MEMORIAL COMMISSION | 2014-04-24                      |  2 days                         | \n",
       "| 88000                           | WILL ROGERS MEMORIAL COMMISSION | 2014-04-25                      |  1 days                         | \n",
       "| 88000                           | WILL ROGERS MEMORIAL COMMISSION | 2014-04-25                      |  0 days                         | \n",
       "| 88000                           | WILL ROGERS MEMORIAL COMMISSION | 2014-05-01                      |  6 days                         | \n",
       "| 88000                           | WILL ROGERS MEMORIAL COMMISSION | 2014-05-06                      |  5 days                         | \n",
       "| 88000                           | WILL ROGERS MEMORIAL COMMISSION | 2014-05-14                      |  8 days                         | \n",
       "| 88000                           | WILL ROGERS MEMORIAL COMMISSION | 2014-05-15                      |  1 days                         | \n",
       "| 88000                           | WILL ROGERS MEMORIAL COMMISSION | 2014-05-24                      |  9 days                         | \n",
       "| 88000                           | WILL ROGERS MEMORIAL COMMISSION | 2014-05-30                      |  6 days                         | \n",
       "| 88000                           | WILL ROGERS MEMORIAL COMMISSION | 2014-06-24                      | 25 days                         | \n",
       "| 88000                           | WILL ROGERS MEMORIAL COMMISSION | 2014-06-28                      |  4 days                         | \n",
       "| 86500                           | WORKER'S COMP. COMMISSION       | 2014-03-12                      | NA days                         | \n",
       "| 36900                           | WORKERS COMPENSATION COURT      | 2013-07-24                      | NA days                         | \n",
       "| 36900                           | WORKERS COMPENSATION COURT      | 2013-07-24                      |  0 days                         | \n",
       "| 36900                           | WORKERS COMPENSATION COURT      | 2013-08-02                      |  9 days                         | \n",
       "| 36900                           | WORKERS COMPENSATION COURT      | 2013-08-16                      | 14 days                         | \n",
       "| 36900                           | WORKERS COMPENSATION COURT      | 2013-08-27                      | 11 days                         | \n",
       "| 36900                           | WORKERS COMPENSATION COURT      | 2013-08-28                      |  1 days                         | \n",
       "| 36900                           | WORKERS COMPENSATION COURT      | 2013-09-26                      | 29 days                         | \n",
       "| 36900                           | WORKERS COMPENSATION COURT      | 2013-10-22                      | 26 days                         | \n",
       "| 36900                           | WORKERS COMPENSATION COURT      | 2014-01-07                      | 77 days                         | \n",
       "| 36900                           | WORKERS COMPENSATION COURT      | 2014-01-08                      |  1 days                         | \n",
       "| 36900                           | WORKERS COMPENSATION COURT      | 2014-01-27                      | 19 days                         | \n",
       "\n",
       "\n"
      ],
      "text/plain": [
       "       Agency_Number Agency_Name                     Transaction_Date time   \n",
       "1      26500         `DEPARTMENT OF EDUCATION        2013-06-29       NA days\n",
       "2      26500         `DEPARTMENT OF EDUCATION        2013-07-01        2 days\n",
       "3      26500         `DEPARTMENT OF EDUCATION        2013-07-01        0 days\n",
       "4      26500         `DEPARTMENT OF EDUCATION        2013-07-03        2 days\n",
       "5      26500         `DEPARTMENT OF EDUCATION        2013-07-03        0 days\n",
       "6      26500         `DEPARTMENT OF EDUCATION        2013-07-03        0 days\n",
       "7      26500         `DEPARTMENT OF EDUCATION        2013-07-03        0 days\n",
       "8      26500         `DEPARTMENT OF EDUCATION        2013-07-03        0 days\n",
       "9      26500         `DEPARTMENT OF EDUCATION        2013-07-03        0 days\n",
       "10     26500         `DEPARTMENT OF EDUCATION        2013-07-03        0 days\n",
       "11     26500         `DEPARTMENT OF EDUCATION        2013-07-03        0 days\n",
       "12     26500         `DEPARTMENT OF EDUCATION        2013-07-03        0 days\n",
       "13     26500         `DEPARTMENT OF EDUCATION        2013-07-03        0 days\n",
       "14     26500         `DEPARTMENT OF EDUCATION        2013-07-03        0 days\n",
       "15     26500         `DEPARTMENT OF EDUCATION        2013-07-03        0 days\n",
       "16     26500         `DEPARTMENT OF EDUCATION        2013-07-05        2 days\n",
       "17     26500         `DEPARTMENT OF EDUCATION        2013-07-05        0 days\n",
       "18     26500         `DEPARTMENT OF EDUCATION        2013-07-08        3 days\n",
       "19     26500         `DEPARTMENT OF EDUCATION        2013-07-08        0 days\n",
       "20     26500         `DEPARTMENT OF EDUCATION        2013-07-08        0 days\n",
       "21     26500         `DEPARTMENT OF EDUCATION        2013-07-08        0 days\n",
       "22     26500         `DEPARTMENT OF EDUCATION        2013-07-08        0 days\n",
       "23     26500         `DEPARTMENT OF EDUCATION        2013-07-08        0 days\n",
       "24     26500         `DEPARTMENT OF EDUCATION        2013-07-08        0 days\n",
       "25     26500         `DEPARTMENT OF EDUCATION        2013-07-08        0 days\n",
       "26     26500         `DEPARTMENT OF EDUCATION        2013-07-09        1 days\n",
       "27     26500         `DEPARTMENT OF EDUCATION        2013-07-09        0 days\n",
       "28     26500         `DEPARTMENT OF EDUCATION        2013-07-09        0 days\n",
       "29     26500         `DEPARTMENT OF EDUCATION        2013-07-09        0 days\n",
       "30     26500         `DEPARTMENT OF EDUCATION        2013-07-09        0 days\n",
       "⋮      ⋮             ⋮                               ⋮                ⋮      \n",
       "442429 88000         WILL ROGERS MEMORIAL COMMISSION 2014-03-11        4 days\n",
       "442430 88000         WILL ROGERS MEMORIAL COMMISSION 2014-03-11        0 days\n",
       "442431 88000         WILL ROGERS MEMORIAL COMMISSION 2014-03-19        8 days\n",
       "442432 88000         WILL ROGERS MEMORIAL COMMISSION 2014-03-21        2 days\n",
       "442433 88000         WILL ROGERS MEMORIAL COMMISSION 2014-03-24        3 days\n",
       "442434 88000         WILL ROGERS MEMORIAL COMMISSION 2014-04-09       16 days\n",
       "442435 88000         WILL ROGERS MEMORIAL COMMISSION 2014-04-22       13 days\n",
       "442436 88000         WILL ROGERS MEMORIAL COMMISSION 2014-04-24        2 days\n",
       "442437 88000         WILL ROGERS MEMORIAL COMMISSION 2014-04-25        1 days\n",
       "442438 88000         WILL ROGERS MEMORIAL COMMISSION 2014-04-25        0 days\n",
       "442439 88000         WILL ROGERS MEMORIAL COMMISSION 2014-05-01        6 days\n",
       "442440 88000         WILL ROGERS MEMORIAL COMMISSION 2014-05-06        5 days\n",
       "442441 88000         WILL ROGERS MEMORIAL COMMISSION 2014-05-14        8 days\n",
       "442442 88000         WILL ROGERS MEMORIAL COMMISSION 2014-05-15        1 days\n",
       "442443 88000         WILL ROGERS MEMORIAL COMMISSION 2014-05-24        9 days\n",
       "442444 88000         WILL ROGERS MEMORIAL COMMISSION 2014-05-30        6 days\n",
       "442445 88000         WILL ROGERS MEMORIAL COMMISSION 2014-06-24       25 days\n",
       "442446 88000         WILL ROGERS MEMORIAL COMMISSION 2014-06-28        4 days\n",
       "442447 86500         WORKER'S COMP. COMMISSION       2014-03-12       NA days\n",
       "442448 36900         WORKERS COMPENSATION COURT      2013-07-24       NA days\n",
       "442449 36900         WORKERS COMPENSATION COURT      2013-07-24        0 days\n",
       "442450 36900         WORKERS COMPENSATION COURT      2013-08-02        9 days\n",
       "442451 36900         WORKERS COMPENSATION COURT      2013-08-16       14 days\n",
       "442452 36900         WORKERS COMPENSATION COURT      2013-08-27       11 days\n",
       "442453 36900         WORKERS COMPENSATION COURT      2013-08-28        1 days\n",
       "442454 36900         WORKERS COMPENSATION COURT      2013-09-26       29 days\n",
       "442455 36900         WORKERS COMPENSATION COURT      2013-10-22       26 days\n",
       "442456 36900         WORKERS COMPENSATION COURT      2014-01-07       77 days\n",
       "442457 36900         WORKERS COMPENSATION COURT      2014-01-08        1 days\n",
       "442458 36900         WORKERS COMPENSATION COURT      2014-01-27       19 days"
      ]
     },
     "metadata": {},
     "output_type": "display_data"
    }
   ],
   "source": [
    "time_by_agency <- ccard %>% group_by(Agency_Name) %>%\n",
    "    mutate(Transaction_Date=as.Date(Transaction_Date,format=\"%m/%d/%Y %H:%M\")) %>%\n",
    "    arrange(Agency_Name,Transaction_Date) %>%\n",
    "    mutate(time = Transaction_Date-lag(Transaction_Date) ) \n",
    "    \n",
    "time_by_agency[,c(\"Agency_Number\",\"Agency_Name\", \"Transaction_Date\", \"time\")]"
   ]
  },
  {
   "cell_type": "markdown",
   "metadata": {},
   "source": [
    "#### Frequency"
   ]
  },
  {
   "cell_type": "code",
   "execution_count": 9,
   "metadata": {},
   "outputs": [
    {
     "ename": "ERROR",
     "evalue": "Error in grouped_df_impl(data, unname(vars), drop): Column `vendor` is unknown\n",
     "output_type": "error",
     "traceback": [
      "Error in grouped_df_impl(data, unname(vars), drop): Column `vendor` is unknown\nTraceback:\n",
      "1. time_by_agency %>% filter(Agency_Number == 26500) %>% group_by(vendor, \n .     Merchant_Category)",
      "2. withVisible(eval(quote(`_fseq`(`_lhs`)), env, env))",
      "3. eval(quote(`_fseq`(`_lhs`)), env, env)",
      "4. eval(quote(`_fseq`(`_lhs`)), env, env)",
      "5. `_fseq`(`_lhs`)",
      "6. freduce(value, `_function_list`)",
      "7. withVisible(function_list[[k]](value))",
      "8. function_list[[k]](value)",
      "9. group_by(., vendor, Merchant_Category)",
      "10. group_by.data.frame(., vendor, Merchant_Category)",
      "11. grouped_df(groups$data, groups$group_names)",
      "12. grouped_df_impl(data, unname(vars), drop)"
     ]
    }
   ],
   "source": [
    "    \n",
    "time_by_agency %>% filter(Agency_Number ==26500) %>% group_by(vendor,Merchant_Category)"
   ]
  },
  {
   "cell_type": "code",
   "execution_count": null,
   "metadata": {},
   "outputs": [],
   "source": []
  }
 ],
 "metadata": {
  "kernelspec": {
   "display_name": "R",
   "language": "R",
   "name": "ir"
  },
  "language_info": {
   "codemirror_mode": "r",
   "file_extension": ".r",
   "mimetype": "text/x-r-source",
   "name": "R",
   "pygments_lexer": "r",
   "version": "3.4.3"
  }
 },
 "nbformat": 4,
 "nbformat_minor": 2
}
