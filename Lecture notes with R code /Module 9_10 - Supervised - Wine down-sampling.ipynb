{
 "cells": [
  {
   "cell_type": "markdown",
   "metadata": {},
   "source": [
    "## Generate an extremely unbalanced dataset"
   ]
  },
  {
   "cell_type": "code",
   "execution_count": 1,
   "metadata": {},
   "outputs": [
    {
     "data": {
      "text/html": [
       "<table>\n",
       "<thead><tr><th scope=col>Type</th><th scope=col>Alcohol</th><th scope=col>Malic</th><th scope=col>Ash</th><th scope=col>Alcalinity</th><th scope=col>Magnesium</th><th scope=col>Phenols</th><th scope=col>Flavanoids</th><th scope=col>Nonflavanoids</th><th scope=col>Proanthocyanins</th><th scope=col>Color</th><th scope=col>Hue</th><th scope=col>Dilution</th><th scope=col>Proline</th></tr></thead>\n",
       "<tbody>\n",
       "\t<tr><td>1    </td><td>14.23</td><td>1.71 </td><td>2.43 </td><td>15.6 </td><td>127  </td><td>2.80 </td><td>3.06 </td><td>0.28 </td><td>2.29 </td><td>5.64 </td><td>1.04 </td><td>3.92 </td><td>1065 </td></tr>\n",
       "\t<tr><td>1    </td><td>13.20</td><td>1.78 </td><td>2.14 </td><td>11.2 </td><td>100  </td><td>2.65 </td><td>2.76 </td><td>0.26 </td><td>1.28 </td><td>4.38 </td><td>1.05 </td><td>3.40 </td><td>1050 </td></tr>\n",
       "\t<tr><td>1    </td><td>13.16</td><td>2.36 </td><td>2.67 </td><td>18.6 </td><td>101  </td><td>2.80 </td><td>3.24 </td><td>0.30 </td><td>2.81 </td><td>5.68 </td><td>1.03 </td><td>3.17 </td><td>1185 </td></tr>\n",
       "\t<tr><td>1    </td><td>14.37</td><td>1.95 </td><td>2.50 </td><td>16.8 </td><td>113  </td><td>3.85 </td><td>3.49 </td><td>0.24 </td><td>2.18 </td><td>7.80 </td><td>0.86 </td><td>3.45 </td><td>1480 </td></tr>\n",
       "\t<tr><td>1    </td><td>13.24</td><td>2.59 </td><td>2.87 </td><td>21.0 </td><td>118  </td><td>2.80 </td><td>2.69 </td><td>0.39 </td><td>1.82 </td><td>4.32 </td><td>1.04 </td><td>2.93 </td><td> 735 </td></tr>\n",
       "\t<tr><td>1    </td><td>14.20</td><td>1.76 </td><td>2.45 </td><td>15.2 </td><td>112  </td><td>3.27 </td><td>3.39 </td><td>0.34 </td><td>1.97 </td><td>6.75 </td><td>1.05 </td><td>2.85 </td><td>1450 </td></tr>\n",
       "</tbody>\n",
       "</table>\n"
      ],
      "text/latex": [
       "\\begin{tabular}{r|llllllllllllll}\n",
       " Type & Alcohol & Malic & Ash & Alcalinity & Magnesium & Phenols & Flavanoids & Nonflavanoids & Proanthocyanins & Color & Hue & Dilution & Proline\\\\\n",
       "\\hline\n",
       "\t 1     & 14.23 & 1.71  & 2.43  & 15.6  & 127   & 2.80  & 3.06  & 0.28  & 2.29  & 5.64  & 1.04  & 3.92  & 1065 \\\\\n",
       "\t 1     & 13.20 & 1.78  & 2.14  & 11.2  & 100   & 2.65  & 2.76  & 0.26  & 1.28  & 4.38  & 1.05  & 3.40  & 1050 \\\\\n",
       "\t 1     & 13.16 & 2.36  & 2.67  & 18.6  & 101   & 2.80  & 3.24  & 0.30  & 2.81  & 5.68  & 1.03  & 3.17  & 1185 \\\\\n",
       "\t 1     & 14.37 & 1.95  & 2.50  & 16.8  & 113   & 3.85  & 3.49  & 0.24  & 2.18  & 7.80  & 0.86  & 3.45  & 1480 \\\\\n",
       "\t 1     & 13.24 & 2.59  & 2.87  & 21.0  & 118   & 2.80  & 2.69  & 0.39  & 1.82  & 4.32  & 1.04  & 2.93  &  735 \\\\\n",
       "\t 1     & 14.20 & 1.76  & 2.45  & 15.2  & 112   & 3.27  & 3.39  & 0.34  & 1.97  & 6.75  & 1.05  & 2.85  & 1450 \\\\\n",
       "\\end{tabular}\n"
      ],
      "text/markdown": [
       "\n",
       "Type | Alcohol | Malic | Ash | Alcalinity | Magnesium | Phenols | Flavanoids | Nonflavanoids | Proanthocyanins | Color | Hue | Dilution | Proline | \n",
       "|---|---|---|---|---|---|\n",
       "| 1     | 14.23 | 1.71  | 2.43  | 15.6  | 127   | 2.80  | 3.06  | 0.28  | 2.29  | 5.64  | 1.04  | 3.92  | 1065  | \n",
       "| 1     | 13.20 | 1.78  | 2.14  | 11.2  | 100   | 2.65  | 2.76  | 0.26  | 1.28  | 4.38  | 1.05  | 3.40  | 1050  | \n",
       "| 1     | 13.16 | 2.36  | 2.67  | 18.6  | 101   | 2.80  | 3.24  | 0.30  | 2.81  | 5.68  | 1.03  | 3.17  | 1185  | \n",
       "| 1     | 14.37 | 1.95  | 2.50  | 16.8  | 113   | 3.85  | 3.49  | 0.24  | 2.18  | 7.80  | 0.86  | 3.45  | 1480  | \n",
       "| 1     | 13.24 | 2.59  | 2.87  | 21.0  | 118   | 2.80  | 2.69  | 0.39  | 1.82  | 4.32  | 1.04  | 2.93  |  735  | \n",
       "| 1     | 14.20 | 1.76  | 2.45  | 15.2  | 112   | 3.27  | 3.39  | 0.34  | 1.97  | 6.75  | 1.05  | 2.85  | 1450  | \n",
       "\n",
       "\n"
      ],
      "text/plain": [
       "  Type Alcohol Malic Ash  Alcalinity Magnesium Phenols Flavanoids Nonflavanoids\n",
       "1 1    14.23   1.71  2.43 15.6       127       2.80    3.06       0.28         \n",
       "2 1    13.20   1.78  2.14 11.2       100       2.65    2.76       0.26         \n",
       "3 1    13.16   2.36  2.67 18.6       101       2.80    3.24       0.30         \n",
       "4 1    14.37   1.95  2.50 16.8       113       3.85    3.49       0.24         \n",
       "5 1    13.24   2.59  2.87 21.0       118       2.80    2.69       0.39         \n",
       "6 1    14.20   1.76  2.45 15.2       112       3.27    3.39       0.34         \n",
       "  Proanthocyanins Color Hue  Dilution Proline\n",
       "1 2.29            5.64  1.04 3.92     1065   \n",
       "2 1.28            4.38  1.05 3.40     1050   \n",
       "3 2.81            5.68  1.03 3.17     1185   \n",
       "4 2.18            7.80  0.86 3.45     1480   \n",
       "5 1.82            4.32  1.04 2.93      735   \n",
       "6 1.97            6.75  1.05 2.85     1450   "
      ]
     },
     "metadata": {},
     "output_type": "display_data"
    },
    {
     "data": {
      "text/plain": [
       "\n",
       " 1  2  3 \n",
       "59 71 48 "
      ]
     },
     "metadata": {},
     "output_type": "display_data"
    }
   ],
   "source": [
    "# Get the \"Wine\" dataset\n",
    "#install.packages(\"rattle.data\")\n",
    "library(rattle.data)\n",
    "head(wine)\n",
    "table(wine$Type)"
   ]
  },
  {
   "cell_type": "code",
   "execution_count": 3,
   "metadata": {},
   "outputs": [
    {
     "data": {
      "text/html": [
       "<ol class=list-inline>\n",
       "\t<li>4000</li>\n",
       "\t<li>14</li>\n",
       "</ol>\n"
      ],
      "text/latex": [
       "\\begin{enumerate*}\n",
       "\\item 4000\n",
       "\\item 14\n",
       "\\end{enumerate*}\n"
      ],
      "text/markdown": [
       "1. 4000\n",
       "2. 14\n",
       "\n",
       "\n"
      ],
      "text/plain": [
       "[1] 4000   14"
      ]
     },
     "metadata": {},
     "output_type": "display_data"
    },
    {
     "data": {
      "text/html": [
       "<ol class=list-inline>\n",
       "\t<li>4071</li>\n",
       "\t<li>14</li>\n",
       "</ol>\n"
      ],
      "text/latex": [
       "\\begin{enumerate*}\n",
       "\\item 4071\n",
       "\\item 14\n",
       "\\end{enumerate*}\n"
      ],
      "text/markdown": [
       "1. 4071\n",
       "2. 14\n",
       "\n",
       "\n"
      ],
      "text/plain": [
       "[1] 4071   14"
      ]
     },
     "metadata": {},
     "output_type": "display_data"
    },
    {
     "data": {
      "text/html": [
       "<table>\n",
       "<thead><tr><th></th><th scope=col>Type</th><th scope=col>Alcohol</th><th scope=col>Malic</th><th scope=col>Ash</th><th scope=col>Alcalinity</th><th scope=col>Magnesium</th><th scope=col>Phenols</th><th scope=col>Flavanoids</th><th scope=col>Nonflavanoids</th><th scope=col>Proanthocyanins</th><th scope=col>Color</th><th scope=col>Hue</th><th scope=col>Dilution</th><th scope=col>Proline</th></tr></thead>\n",
       "<tbody>\n",
       "\t<tr><th scope=row>52.54</th><td>0    </td><td>13.83</td><td>1.65 </td><td>2.60 </td><td>17.2 </td><td> 94  </td><td>2.45 </td><td>2.99 </td><td>0.22 </td><td>2.29 </td><td>5.60 </td><td>1.24 </td><td>3.37 </td><td>1265 </td></tr>\n",
       "\t<tr><th scope=row>13.29</th><td>0    </td><td>13.75</td><td>1.73 </td><td>2.41 </td><td>16.0 </td><td> 89  </td><td>2.60 </td><td>2.76 </td><td>0.29 </td><td>1.81 </td><td>5.60 </td><td>1.15 </td><td>2.90 </td><td>1320 </td></tr>\n",
       "\t<tr><th scope=row>31.37</th><td>0    </td><td>13.73</td><td>1.50 </td><td>2.70 </td><td>22.5 </td><td>101  </td><td>3.00 </td><td>3.25 </td><td>0.29 </td><td>2.38 </td><td>5.70 </td><td>1.19 </td><td>2.71 </td><td>1285 </td></tr>\n",
       "\t<tr><th scope=row>39.40</th><td>0    </td><td>13.07</td><td>1.50 </td><td>2.10 </td><td>15.5 </td><td> 98  </td><td>2.40 </td><td>2.64 </td><td>0.28 </td><td>1.37 </td><td>3.70 </td><td>1.18 </td><td>2.69 </td><td>1020 </td></tr>\n",
       "\t<tr><th scope=row>24.45</th><td>0    </td><td>12.85</td><td>1.60 </td><td>2.52 </td><td>17.8 </td><td> 95  </td><td>2.48 </td><td>2.37 </td><td>0.26 </td><td>1.46 </td><td>3.93 </td><td>1.09 </td><td>3.63 </td><td>1015 </td></tr>\n",
       "\t<tr><th scope=row>34.52</th><td>0    </td><td>13.76</td><td>1.53 </td><td>2.70 </td><td>19.5 </td><td>132  </td><td>2.95 </td><td>2.74 </td><td>0.50 </td><td>1.35 </td><td>5.40 </td><td>1.25 </td><td>3.00 </td><td>1235 </td></tr>\n",
       "</tbody>\n",
       "</table>\n"
      ],
      "text/latex": [
       "\\begin{tabular}{r|llllllllllllll}\n",
       "  & Type & Alcohol & Malic & Ash & Alcalinity & Magnesium & Phenols & Flavanoids & Nonflavanoids & Proanthocyanins & Color & Hue & Dilution & Proline\\\\\n",
       "\\hline\n",
       "\t52.54 & 0     & 13.83 & 1.65  & 2.60  & 17.2  &  94   & 2.45  & 2.99  & 0.22  & 2.29  & 5.60  & 1.24  & 3.37  & 1265 \\\\\n",
       "\t13.29 & 0     & 13.75 & 1.73  & 2.41  & 16.0  &  89   & 2.60  & 2.76  & 0.29  & 1.81  & 5.60  & 1.15  & 2.90  & 1320 \\\\\n",
       "\t31.37 & 0     & 13.73 & 1.50  & 2.70  & 22.5  & 101   & 3.00  & 3.25  & 0.29  & 2.38  & 5.70  & 1.19  & 2.71  & 1285 \\\\\n",
       "\t39.40 & 0     & 13.07 & 1.50  & 2.10  & 15.5  &  98   & 2.40  & 2.64  & 0.28  & 1.37  & 3.70  & 1.18  & 2.69  & 1020 \\\\\n",
       "\t24.45 & 0     & 12.85 & 1.60  & 2.52  & 17.8  &  95   & 2.48  & 2.37  & 0.26  & 1.46  & 3.93  & 1.09  & 3.63  & 1015 \\\\\n",
       "\t34.52 & 0     & 13.76 & 1.53  & 2.70  & 19.5  & 132   & 2.95  & 2.74  & 0.50  & 1.35  & 5.40  & 1.25  & 3.00  & 1235 \\\\\n",
       "\\end{tabular}\n"
      ],
      "text/markdown": [
       "\n",
       "| <!--/--> | Type | Alcohol | Malic | Ash | Alcalinity | Magnesium | Phenols | Flavanoids | Nonflavanoids | Proanthocyanins | Color | Hue | Dilution | Proline | \n",
       "|---|---|---|---|---|---|\n",
       "| 52.54 | 0     | 13.83 | 1.65  | 2.60  | 17.2  |  94   | 2.45  | 2.99  | 0.22  | 2.29  | 5.60  | 1.24  | 3.37  | 1265  | \n",
       "| 13.29 | 0     | 13.75 | 1.73  | 2.41  | 16.0  |  89   | 2.60  | 2.76  | 0.29  | 1.81  | 5.60  | 1.15  | 2.90  | 1320  | \n",
       "| 31.37 | 0     | 13.73 | 1.50  | 2.70  | 22.5  | 101   | 3.00  | 3.25  | 0.29  | 2.38  | 5.70  | 1.19  | 2.71  | 1285  | \n",
       "| 39.40 | 0     | 13.07 | 1.50  | 2.10  | 15.5  |  98   | 2.40  | 2.64  | 0.28  | 1.37  | 3.70  | 1.18  | 2.69  | 1020  | \n",
       "| 24.45 | 0     | 12.85 | 1.60  | 2.52  | 17.8  |  95   | 2.48  | 2.37  | 0.26  | 1.46  | 3.93  | 1.09  | 3.63  | 1015  | \n",
       "| 34.52 | 0     | 13.76 | 1.53  | 2.70  | 19.5  | 132   | 2.95  | 2.74  | 0.50  | 1.35  | 5.40  | 1.25  | 3.00  | 1235  | \n",
       "\n",
       "\n"
      ],
      "text/plain": [
       "      Type Alcohol Malic Ash  Alcalinity Magnesium Phenols Flavanoids\n",
       "52.54 0    13.83   1.65  2.60 17.2        94       2.45    2.99      \n",
       "13.29 0    13.75   1.73  2.41 16.0        89       2.60    2.76      \n",
       "31.37 0    13.73   1.50  2.70 22.5       101       3.00    3.25      \n",
       "39.40 0    13.07   1.50  2.10 15.5        98       2.40    2.64      \n",
       "24.45 0    12.85   1.60  2.52 17.8        95       2.48    2.37      \n",
       "34.52 0    13.76   1.53  2.70 19.5       132       2.95    2.74      \n",
       "      Nonflavanoids Proanthocyanins Color Hue  Dilution Proline\n",
       "52.54 0.22          2.29            5.60  1.24 3.37     1265   \n",
       "13.29 0.29          1.81            5.60  1.15 2.90     1320   \n",
       "31.37 0.29          2.38            5.70  1.19 2.71     1285   \n",
       "39.40 0.28          1.37            3.70  1.18 2.69     1020   \n",
       "24.45 0.26          1.46            3.93  1.09 3.63     1015   \n",
       "34.52 0.50          1.35            5.40  1.25 3.00     1235   "
      ]
     },
     "metadata": {},
     "output_type": "display_data"
    },
    {
     "data": {
      "text/plain": [
       "\n",
       "   0    1 \n",
       "4000   71 "
      ]
     },
     "metadata": {},
     "output_type": "display_data"
    }
   ],
   "source": [
    "# Take only Type='1'\n",
    "temp <-wine[wine$Type=='1',]\n",
    "# Generate 1,000 row samples with replacement. Note if replace=False, it won't work.\n",
    "temp2<-temp[sample(nrow(temp), 4000,replace=T), ]\n",
    "dim(temp2)\n",
    "# Put together\n",
    "wine2<-rbind(wine[wine$Type=='2',],temp2)\n",
    "# Shuffle the rows\n",
    "wine2 <- wine2[sample(nrow(wine2)),]\n",
    "dim(wine2)\n",
    "# Change the target value to 1 and 0.\n",
    "wine2$Type <-as.factor(ifelse(wine2$Type=='1','0','1'))\n",
    "head(wine2)\n",
    "#mean(as.numeric(wine2$Type))\n",
    "table(wine2$Type)"
   ]
  },
  {
   "cell_type": "markdown",
   "metadata": {},
   "source": [
    "## Down-sampling"
   ]
  },
  {
   "cell_type": "code",
   "execution_count": 4,
   "metadata": {},
   "outputs": [
    {
     "data": {
      "text/plain": [
       "\n",
       "  0   1 \n",
       "800  71 "
      ]
     },
     "metadata": {},
     "output_type": "display_data"
    }
   ],
   "source": [
    "group1<-wine2[wine2$Type=='1',]\n",
    "group0 <-wine2[wine2$Type=='0',]\n",
    "df2 <-group0[sample(nrow(group0), 800), ]\n",
    "df<-rbind(df2,group1)\n",
    "#mean(as.numeric(df$Type))\n",
    "table(df$Type)"
   ]
  }
 ],
 "metadata": {
  "kernelspec": {
   "display_name": "R",
   "language": "R",
   "name": "ir"
  },
  "language_info": {
   "codemirror_mode": "r",
   "file_extension": ".r",
   "mimetype": "text/x-r-source",
   "name": "R",
   "pygments_lexer": "r",
   "version": "3.4.3"
  }
 },
 "nbformat": 4,
 "nbformat_minor": 2
}
