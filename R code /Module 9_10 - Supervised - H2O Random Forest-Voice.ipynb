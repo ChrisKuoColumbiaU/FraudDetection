{
 "cells": [
  {
   "cell_type": "markdown",
   "metadata": {},
   "source": [
    "## H2O random forest\n",
    "\n",
    "You will install H2o according to the [H2o instruction](https://h2o-release.s3.amazonaws.com/h2o/master/3888/docs-website/h2o-docs/downloading.html). We use h2o.init(nthreads=-1) to initilize an h2o environment. \"Number of threads\" is pretty much the number of CPUs used for a laptop. -1 means use all CPUs on the host (Default). A positive integer specifies the number of CPUs directly.\n",
    "\n",
    "We will use the dataset [Gender recognition by voice](https://www.kaggle.com/primaryobjects/voicegender) on the Kaggle site."
   ]
  },
  {
   "cell_type": "markdown",
   "metadata": {},
   "source": [
    "### Learning Objectives:\n",
    "\n",
    "1. Use H2O to build a random forest model\n",
    "2. Use H2O grid search to find the optimal hyper-parameters\n",
    "3. Plot the ROC"
   ]
  },
  {
   "cell_type": "markdown",
   "metadata": {},
   "source": [
    "### Initialize H2O"
   ]
  },
  {
   "cell_type": "code",
   "execution_count": 1,
   "metadata": {},
   "outputs": [
    {
     "name": "stderr",
     "output_type": "stream",
     "text": [
      "\n",
      "Attaching package: ‘dplyr’\n",
      "\n",
      "The following objects are masked from ‘package:stats’:\n",
      "\n",
      "    filter, lag\n",
      "\n",
      "The following objects are masked from ‘package:base’:\n",
      "\n",
      "    intersect, setdiff, setequal, union\n",
      "\n",
      "\n",
      "----------------------------------------------------------------------\n",
      "\n",
      "Your next step is to start H2O:\n",
      "    > h2o.init()\n",
      "\n",
      "For H2O package documentation, ask for help:\n",
      "    > ??h2o\n",
      "\n",
      "After starting H2O, you can use the Web UI at http://localhost:54321\n",
      "For more information visit http://docs.h2o.ai\n",
      "\n",
      "----------------------------------------------------------------------\n",
      "\n",
      "\n",
      "Attaching package: ‘h2o’\n",
      "\n",
      "The following objects are masked from ‘package:stats’:\n",
      "\n",
      "    cor, sd, var\n",
      "\n",
      "The following objects are masked from ‘package:base’:\n",
      "\n",
      "    &&, %*%, %in%, ||, apply, as.factor, as.numeric, colnames,\n",
      "    colnames<-, ifelse, is.character, is.factor, is.numeric, log,\n",
      "    log10, log1p, log2, round, signif, trunc\n",
      "\n"
     ]
    },
    {
     "name": "stdout",
     "output_type": "stream",
     "text": [
      "\n",
      "H2O is not running yet, starting it now...\n",
      "\n",
      "Note:  In case of errors look at the following log files:\n",
      "    /var/folders/jw/wyhtzlf94zbgtpf9g_n5tryr0000gn/T//Rtmp7gkpNR/h2o_chriskuo_started_from_r.out\n",
      "    /var/folders/jw/wyhtzlf94zbgtpf9g_n5tryr0000gn/T//Rtmp7gkpNR/h2o_chriskuo_started_from_r.err\n",
      "\n",
      "\n",
      "Starting H2O JVM and connecting: ... Connection successful!\n",
      "\n",
      "R is connected to the H2O cluster: \n",
      "    H2O cluster uptime:         3 seconds 164 milliseconds \n",
      "    H2O cluster timezone:       America/New_York \n",
      "    H2O data parsing timezone:  UTC \n",
      "    H2O cluster version:        3.21.0.4353 \n",
      "    H2O cluster version age:    6 days  \n",
      "    H2O cluster name:           H2O_started_from_R_chriskuo_ljv918 \n",
      "    H2O cluster total nodes:    1 \n",
      "    H2O cluster total memory:   1.78 GB \n",
      "    H2O cluster total cores:    4 \n",
      "    H2O cluster allowed cores:  4 \n",
      "    H2O cluster healthy:        TRUE \n",
      "    H2O Connection ip:          localhost \n",
      "    H2O Connection port:        54321 \n",
      "    H2O Connection proxy:       NA \n",
      "    H2O Internal Security:      FALSE \n",
      "    H2O API Extensions:         XGBoost, Algos, AutoML, Core V3, Core V4 \n",
      "    R Version:                  R version 3.4.3 (2017-11-30) \n",
      "\n"
     ]
    }
   ],
   "source": [
    "#install.packages(\"h2o\", type=\"source\", repos=(c(\"http://h2o-release.s3.amazonaws.com/h2o/latest_stable_R\")))\n",
    "library(dplyr)\n",
    "library(h2o)\n",
    "h2o.init(nthreads=-1)"
   ]
  },
  {
   "cell_type": "code",
   "execution_count": 2,
   "metadata": {},
   "outputs": [
    {
     "name": "stdout",
     "output_type": "stream",
     "text": [
      "  |======================================================================| 100%\n"
     ]
    },
    {
     "data": {
      "text/html": [
       "<table>\n",
       "<thead><tr><th scope=col>meanfreq</th><th scope=col>sd</th><th scope=col>median</th><th scope=col>Q25</th><th scope=col>Q75</th><th scope=col>IQR</th><th scope=col>skew</th><th scope=col>kurt</th><th scope=col>sp.ent</th><th scope=col>sfm</th><th scope=col>⋯</th><th scope=col>centroid</th><th scope=col>meanfun</th><th scope=col>minfun</th><th scope=col>maxfun</th><th scope=col>meandom</th><th scope=col>mindom</th><th scope=col>maxdom</th><th scope=col>dfrange</th><th scope=col>modindx</th><th scope=col>label</th></tr></thead>\n",
       "<tbody>\n",
       "\t<tr><td>0.05978098 </td><td>0.06424127 </td><td>0.03202691 </td><td>0.015071489</td><td>0.09019344 </td><td>0.07512195 </td><td>12.863462  </td><td> 274.402906</td><td>0.8933694  </td><td>0.4919178  </td><td>⋯          </td><td>0.05978098 </td><td>0.08427911 </td><td>0.01570167 </td><td>0.2758621  </td><td>0.007812500</td><td>0.0078125  </td><td>0.0078125  </td><td>0.0000000  </td><td>0.00000000 </td><td>male       </td></tr>\n",
       "\t<tr><td>0.06600874 </td><td>0.06731003 </td><td>0.04022873 </td><td>0.019413867</td><td>0.09266619 </td><td>0.07325232 </td><td>22.423285  </td><td> 634.613855</td><td>0.8921932  </td><td>0.5137238  </td><td>⋯          </td><td>0.06600874 </td><td>0.10793655 </td><td>0.01582591 </td><td>0.2500000  </td><td>0.009014423</td><td>0.0078125  </td><td>0.0546875  </td><td>0.0468750  </td><td>0.05263158 </td><td>male       </td></tr>\n",
       "\t<tr><td>0.07731550 </td><td>0.08382942 </td><td>0.03671846 </td><td>0.008701057</td><td>0.13190802 </td><td>0.12320696 </td><td>30.757155  </td><td>1024.927705</td><td>0.8463891  </td><td>0.4789050  </td><td>⋯          </td><td>0.07731550 </td><td>0.09870626 </td><td>0.01565558 </td><td>0.2711864  </td><td>0.007990057</td><td>0.0078125  </td><td>0.0156250  </td><td>0.0078125  </td><td>0.04651163 </td><td>male       </td></tr>\n",
       "\t<tr><td>0.15122809 </td><td>0.07211059 </td><td>0.15801119 </td><td>0.096581728</td><td>0.20795525 </td><td>0.11137352 </td><td> 1.232831  </td><td>   4.177296</td><td>0.9633225  </td><td>0.7272318  </td><td>⋯          </td><td>0.15122809 </td><td>0.08896485 </td><td>0.01779755 </td><td>0.2500000  </td><td>0.201497396</td><td>0.0078125  </td><td>0.5625000  </td><td>0.5546875  </td><td>0.24711908 </td><td>male       </td></tr>\n",
       "\t<tr><td>0.13512039 </td><td>0.07914610 </td><td>0.12465623 </td><td>0.078720218</td><td>0.20604493 </td><td>0.12732471 </td><td> 1.101174  </td><td>   4.333713</td><td>0.9719551  </td><td>0.7835681  </td><td>⋯          </td><td>0.13512039 </td><td>0.10639784 </td><td>0.01693122 </td><td>0.2666667  </td><td>0.712812500</td><td>0.0078125  </td><td>5.4843750  </td><td>5.4765625  </td><td>0.20827389 </td><td>male       </td></tr>\n",
       "\t<tr><td>0.13278641 </td><td>0.07955687 </td><td>0.11908985 </td><td>0.067957993</td><td>0.20959160 </td><td>0.14163361 </td><td> 1.932562  </td><td>   8.308895</td><td>0.9631813  </td><td>0.7383070  </td><td>⋯          </td><td>0.13278641 </td><td>0.11013192 </td><td>0.01711230 </td><td>0.2539683  </td><td>0.298221983</td><td>0.0078125  </td><td>2.7265625  </td><td>2.7187500  </td><td>0.12515964 </td><td>male       </td></tr>\n",
       "</tbody>\n",
       "</table>\n"
      ],
      "text/latex": [
       "\\begin{tabular}{r|lllllllllllllllllllll}\n",
       " meanfreq & sd & median & Q25 & Q75 & IQR & skew & kurt & sp.ent & sfm & ⋯ & centroid & meanfun & minfun & maxfun & meandom & mindom & maxdom & dfrange & modindx & label\\\\\n",
       "\\hline\n",
       "\t 0.05978098  & 0.06424127  & 0.03202691  & 0.015071489 & 0.09019344  & 0.07512195  & 12.863462   &  274.402906 & 0.8933694   & 0.4919178   & ⋯           & 0.05978098  & 0.08427911  & 0.01570167  & 0.2758621   & 0.007812500 & 0.0078125   & 0.0078125   & 0.0000000   & 0.00000000  & male       \\\\\n",
       "\t 0.06600874  & 0.06731003  & 0.04022873  & 0.019413867 & 0.09266619  & 0.07325232  & 22.423285   &  634.613855 & 0.8921932   & 0.5137238   & ⋯           & 0.06600874  & 0.10793655  & 0.01582591  & 0.2500000   & 0.009014423 & 0.0078125   & 0.0546875   & 0.0468750   & 0.05263158  & male       \\\\\n",
       "\t 0.07731550  & 0.08382942  & 0.03671846  & 0.008701057 & 0.13190802  & 0.12320696  & 30.757155   & 1024.927705 & 0.8463891   & 0.4789050   & ⋯           & 0.07731550  & 0.09870626  & 0.01565558  & 0.2711864   & 0.007990057 & 0.0078125   & 0.0156250   & 0.0078125   & 0.04651163  & male       \\\\\n",
       "\t 0.15122809  & 0.07211059  & 0.15801119  & 0.096581728 & 0.20795525  & 0.11137352  &  1.232831   &    4.177296 & 0.9633225   & 0.7272318   & ⋯           & 0.15122809  & 0.08896485  & 0.01779755  & 0.2500000   & 0.201497396 & 0.0078125   & 0.5625000   & 0.5546875   & 0.24711908  & male       \\\\\n",
       "\t 0.13512039  & 0.07914610  & 0.12465623  & 0.078720218 & 0.20604493  & 0.12732471  &  1.101174   &    4.333713 & 0.9719551   & 0.7835681   & ⋯           & 0.13512039  & 0.10639784  & 0.01693122  & 0.2666667   & 0.712812500 & 0.0078125   & 5.4843750   & 5.4765625   & 0.20827389  & male       \\\\\n",
       "\t 0.13278641  & 0.07955687  & 0.11908985  & 0.067957993 & 0.20959160  & 0.14163361  &  1.932562   &    8.308895 & 0.9631813   & 0.7383070   & ⋯           & 0.13278641  & 0.11013192  & 0.01711230  & 0.2539683   & 0.298221983 & 0.0078125   & 2.7265625   & 2.7187500   & 0.12515964  & male       \\\\\n",
       "\\end{tabular}\n"
      ],
      "text/markdown": [
       "\n",
       "meanfreq | sd | median | Q25 | Q75 | IQR | skew | kurt | sp.ent | sfm | ⋯ | centroid | meanfun | minfun | maxfun | meandom | mindom | maxdom | dfrange | modindx | label | \n",
       "|---|---|---|---|---|---|\n",
       "| 0.05978098  | 0.06424127  | 0.03202691  | 0.015071489 | 0.09019344  | 0.07512195  | 12.863462   |  274.402906 | 0.8933694   | 0.4919178   | ⋯           | 0.05978098  | 0.08427911  | 0.01570167  | 0.2758621   | 0.007812500 | 0.0078125   | 0.0078125   | 0.0000000   | 0.00000000  | male        | \n",
       "| 0.06600874  | 0.06731003  | 0.04022873  | 0.019413867 | 0.09266619  | 0.07325232  | 22.423285   |  634.613855 | 0.8921932   | 0.5137238   | ⋯           | 0.06600874  | 0.10793655  | 0.01582591  | 0.2500000   | 0.009014423 | 0.0078125   | 0.0546875   | 0.0468750   | 0.05263158  | male        | \n",
       "| 0.07731550  | 0.08382942  | 0.03671846  | 0.008701057 | 0.13190802  | 0.12320696  | 30.757155   | 1024.927705 | 0.8463891   | 0.4789050   | ⋯           | 0.07731550  | 0.09870626  | 0.01565558  | 0.2711864   | 0.007990057 | 0.0078125   | 0.0156250   | 0.0078125   | 0.04651163  | male        | \n",
       "| 0.15122809  | 0.07211059  | 0.15801119  | 0.096581728 | 0.20795525  | 0.11137352  |  1.232831   |    4.177296 | 0.9633225   | 0.7272318   | ⋯           | 0.15122809  | 0.08896485  | 0.01779755  | 0.2500000   | 0.201497396 | 0.0078125   | 0.5625000   | 0.5546875   | 0.24711908  | male        | \n",
       "| 0.13512039  | 0.07914610  | 0.12465623  | 0.078720218 | 0.20604493  | 0.12732471  |  1.101174   |    4.333713 | 0.9719551   | 0.7835681   | ⋯           | 0.13512039  | 0.10639784  | 0.01693122  | 0.2666667   | 0.712812500 | 0.0078125   | 5.4843750   | 5.4765625   | 0.20827389  | male        | \n",
       "| 0.13278641  | 0.07955687  | 0.11908985  | 0.067957993 | 0.20959160  | 0.14163361  |  1.932562   |    8.308895 | 0.9631813   | 0.7383070   | ⋯           | 0.13278641  | 0.11013192  | 0.01711230  | 0.2539683   | 0.298221983 | 0.0078125   | 2.7265625   | 2.7187500   | 0.12515964  | male        | \n",
       "\n",
       "\n"
      ],
      "text/plain": [
       "  meanfreq   sd         median     Q25         Q75        IQR        skew     \n",
       "1 0.05978098 0.06424127 0.03202691 0.015071489 0.09019344 0.07512195 12.863462\n",
       "2 0.06600874 0.06731003 0.04022873 0.019413867 0.09266619 0.07325232 22.423285\n",
       "3 0.07731550 0.08382942 0.03671846 0.008701057 0.13190802 0.12320696 30.757155\n",
       "4 0.15122809 0.07211059 0.15801119 0.096581728 0.20795525 0.11137352  1.232831\n",
       "5 0.13512039 0.07914610 0.12465623 0.078720218 0.20604493 0.12732471  1.101174\n",
       "6 0.13278641 0.07955687 0.11908985 0.067957993 0.20959160 0.14163361  1.932562\n",
       "  kurt        sp.ent    sfm       ⋯ centroid   meanfun    minfun     maxfun   \n",
       "1  274.402906 0.8933694 0.4919178 ⋯ 0.05978098 0.08427911 0.01570167 0.2758621\n",
       "2  634.613855 0.8921932 0.5137238 ⋯ 0.06600874 0.10793655 0.01582591 0.2500000\n",
       "3 1024.927705 0.8463891 0.4789050 ⋯ 0.07731550 0.09870626 0.01565558 0.2711864\n",
       "4    4.177296 0.9633225 0.7272318 ⋯ 0.15122809 0.08896485 0.01779755 0.2500000\n",
       "5    4.333713 0.9719551 0.7835681 ⋯ 0.13512039 0.10639784 0.01693122 0.2666667\n",
       "6    8.308895 0.9631813 0.7383070 ⋯ 0.13278641 0.11013192 0.01711230 0.2539683\n",
       "  meandom     mindom    maxdom    dfrange   modindx    label\n",
       "1 0.007812500 0.0078125 0.0078125 0.0000000 0.00000000 male \n",
       "2 0.009014423 0.0078125 0.0546875 0.0468750 0.05263158 male \n",
       "3 0.007990057 0.0078125 0.0156250 0.0078125 0.04651163 male \n",
       "4 0.201497396 0.0078125 0.5625000 0.5546875 0.24711908 male \n",
       "5 0.712812500 0.0078125 5.4843750 5.4765625 0.20827389 male \n",
       "6 0.298221983 0.0078125 2.7265625 2.7187500 0.12515964 male "
      ]
     },
     "metadata": {},
     "output_type": "display_data"
    },
    {
     "data": {
      "text/plain": [
       "   label Count\n",
       "1 female  1584\n",
       "2   male  1584\n",
       "\n",
       "[2 rows x 2 columns] "
      ]
     },
     "metadata": {},
     "output_type": "display_data"
    }
   ],
   "source": [
    "df.hex <- h2o.importFile(path = \"/Users/chriskuo/Downloads/voice.csv\")\n",
    "head(df.hex)\n",
    "h2o.table(df.hex$label)"
   ]
  },
  {
   "cell_type": "markdown",
   "metadata": {},
   "source": [
    "### Split the data\n",
    "\n",
    "Below is the standard syntax of h2o to split the dataset for training and testing purpose. In order to run and test on small samples, I use 10% for training and 10% for validation. H2o requires only two ratios. The third one is implied. So the test dataset is 90% (but I will not use it.)"
   ]
  },
  {
   "cell_type": "code",
   "execution_count": 3,
   "metadata": {},
   "outputs": [
    {
     "data": {
      "text/plain": [
       "    meanfreq         sd     median        Q25        Q75        IQR       skew\n",
       "1 0.06600874 0.06731003 0.04022873 0.01941387 0.09266619 0.07325232 22.4232854\n",
       "2 0.16051433 0.07676688 0.14433678 0.11053217 0.23196187 0.12142971  1.3971564\n",
       "3 0.14223942 0.07801846 0.13858744 0.08820628 0.20858744 0.12038117  1.0997462\n",
       "4 0.15303905 0.07403113 0.15806452 0.09273118 0.21436559 0.12163441  0.8857016\n",
       "5 0.16764836 0.06721993 0.15723951 0.13602165 0.20952639 0.07350474  1.9360651\n",
       "6 0.13789282 0.07242066 0.11985240 0.08653137 0.20070111 0.11416974  2.0109933\n",
       "        kurt    sp.ent       sfm      mode   centroid    meanfun     minfun\n",
       "1 634.613855 0.8921932 0.5137238 0.0000000 0.06600874 0.10793655 0.01582591\n",
       "2   4.766611 0.9592546 0.7198579 0.1283241 0.16051433 0.09305243 0.01775805\n",
       "3   4.070284 0.9707229 0.7709921 0.2191031 0.14223942 0.09672895 0.01795735\n",
       "4   3.523982 0.9732178 0.8075517 0.2167742 0.15303905 0.06740750 0.01626016\n",
       "5   6.334626 0.9039823 0.4828861 0.1345061 0.16764836 0.14274825 0.01661475\n",
       "6  10.262074 0.9632944 0.7270472 0.0599262 0.13789282 0.07630742 0.01621074\n",
       "     maxfun     meandom    mindom    maxdom  dfrange    modindx label\n",
       "1 0.2500000 0.009014423 0.0078125 0.0546875 0.046875 0.05263158  male\n",
       "2 0.1441441 0.301339286 0.0078125 0.5390625 0.531250 0.28393665  male\n",
       "3 0.2500000 0.336476293 0.0078125 2.1640625 2.156250 0.14827202  male\n",
       "4 0.2051282 0.261562500 0.0078125 1.0234375 1.015625 0.19134615  male\n",
       "5 0.2622951 0.239583333 0.0078125 0.6015625 0.593750 0.34758772  male\n",
       "6 0.1280000 0.505859375 0.0312500 4.6640625 4.632812 0.17303729  male\n",
       "\n",
       "[620 rows x 21 columns] "
      ]
     },
     "metadata": {},
     "output_type": "display_data"
    }
   ],
   "source": [
    "splits <- h2o.splitFrame(\n",
    "  data = df.hex, \n",
    "  ratios = c(0.2,0.2),   # the ratios should sum up to to be less than 1.0. \n",
    "    destination_frames = c(\"train\", \"valid\", \"test\"), seed = 1234\n",
    ")\n",
    "train <- splits[[1]]\n",
    "valid <- splits[[2]]\n",
    "test  <- splits[[3]]\n",
    "valid"
   ]
  },
  {
   "cell_type": "markdown",
   "metadata": {},
   "source": [
    "### The target variable and the predictors"
   ]
  },
  {
   "cell_type": "code",
   "execution_count": 5,
   "metadata": {},
   "outputs": [
    {
     "data": {
      "text/html": [
       "<ol class=list-inline>\n",
       "\t<li>'meanfreq'</li>\n",
       "\t<li>'sd'</li>\n",
       "\t<li>'median'</li>\n",
       "\t<li>'Q25'</li>\n",
       "\t<li>'Q75'</li>\n",
       "\t<li>'IQR'</li>\n",
       "\t<li>'skew'</li>\n",
       "\t<li>'kurt'</li>\n",
       "\t<li>'sp.ent'</li>\n",
       "\t<li>'sfm'</li>\n",
       "\t<li>'mode'</li>\n",
       "\t<li>'centroid'</li>\n",
       "\t<li>'meanfun'</li>\n",
       "\t<li>'minfun'</li>\n",
       "\t<li>'maxfun'</li>\n",
       "\t<li>'meandom'</li>\n",
       "\t<li>'mindom'</li>\n",
       "\t<li>'maxdom'</li>\n",
       "\t<li>'dfrange'</li>\n",
       "\t<li>'modindx'</li>\n",
       "</ol>\n"
      ],
      "text/latex": [
       "\\begin{enumerate*}\n",
       "\\item 'meanfreq'\n",
       "\\item 'sd'\n",
       "\\item 'median'\n",
       "\\item 'Q25'\n",
       "\\item 'Q75'\n",
       "\\item 'IQR'\n",
       "\\item 'skew'\n",
       "\\item 'kurt'\n",
       "\\item 'sp.ent'\n",
       "\\item 'sfm'\n",
       "\\item 'mode'\n",
       "\\item 'centroid'\n",
       "\\item 'meanfun'\n",
       "\\item 'minfun'\n",
       "\\item 'maxfun'\n",
       "\\item 'meandom'\n",
       "\\item 'mindom'\n",
       "\\item 'maxdom'\n",
       "\\item 'dfrange'\n",
       "\\item 'modindx'\n",
       "\\end{enumerate*}\n"
      ],
      "text/markdown": [
       "1. 'meanfreq'\n",
       "2. 'sd'\n",
       "3. 'median'\n",
       "4. 'Q25'\n",
       "5. 'Q75'\n",
       "6. 'IQR'\n",
       "7. 'skew'\n",
       "8. 'kurt'\n",
       "9. 'sp.ent'\n",
       "10. 'sfm'\n",
       "11. 'mode'\n",
       "12. 'centroid'\n",
       "13. 'meanfun'\n",
       "14. 'minfun'\n",
       "15. 'maxfun'\n",
       "16. 'meandom'\n",
       "17. 'mindom'\n",
       "18. 'maxdom'\n",
       "19. 'dfrange'\n",
       "20. 'modindx'\n",
       "\n",
       "\n"
      ],
      "text/plain": [
       " [1] \"meanfreq\" \"sd\"       \"median\"   \"Q25\"      \"Q75\"      \"IQR\"     \n",
       " [7] \"skew\"     \"kurt\"     \"sp.ent\"   \"sfm\"      \"mode\"     \"centroid\"\n",
       "[13] \"meanfun\"  \"minfun\"   \"maxfun\"   \"meandom\"  \"mindom\"   \"maxdom\"  \n",
       "[19] \"dfrange\"  \"modindx\" "
      ]
     },
     "metadata": {},
     "output_type": "display_data"
    }
   ],
   "source": [
    "## Exclude the variable 'Type'\n",
    "predictors <- setdiff(names(df.hex), 'label')\n",
    "predictors"
   ]
  },
  {
   "cell_type": "markdown",
   "metadata": {},
   "source": [
    "### Learning Objective 1: Build a random forest model \n",
    "\n",
    "* stopping_metric: the default is ['AUTO'](http://docs.h2o.ai/h2o/latest-stable/h2o-r/docs/reference/h2o.randomForest.html), which is the [logloss](http://docs.h2o.ai/h2o/latest-stable/h2o-docs/data-science/algo-params/stopping_metric.html) function.\n",
    "* A lower LogLoss value means better predictions.\n",
    "* In fact, Log Loss is -1 * the log of the likelihood function. \n",
    "* LogLoss: $$−[\\sum_i y_i log(\\hat{y})+log(1−y_i)(1−\\hat{y})]$$\n",
    "* LogLikehood: $$\\sum_i y_i log(\\hat{y})+log(1−y_i)(1−\\hat{y})$$"
   ]
  },
  {
   "cell_type": "code",
   "execution_count": 6,
   "metadata": {},
   "outputs": [
    {
     "name": "stdout",
     "output_type": "stream",
     "text": [
      "  |======================================================================| 100%\n"
     ]
    },
    {
     "data": {
      "text/html": [
       "0.996470776038562"
      ],
      "text/latex": [
       "0.996470776038562"
      ],
      "text/markdown": [
       "0.996470776038562"
      ],
      "text/plain": [
       "[1] 0.9964708"
      ]
     },
     "metadata": {},
     "output_type": "display_data"
    },
    {
     "name": "stdout",
     "output_type": "stream",
     "text": [
      "  |======================================================================| 100%\n"
     ]
    }
   ],
   "source": [
    "rf_model <- h2o.randomForest(        \n",
    "      training_frame = train,       \n",
    "      validation_frame = valid,     \n",
    "      x=predictors,                       \n",
    "      y='label',                         \n",
    "      model_id = \"rf_model\",      \n",
    "      ntrees = 200, #2000 is recommended                \n",
    "      max_depth = 10, #30 is recommended               \n",
    "      stopping_rounds = 2,          \n",
    "      stopping_tolerance = 1e-2,    \n",
    "      score_each_iteration = T,     \n",
    "      seed=1234)                 \n",
    "\n",
    "## Get the AUC on the validation set\n",
    "h2o.auc(h2o.performance(rf_model, newdata = test)) \n",
    "\n",
    "Rf_predictions<-h2o.predict(object = rf_model,newdata = valid)\n"
   ]
  },
  {
   "cell_type": "markdown",
   "metadata": {},
   "source": [
    "### Learning Objective 2: Use Grid-search to find the optimal hyper-parameters"
   ]
  },
  {
   "cell_type": "code",
   "execution_count": 7,
   "metadata": {},
   "outputs": [
    {
     "name": "stdout",
     "output_type": "stream",
     "text": [
      "  |======================================================================| 100%\n"
     ]
    },
    {
     "data": {
      "text/plain": [
       "H2O Grid Details\n",
       "================\n",
       "\n",
       "Grid ID: rf_grid \n",
       "Used hyper parameters: \n",
       "  -  max_depth \n",
       "  -  ntrees \n",
       "Number of models: 20 \n",
       "Number of failed models: 0 \n",
       "\n",
       "Hyper-Parameter Search Summary: ordered by increasing logloss\n",
       "   max_depth ntrees        model_ids             logloss\n",
       "1         11    900 rf_grid_model_19  0.1024994452356641\n",
       "2         11    300  rf_grid_model_7  0.1024994452356641\n",
       "3         11    500 rf_grid_model_11  0.1024994452356641\n",
       "4         11    700 rf_grid_model_15  0.1024994452356641\n",
       "5         11    100  rf_grid_model_3 0.10323083345907151\n",
       "6          8    300  rf_grid_model_6 0.10576761836574729\n",
       "7          8    500 rf_grid_model_10 0.10576761836574729\n",
       "8          8    900 rf_grid_model_18 0.10576761836574729\n",
       "9          8    700 rf_grid_model_14 0.10576761836574729\n",
       "10         8    100  rf_grid_model_2  0.1068203416301204\n",
       "11         5    900 rf_grid_model_17 0.12680637040877746\n",
       "12         5    500  rf_grid_model_9 0.12680637040877746\n",
       "13         5    300  rf_grid_model_5 0.12680637040877746\n",
       "14         5    700 rf_grid_model_13 0.12680637040877746\n",
       "15         5    100  rf_grid_model_1 0.12804393501961442\n",
       "16         2    300  rf_grid_model_4 0.23544650788359828\n",
       "17         2    700 rf_grid_model_12  0.2378073012351042\n",
       "18         2    900 rf_grid_model_16  0.2378073012351042\n",
       "19         2    500  rf_grid_model_8  0.2378073012351042\n",
       "20         2    100  rf_grid_model_0 0.24343873465116186"
      ]
     },
     "metadata": {},
     "output_type": "display_data"
    }
   ],
   "source": [
    "hyper_params = list( ntrees = seq(100,1000,200), \n",
    "                    max_depth=seq(2,12,3)   )\n",
    "\n",
    "grid <- h2o.grid(\n",
    "  hyper_params = hyper_params,\n",
    "  \n",
    "  search_criteria = list(strategy = \"Cartesian\"),\n",
    "  \n",
    "  algorithm=\"randomForest\",\n",
    "  \n",
    "  grid_id=\"rf_grid\",\n",
    "  \n",
    "  # Below are is the same as h2o.gbm()\n",
    "  x = predictors, \n",
    "  y = 'label', \n",
    "  training_frame = train, \n",
    "  validation_frame = valid,\n",
    "  seed = 1234,                                                             \n",
    "  stopping_rounds = 5,\n",
    "  stopping_tolerance = 1e-8,\n",
    "  stopping_metric = \"AUC\", \n",
    "  score_tree_interval = 10       \n",
    ")\n",
    "\n",
    "grid        "
   ]
  },
  {
   "cell_type": "code",
   "execution_count": 8,
   "metadata": {},
   "outputs": [
    {
     "name": "stdout",
     "output_type": "stream",
     "text": [
      "H2O Grid Details\n",
      "================\n",
      "\n",
      "Grid ID: rf_grid \n",
      "Used hyper parameters: \n",
      "  -  max_depth \n",
      "  -  ntrees \n",
      "Number of models: 20 \n",
      "Number of failed models: 0 \n",
      "\n",
      "Hyper-Parameter Search Summary: ordered by decreasing auc\n",
      "   max_depth ntrees        model_ids                auc\n",
      "1         11    900 rf_grid_model_19 0.9944427083333334\n",
      "2         11    300  rf_grid_model_7 0.9944427083333334\n",
      "3         11    500 rf_grid_model_11 0.9944427083333334\n",
      "4         11    700 rf_grid_model_15 0.9944427083333334\n",
      "5         11    100  rf_grid_model_3           0.994375\n",
      "6          8    300  rf_grid_model_6 0.9939479166666667\n",
      "7          8    500 rf_grid_model_10 0.9939479166666667\n",
      "8          8    900 rf_grid_model_18 0.9939479166666667\n",
      "9          8    700 rf_grid_model_14 0.9939479166666667\n",
      "10         8    100  rf_grid_model_2          0.9938125\n",
      "11         5    900 rf_grid_model_17 0.9932708333333334\n",
      "12         5    500  rf_grid_model_9 0.9932708333333334\n",
      "13         5    300  rf_grid_model_5 0.9932708333333334\n",
      "14         5    700 rf_grid_model_13 0.9932708333333334\n",
      "15         5    100  rf_grid_model_1 0.9929114583333334\n",
      "16         2    300  rf_grid_model_4 0.9841614583333333\n",
      "17         2    700 rf_grid_model_12 0.9838385416666666\n",
      "18         2    900 rf_grid_model_16 0.9838385416666666\n",
      "19         2    500  rf_grid_model_8 0.9838385416666666\n",
      "20         2    100  rf_grid_model_0        0.982296875\n"
     ]
    }
   ],
   "source": [
    "## sort the grid models by decreasing AUC\n",
    "sortedGrid <- h2o.getGrid(\"rf_grid\", sort_by=\"auc\", decreasing = TRUE)    \n",
    "print(sortedGrid)"
   ]
  },
  {
   "cell_type": "markdown",
   "metadata": {},
   "source": [
    "### You can print out the top 10 models from the grid search. \n",
    "\n",
    "Below the AUC has increased."
   ]
  },
  {
   "cell_type": "code",
   "execution_count": 9,
   "metadata": {},
   "outputs": [
    {
     "name": "stdout",
     "output_type": "stream",
     "text": [
      "[1] 0.9944427\n",
      "[1] 0.9944427\n",
      "[1] 0.9944427\n",
      "[1] 0.9944427\n",
      "[1] 0.994375\n",
      "[1] 0.9939479\n",
      "[1] 0.9939479\n",
      "[1] 0.9939479\n",
      "[1] 0.9939479\n",
      "[1] 0.9938125\n"
     ]
    }
   ],
   "source": [
    "for (i in 1:10) {\n",
    "  topModels <- h2o.getModel(sortedGrid@model_ids[[i]])\n",
    "  print(h2o.auc(h2o.performance(topModels, valid = TRUE)))\n",
    "}"
   ]
  },
  {
   "cell_type": "markdown",
   "metadata": {},
   "source": [
    "You can also understand the details of the best model."
   ]
  },
  {
   "cell_type": "code",
   "execution_count": 10,
   "metadata": {},
   "outputs": [
    {
     "name": "stdout",
     "output_type": "stream",
     "text": [
      "Model Details:\n",
      "==============\n",
      "\n",
      "H2OBinomialModel: drf\n",
      "Model Key:  rf_grid_model_19 \n",
      "Model Summary: \n",
      "  number_of_trees number_of_internal_trees model_size_in_bytes min_depth\n",
      "1             120                      120               46222         6\n",
      "  max_depth mean_depth min_leaves max_leaves mean_leaves\n",
      "1        11    8.55000         12         47    25.67500\n",
      "\n",
      "H2OBinomialMetrics: drf\n",
      "** Reported on training data. **\n",
      "** Metrics reported on Out-Of-Bag training samples **\n",
      "\n",
      "MSE:  0.02043548\n",
      "RMSE:  0.1429527\n",
      "LogLoss:  0.081188\n",
      "Mean Per-Class Error:  0.02143525\n",
      "AUC:  0.9973679\n",
      "Gini:  0.9947359\n",
      "\n",
      "Confusion Matrix (vertical: actual; across: predicted) for F1-optimal threshold:\n",
      "       female male    Error     Rate\n",
      "female    303    7 0.022581   =7/310\n",
      "male        7  338 0.020290   =7/345\n",
      "Totals    310  345 0.021374  =14/655\n",
      "\n",
      "Maximum Metrics: Maximum metrics at their respective thresholds\n",
      "                        metric threshold    value idx\n",
      "1                       max f1  0.472222 0.979710 106\n",
      "2                       max f2  0.384615 0.982659 111\n",
      "3                 max f0point5  0.785714 0.985267  84\n",
      "4                 max accuracy  0.528302 0.978626 104\n",
      "5                max precision  1.000000 1.000000   0\n",
      "6                   max recall  0.108108 1.000000 158\n",
      "7              max specificity  1.000000 1.000000   0\n",
      "8             max absolute_mcc  0.528302 0.957161 104\n",
      "9   max min_per_class_accuracy  0.472222 0.977419 106\n",
      "10 max mean_per_class_accuracy  0.528302 0.978728 104\n",
      "\n",
      "Gains/Lift Table: Extract with `h2o.gainsLift(<model>, <data>)` or `h2o.gainsLift(<model>, valid=<T/F>, xval=<T/F>)`\n",
      "H2OBinomialMetrics: drf\n",
      "** Reported on validation data. **\n",
      "\n",
      "MSE:  0.02685535\n",
      "RMSE:  0.163876\n",
      "LogLoss:  0.1024994\n",
      "Mean Per-Class Error:  0.0303125\n",
      "AUC:  0.9944427\n",
      "Gini:  0.9888854\n",
      "\n",
      "Confusion Matrix (vertical: actual; across: predicted) for F1-optimal threshold:\n",
      "       female male    Error     Rate\n",
      "female    307   13 0.040625  =13/320\n",
      "male        6  294 0.020000   =6/300\n",
      "Totals    313  307 0.030645  =19/620\n",
      "\n",
      "Maximum Metrics: Maximum metrics at their respective thresholds\n",
      "                        metric threshold    value idx\n",
      "1                       max f1  0.466667 0.968699  56\n",
      "2                       max f2  0.383333 0.980198  63\n",
      "3                 max f0point5  0.783333 0.973757  39\n",
      "4                 max accuracy  0.491667 0.969355  54\n",
      "5                max precision  1.000000 1.000000   0\n",
      "6                   max recall  0.091667 1.000000  92\n",
      "7              max specificity  1.000000 1.000000   0\n",
      "8             max absolute_mcc  0.466667 0.938930  56\n",
      "9   max min_per_class_accuracy  0.625000 0.963333  49\n",
      "10 max mean_per_class_accuracy  0.466667 0.969688  56\n",
      "\n",
      "Gains/Lift Table: Extract with `h2o.gainsLift(<model>, <data>)` or `h2o.gainsLift(<model>, valid=<T/F>, xval=<T/F>)`\n",
      "\n",
      "\n",
      "Scoring History: \n",
      "             timestamp   duration number_of_trees training_rmse\n",
      "1  2018-07-17 16:03:43 13.348 sec               0              \n",
      "2  2018-07-17 16:03:43 13.380 sec              10       0.17762\n",
      "3  2018-07-17 16:03:43 13.412 sec              20       0.15901\n",
      "4  2018-07-17 16:03:43 13.447 sec              30       0.15030\n",
      "5  2018-07-17 16:03:43 13.479 sec              40       0.14779\n",
      "6  2018-07-17 16:03:43 13.520 sec              50       0.14582\n",
      "7  2018-07-17 16:03:43 13.555 sec              60       0.14804\n",
      "8  2018-07-17 16:03:43 13.590 sec              70       0.14586\n",
      "9  2018-07-17 16:03:43 13.624 sec              80       0.14648\n",
      "10 2018-07-17 16:03:43 13.660 sec              90       0.14391\n",
      "11 2018-07-17 16:03:43 13.697 sec             100       0.14564\n",
      "12 2018-07-17 16:03:43 13.736 sec             110       0.14381\n",
      "13 2018-07-17 16:03:43 13.776 sec             120       0.14295\n",
      "   training_logloss training_auc training_lift training_classification_error\n",
      "1                                                                           \n",
      "2           0.33989      0.98822       1.88546                       0.03533\n",
      "3           0.18450      0.99375       1.89119                       0.02290\n",
      "4           0.12972      0.99614       1.89855                       0.02443\n",
      "5           0.12922      0.99613       1.89855                       0.02290\n",
      "6           0.12866      0.99615       1.89855                       0.02137\n",
      "7           0.08360      0.99698       1.89855                       0.02290\n",
      "8           0.08277      0.99707       1.89855                       0.02443\n",
      "9           0.08342      0.99718       1.89855                       0.02290\n",
      "10          0.08096      0.99759       1.89855                       0.02137\n",
      "11          0.08256      0.99741       1.89855                       0.02290\n",
      "12          0.08115      0.99742       1.89855                       0.02137\n",
      "13          0.08119      0.99737       1.89855                       0.02137\n",
      "   validation_rmse validation_logloss validation_auc validation_lift\n",
      "1                                                                   \n",
      "2          0.17285            0.15412        0.99291         2.05748\n",
      "3          0.17052            0.15731        0.99269         2.05531\n",
      "4          0.16738            0.10406        0.99453         2.06667\n",
      "5          0.16470            0.10181        0.99464         2.06667\n",
      "6          0.16321            0.09992        0.99463         2.06667\n",
      "7          0.16485            0.10194        0.99439         2.06667\n",
      "8          0.16574            0.10324        0.99430         2.06667\n",
      "9          0.16543            0.10382        0.99429         2.06667\n",
      "10         0.16520            0.10290        0.99442         2.06667\n",
      "11         0.16460            0.10323        0.99438         2.06667\n",
      "12         0.16383            0.10260        0.99441         2.06667\n",
      "13         0.16388            0.10250        0.99444         2.06667\n",
      "   validation_classification_error\n",
      "1                                 \n",
      "2                          0.03387\n",
      "3                          0.03226\n",
      "4                          0.03226\n",
      "5                          0.03065\n",
      "6                          0.03065\n",
      "7                          0.03065\n",
      "8                          0.03226\n",
      "9                          0.03065\n",
      "10                         0.03226\n",
      "11                         0.03226\n",
      "12                         0.03065\n",
      "13                         0.03065\n",
      "\n",
      "Variable Importances: (Extract with `h2o.varimp`) \n",
      "=================================================\n",
      "\n",
      "Variable Importances: \n",
      "   variable relative_importance scaled_importance percentage\n",
      "1   meanfun         4992.620117          1.000000   0.315849\n",
      "2       IQR         3080.922363          0.617095   0.194909\n",
      "3       Q25         2336.566406          0.468004   0.147819\n",
      "4        sd         1676.089966          0.335713   0.106035\n",
      "5       sfm          801.188660          0.160475   0.050686\n",
      "6    sp.ent          784.595337          0.157151   0.049636\n",
      "7      mode          349.760864          0.070056   0.022127\n",
      "8  centroid          293.724884          0.058832   0.018582\n",
      "9  meanfreq          268.581543          0.053796   0.016991\n",
      "10   median          197.729706          0.039604   0.012509\n",
      "11      Q75          149.221542          0.029888   0.009440\n",
      "12   maxdom          145.270233          0.029097   0.009190\n",
      "13  modindx          133.009430          0.026641   0.008415\n",
      "14  dfrange          109.326859          0.021898   0.006916\n",
      "15     skew          105.541733          0.021140   0.006677\n",
      "16  meandom          102.221085          0.020474   0.006467\n",
      "17   maxfun           87.696068          0.017565   0.005548\n",
      "18   mindom           83.571365          0.016739   0.005287\n",
      "19   minfun           61.518257          0.012322   0.003892\n",
      "20     kurt           47.830311          0.009580   0.003026\n"
     ]
    }
   ],
   "source": [
    "best_model <- h2o.getModel(sortedGrid@model_ids[[1]])\n",
    "summary(best_model)\n",
    "\n",
    "scoring_history <- as.data.frame(best_model@model$scoring_history)\n",
    "#plot(scoring_history$number_of_trees, scoring_history$training_MSE, type=\"p\") #training mse\n",
    "#points(scoring_history$number_of_trees, scoring_history$validation_MSE, type=\"l\") #validation mse\n",
    "\n",
    "## get the actual number of trees\n",
    "ntrees <- best_model@model$model_summary$number_of_trees"
   ]
  },
  {
   "cell_type": "markdown",
   "metadata": {},
   "source": [
    "### Learning Objective 3: Plotting ROC, Precision-recall\n",
    "\n",
    "* Use H2o metric functions available [here](https://rdrr.io/cran/h2o/man/h2o.metric.html)."
   ]
  },
  {
   "cell_type": "code",
   "execution_count": 41,
   "metadata": {},
   "outputs": [
    {
     "name": "stdout",
     "output_type": "stream",
     "text": [
      "  |======================================================================| 100%\n"
     ]
    },
    {
     "data": {
      "text/html": [
       "<table>\n",
       "<thead><tr><th scope=col>predict</th><th scope=col>female</th><th scope=col>male</th></tr></thead>\n",
       "<tbody>\n",
       "\t<tr><td>male       </td><td>0.166666667</td><td>0.8333333  </td></tr>\n",
       "\t<tr><td>male       </td><td>0.091666667</td><td>0.9083333  </td></tr>\n",
       "\t<tr><td>male       </td><td>0.008333333</td><td>0.9916667  </td></tr>\n",
       "\t<tr><td>male       </td><td>0.011111111</td><td>0.9888889  </td></tr>\n",
       "\t<tr><td>male       </td><td>0.012777778</td><td>0.9872222  </td></tr>\n",
       "\t<tr><td>male       </td><td>0.004444445</td><td>0.9955556  </td></tr>\n",
       "</tbody>\n",
       "</table>\n"
      ],
      "text/latex": [
       "\\begin{tabular}{r|lll}\n",
       " predict & female & male\\\\\n",
       "\\hline\n",
       "\t male        & 0.166666667 & 0.8333333  \\\\\n",
       "\t male        & 0.091666667 & 0.9083333  \\\\\n",
       "\t male        & 0.008333333 & 0.9916667  \\\\\n",
       "\t male        & 0.011111111 & 0.9888889  \\\\\n",
       "\t male        & 0.012777778 & 0.9872222  \\\\\n",
       "\t male        & 0.004444445 & 0.9955556  \\\\\n",
       "\\end{tabular}\n"
      ],
      "text/markdown": [
       "\n",
       "predict | female | male | \n",
       "|---|---|---|---|---|---|\n",
       "| male        | 0.166666667 | 0.8333333   | \n",
       "| male        | 0.091666667 | 0.9083333   | \n",
       "| male        | 0.008333333 | 0.9916667   | \n",
       "| male        | 0.011111111 | 0.9888889   | \n",
       "| male        | 0.012777778 | 0.9872222   | \n",
       "| male        | 0.004444445 | 0.9955556   | \n",
       "\n",
       "\n"
      ],
      "text/plain": [
       "  predict female      male     \n",
       "1 male    0.166666667 0.8333333\n",
       "2 male    0.091666667 0.9083333\n",
       "3 male    0.008333333 0.9916667\n",
       "4 male    0.011111111 0.9888889\n",
       "5 male    0.012777778 0.9872222\n",
       "6 male    0.004444445 0.9955556"
      ]
     },
     "metadata": {},
     "output_type": "display_data"
    },
    {
     "data": {
      "text/plain": [
       "H2OBinomialMetrics: drf\n",
       "\n",
       "MSE:  0.02054478\n",
       "RMSE:  0.1433345\n",
       "LogLoss:  0.1014877\n",
       "Mean Per-Class Error:  0.02119041\n",
       "AUC:  0.9967621\n",
       "Gini:  0.9935243\n",
       "\n",
       "Confusion Matrix (vertical: actual; across: predicted) for F1-optimal threshold:\n",
       "       female male    Error      Rate\n",
       "female    941   13 0.013627   =13/954\n",
       "male       27  912 0.028754   =27/939\n",
       "Totals    968  925 0.021130  =40/1893\n",
       "\n",
       "Maximum Metrics: Maximum metrics at their respective thresholds\n",
       "                        metric threshold    value idx\n",
       "1                       max f1  0.608333 0.978541  69\n",
       "2                       max f2  0.333333 0.981407 104\n",
       "3                 max f0point5  0.766667 0.984358  50\n",
       "4                 max accuracy  0.616667 0.978870  68\n",
       "5                max precision  1.000000 1.000000   0\n",
       "6                   max recall  0.000000 1.000000 174\n",
       "7              max specificity  1.000000 1.000000   0\n",
       "8             max absolute_mcc  0.616667 0.957868  68\n",
       "9   max min_per_class_accuracy  0.525000 0.976939  78\n",
       "10 max mean_per_class_accuracy  0.608333 0.978810  69\n",
       "\n",
       "Gains/Lift Table: Extract with `h2o.gainsLift(<model>, <data>)` or `h2o.gainsLift(<model>, valid=<T/F>, xval=<T/F>)`"
      ]
     },
     "metadata": {},
     "output_type": "display_data"
    }
   ],
   "source": [
    "# Calculate performance measures at threshold that maximizes precision\n",
    "my.pred = h2o.predict(best_model,test)\n",
    "head(my.pred)\n",
    "my.perf = h2o.performance(best_model, test)\n",
    "my.perf "
   ]
  },
  {
   "cell_type": "markdown",
   "metadata": {},
   "source": [
    "### Plotting ROC"
   ]
  },
  {
   "cell_type": "code",
   "execution_count": 49,
   "metadata": {},
   "outputs": [
    {
     "data": {
      "text/html": [
       "<table>\n",
       "<thead><tr><th scope=col>threshold</th><th scope=col>tpr</th><th scope=col>fpr</th></tr></thead>\n",
       "<tbody>\n",
       "\t<tr><td>0.000000000</td><td>1.000000   </td><td>1.0000000  </td></tr>\n",
       "\t<tr><td>0.008333333</td><td>0.998935   </td><td>0.6645702  </td></tr>\n",
       "\t<tr><td>0.016666667</td><td>0.998935   </td><td>0.5555556  </td></tr>\n",
       "\t<tr><td>0.025000000</td><td>0.998935   </td><td>0.4874214  </td></tr>\n",
       "\t<tr><td>0.027083333</td><td>0.998935   </td><td>0.4318658  </td></tr>\n",
       "\t<tr><td>0.033333333</td><td>0.998935   </td><td>0.4308176  </td></tr>\n",
       "</tbody>\n",
       "</table>\n"
      ],
      "text/latex": [
       "\\begin{tabular}{r|lll}\n",
       " threshold & tpr & fpr\\\\\n",
       "\\hline\n",
       "\t 0.000000000 & 1.000000    & 1.0000000  \\\\\n",
       "\t 0.008333333 & 0.998935    & 0.6645702  \\\\\n",
       "\t 0.016666667 & 0.998935    & 0.5555556  \\\\\n",
       "\t 0.025000000 & 0.998935    & 0.4874214  \\\\\n",
       "\t 0.027083333 & 0.998935    & 0.4318658  \\\\\n",
       "\t 0.033333333 & 0.998935    & 0.4308176  \\\\\n",
       "\\end{tabular}\n"
      ],
      "text/markdown": [
       "\n",
       "threshold | tpr | fpr | \n",
       "|---|---|---|---|---|---|\n",
       "| 0.000000000 | 1.000000    | 1.0000000   | \n",
       "| 0.008333333 | 0.998935    | 0.6645702   | \n",
       "| 0.016666667 | 0.998935    | 0.5555556   | \n",
       "| 0.025000000 | 0.998935    | 0.4874214   | \n",
       "| 0.027083333 | 0.998935    | 0.4318658   | \n",
       "| 0.033333333 | 0.998935    | 0.4308176   | \n",
       "\n",
       "\n"
      ],
      "text/plain": [
       "  threshold   tpr      fpr      \n",
       "1 0.000000000 1.000000 1.0000000\n",
       "2 0.008333333 0.998935 0.6645702\n",
       "3 0.016666667 0.998935 0.5555556\n",
       "4 0.025000000 0.998935 0.4874214\n",
       "5 0.027083333 0.998935 0.4318658\n",
       "6 0.033333333 0.998935 0.4308176"
      ]
     },
     "metadata": {},
     "output_type": "display_data"
    }
   ],
   "source": [
    "tpr=as.data.frame(h2o.tpr(my.perf))\n",
    "fpr=as.data.frame(h2o.fpr(my.perf))\n",
    "ROC_out<-merge(tpr,fpr,by='threshold')\n",
    "head(ROC_out)"
   ]
  },
  {
   "cell_type": "code",
   "execution_count": 50,
   "metadata": {},
   "outputs": [
    {
     "name": "stderr",
     "output_type": "stream",
     "text": [
      "Warning message in grid.newpage():\n",
      "“Cannot open temporary file '/var/folders/jw/wyhtzlf94zbgtpf9g_n5tryr0000gn/T//Rtmp7gkpNR/pdf80843e17391' for compression (reason: No such file or directory); compression has been turned off for this device”"
     ]
    },
    {
     "data": {},
     "metadata": {},
     "output_type": "display_data"
    },
    {
     "data": {
      "text/html": [
       "<strong>pdf:</strong> 7"
      ],
      "text/latex": [
       "\\textbf{pdf:} 7"
      ],
      "text/markdown": [
       "**pdf:** 7"
      ],
      "text/plain": [
       "pdf \n",
       "  7 "
      ]
     },
     "metadata": {},
     "output_type": "display_data"
    }
   ],
   "source": [
    "# Then give the pdf output file a name \n",
    "pdf(file=\"/Users/chriskuo/Downloads/my_ROC.pdf\")\n",
    "ggplot(ROC_out, aes(x = fpr, y = tpr)) +\n",
    "  theme_bw() +\n",
    "  geom_line() +\n",
    "  ggtitle(\"ROC\")\n",
    "dev.off()"
   ]
  },
  {
   "cell_type": "markdown",
   "metadata": {},
   "source": [
    "### Plotting Precision-Recall Curve"
   ]
  },
  {
   "cell_type": "code",
   "execution_count": 51,
   "metadata": {},
   "outputs": [
    {
     "data": {
      "text/html": [
       "<table>\n",
       "<thead><tr><th scope=col>threshold</th><th scope=col>f1</th></tr></thead>\n",
       "<tbody>\n",
       "\t<tr><td>1.0000000</td><td>0.4867043</td></tr>\n",
       "\t<tr><td>0.9983333</td><td>0.4939856</td></tr>\n",
       "\t<tr><td>0.9972222</td><td>0.5035857</td></tr>\n",
       "\t<tr><td>0.9955556</td><td>0.5047771</td></tr>\n",
       "\t<tr><td>0.9916667</td><td>0.6450216</td></tr>\n",
       "\t<tr><td>0.9900000</td><td>0.6479482</td></tr>\n",
       "\t<tr><td>0.9888889</td><td>0.6498922</td></tr>\n",
       "\t<tr><td>0.9872222</td><td>0.6508621</td></tr>\n",
       "\t<tr><td>0.9833333</td><td>0.7327935</td></tr>\n",
       "\t<tr><td>0.9805556</td><td>0.7353535</td></tr>\n",
       "\t<tr><td>0.9750000</td><td>0.7868217</td></tr>\n",
       "\t<tr><td>0.9733333</td><td>0.7891683</td></tr>\n",
       "\t<tr><td>0.9722222</td><td>0.7915058</td></tr>\n",
       "\t<tr><td>0.9705556</td><td>0.7922830</td></tr>\n",
       "\t<tr><td>0.9666667</td><td>0.8247810</td></tr>\n",
       "\t<tr><td>0.9638889</td><td>0.8262500</td></tr>\n",
       "\t<tr><td>0.9583333</td><td>0.8492647</td></tr>\n",
       "\t<tr><td>0.9566667</td><td>0.8499694</td></tr>\n",
       "\t<tr><td>0.9555556</td><td>0.8506732</td></tr>\n",
       "\t<tr><td>0.9500000</td><td>0.8645707</td></tr>\n",
       "\t<tr><td>0.9416667</td><td>0.8720721</td></tr>\n",
       "\t<tr><td>0.9388889</td><td>0.8734253</td></tr>\n",
       "\t<tr><td>0.9333333</td><td>0.8867813</td></tr>\n",
       "\t<tr><td>0.9305556</td><td>0.8874408</td></tr>\n",
       "\t<tr><td>0.9250000</td><td>0.8973607</td></tr>\n",
       "\t<tr><td>0.9222222</td><td>0.8980070</td></tr>\n",
       "\t<tr><td>0.9166667</td><td>0.9050670</td></tr>\n",
       "\t<tr><td>0.9083333</td><td>0.9126663</td></tr>\n",
       "\t<tr><td>0.9000000</td><td>0.9164265</td></tr>\n",
       "\t<tr><td>0.8944444</td><td>0.9170507</td></tr>\n",
       "\t<tr><td>⋮</td><td>⋮</td></tr>\n",
       "\t<tr><td>0.131666667</td><td>0.9158513  </td></tr>\n",
       "\t<tr><td>0.127083333</td><td>0.9154034  </td></tr>\n",
       "\t<tr><td>0.125000000</td><td>0.9122807  </td></tr>\n",
       "\t<tr><td>0.116666667</td><td>0.9034749  </td></tr>\n",
       "\t<tr><td>0.114583333</td><td>0.9030391  </td></tr>\n",
       "\t<tr><td>0.110416667</td><td>0.9026037  </td></tr>\n",
       "\t<tr><td>0.108333333</td><td>0.8961225  </td></tr>\n",
       "\t<tr><td>0.106666667</td><td>0.8956938  </td></tr>\n",
       "\t<tr><td>0.105555555</td><td>0.8952654  </td></tr>\n",
       "\t<tr><td>0.100000000</td><td>0.8898386  </td></tr>\n",
       "\t<tr><td>0.098333333</td><td>0.8889943  </td></tr>\n",
       "\t<tr><td>0.093750000</td><td>0.8885728  </td></tr>\n",
       "\t<tr><td>0.091666667</td><td>0.8818824  </td></tr>\n",
       "\t<tr><td>0.090000000</td><td>0.8814675  </td></tr>\n",
       "\t<tr><td>0.088888889</td><td>0.8810531  </td></tr>\n",
       "\t<tr><td>0.085416667</td><td>0.8806391  </td></tr>\n",
       "\t<tr><td>0.083333333</td><td>0.8737774  </td></tr>\n",
       "\t<tr><td>0.075000000</td><td>0.8677151  </td></tr>\n",
       "\t<tr><td>0.073333333</td><td>0.8673139  </td></tr>\n",
       "\t<tr><td>0.066666667</td><td>0.8601559  </td></tr>\n",
       "\t<tr><td>0.058333333</td><td>0.8523398  </td></tr>\n",
       "\t<tr><td>0.050000000</td><td>0.8446646  </td></tr>\n",
       "\t<tr><td>0.048333333</td><td>0.8442844  </td></tr>\n",
       "\t<tr><td>0.041666667</td><td>0.8330373  </td></tr>\n",
       "\t<tr><td>0.033333333</td><td>0.8199301  </td></tr>\n",
       "\t<tr><td>0.027083333</td><td>0.8195719  </td></tr>\n",
       "\t<tr><td>0.025000000</td><td>0.8010248  </td></tr>\n",
       "\t<tr><td>0.016666667</td><td>0.7793934  </td></tr>\n",
       "\t<tr><td>0.008333333</td><td>0.7471127  </td></tr>\n",
       "\t<tr><td>0.000000000</td><td>0.6631356  </td></tr>\n",
       "</tbody>\n",
       "</table>\n"
      ],
      "text/latex": [
       "\\begin{tabular}{r|ll}\n",
       " threshold & f1\\\\\n",
       "\\hline\n",
       "\t 1.0000000 & 0.4867043\\\\\n",
       "\t 0.9983333 & 0.4939856\\\\\n",
       "\t 0.9972222 & 0.5035857\\\\\n",
       "\t 0.9955556 & 0.5047771\\\\\n",
       "\t 0.9916667 & 0.6450216\\\\\n",
       "\t 0.9900000 & 0.6479482\\\\\n",
       "\t 0.9888889 & 0.6498922\\\\\n",
       "\t 0.9872222 & 0.6508621\\\\\n",
       "\t 0.9833333 & 0.7327935\\\\\n",
       "\t 0.9805556 & 0.7353535\\\\\n",
       "\t 0.9750000 & 0.7868217\\\\\n",
       "\t 0.9733333 & 0.7891683\\\\\n",
       "\t 0.9722222 & 0.7915058\\\\\n",
       "\t 0.9705556 & 0.7922830\\\\\n",
       "\t 0.9666667 & 0.8247810\\\\\n",
       "\t 0.9638889 & 0.8262500\\\\\n",
       "\t 0.9583333 & 0.8492647\\\\\n",
       "\t 0.9566667 & 0.8499694\\\\\n",
       "\t 0.9555556 & 0.8506732\\\\\n",
       "\t 0.9500000 & 0.8645707\\\\\n",
       "\t 0.9416667 & 0.8720721\\\\\n",
       "\t 0.9388889 & 0.8734253\\\\\n",
       "\t 0.9333333 & 0.8867813\\\\\n",
       "\t 0.9305556 & 0.8874408\\\\\n",
       "\t 0.9250000 & 0.8973607\\\\\n",
       "\t 0.9222222 & 0.8980070\\\\\n",
       "\t 0.9166667 & 0.9050670\\\\\n",
       "\t 0.9083333 & 0.9126663\\\\\n",
       "\t 0.9000000 & 0.9164265\\\\\n",
       "\t 0.8944444 & 0.9170507\\\\\n",
       "\t ⋮ & ⋮\\\\\n",
       "\t 0.131666667 & 0.9158513  \\\\\n",
       "\t 0.127083333 & 0.9154034  \\\\\n",
       "\t 0.125000000 & 0.9122807  \\\\\n",
       "\t 0.116666667 & 0.9034749  \\\\\n",
       "\t 0.114583333 & 0.9030391  \\\\\n",
       "\t 0.110416667 & 0.9026037  \\\\\n",
       "\t 0.108333333 & 0.8961225  \\\\\n",
       "\t 0.106666667 & 0.8956938  \\\\\n",
       "\t 0.105555555 & 0.8952654  \\\\\n",
       "\t 0.100000000 & 0.8898386  \\\\\n",
       "\t 0.098333333 & 0.8889943  \\\\\n",
       "\t 0.093750000 & 0.8885728  \\\\\n",
       "\t 0.091666667 & 0.8818824  \\\\\n",
       "\t 0.090000000 & 0.8814675  \\\\\n",
       "\t 0.088888889 & 0.8810531  \\\\\n",
       "\t 0.085416667 & 0.8806391  \\\\\n",
       "\t 0.083333333 & 0.8737774  \\\\\n",
       "\t 0.075000000 & 0.8677151  \\\\\n",
       "\t 0.073333333 & 0.8673139  \\\\\n",
       "\t 0.066666667 & 0.8601559  \\\\\n",
       "\t 0.058333333 & 0.8523398  \\\\\n",
       "\t 0.050000000 & 0.8446646  \\\\\n",
       "\t 0.048333333 & 0.8442844  \\\\\n",
       "\t 0.041666667 & 0.8330373  \\\\\n",
       "\t 0.033333333 & 0.8199301  \\\\\n",
       "\t 0.027083333 & 0.8195719  \\\\\n",
       "\t 0.025000000 & 0.8010248  \\\\\n",
       "\t 0.016666667 & 0.7793934  \\\\\n",
       "\t 0.008333333 & 0.7471127  \\\\\n",
       "\t 0.000000000 & 0.6631356  \\\\\n",
       "\\end{tabular}\n"
      ],
      "text/markdown": [
       "\n",
       "threshold | f1 | \n",
       "|---|---|---|---|---|---|---|---|---|---|---|---|---|---|---|---|---|---|---|---|---|---|---|---|---|---|---|---|---|---|---|---|---|---|---|---|---|---|---|---|---|---|---|---|---|---|---|---|---|---|---|---|---|---|---|---|---|---|---|---|---|\n",
       "| 1.0000000 | 0.4867043 | \n",
       "| 0.9983333 | 0.4939856 | \n",
       "| 0.9972222 | 0.5035857 | \n",
       "| 0.9955556 | 0.5047771 | \n",
       "| 0.9916667 | 0.6450216 | \n",
       "| 0.9900000 | 0.6479482 | \n",
       "| 0.9888889 | 0.6498922 | \n",
       "| 0.9872222 | 0.6508621 | \n",
       "| 0.9833333 | 0.7327935 | \n",
       "| 0.9805556 | 0.7353535 | \n",
       "| 0.9750000 | 0.7868217 | \n",
       "| 0.9733333 | 0.7891683 | \n",
       "| 0.9722222 | 0.7915058 | \n",
       "| 0.9705556 | 0.7922830 | \n",
       "| 0.9666667 | 0.8247810 | \n",
       "| 0.9638889 | 0.8262500 | \n",
       "| 0.9583333 | 0.8492647 | \n",
       "| 0.9566667 | 0.8499694 | \n",
       "| 0.9555556 | 0.8506732 | \n",
       "| 0.9500000 | 0.8645707 | \n",
       "| 0.9416667 | 0.8720721 | \n",
       "| 0.9388889 | 0.8734253 | \n",
       "| 0.9333333 | 0.8867813 | \n",
       "| 0.9305556 | 0.8874408 | \n",
       "| 0.9250000 | 0.8973607 | \n",
       "| 0.9222222 | 0.8980070 | \n",
       "| 0.9166667 | 0.9050670 | \n",
       "| 0.9083333 | 0.9126663 | \n",
       "| 0.9000000 | 0.9164265 | \n",
       "| 0.8944444 | 0.9170507 | \n",
       "| ⋮ | ⋮ | \n",
       "| 0.131666667 | 0.9158513   | \n",
       "| 0.127083333 | 0.9154034   | \n",
       "| 0.125000000 | 0.9122807   | \n",
       "| 0.116666667 | 0.9034749   | \n",
       "| 0.114583333 | 0.9030391   | \n",
       "| 0.110416667 | 0.9026037   | \n",
       "| 0.108333333 | 0.8961225   | \n",
       "| 0.106666667 | 0.8956938   | \n",
       "| 0.105555555 | 0.8952654   | \n",
       "| 0.100000000 | 0.8898386   | \n",
       "| 0.098333333 | 0.8889943   | \n",
       "| 0.093750000 | 0.8885728   | \n",
       "| 0.091666667 | 0.8818824   | \n",
       "| 0.090000000 | 0.8814675   | \n",
       "| 0.088888889 | 0.8810531   | \n",
       "| 0.085416667 | 0.8806391   | \n",
       "| 0.083333333 | 0.8737774   | \n",
       "| 0.075000000 | 0.8677151   | \n",
       "| 0.073333333 | 0.8673139   | \n",
       "| 0.066666667 | 0.8601559   | \n",
       "| 0.058333333 | 0.8523398   | \n",
       "| 0.050000000 | 0.8446646   | \n",
       "| 0.048333333 | 0.8442844   | \n",
       "| 0.041666667 | 0.8330373   | \n",
       "| 0.033333333 | 0.8199301   | \n",
       "| 0.027083333 | 0.8195719   | \n",
       "| 0.025000000 | 0.8010248   | \n",
       "| 0.016666667 | 0.7793934   | \n",
       "| 0.008333333 | 0.7471127   | \n",
       "| 0.000000000 | 0.6631356   | \n",
       "\n",
       "\n"
      ],
      "text/plain": [
       "    threshold   f1       \n",
       "1   1.0000000   0.4867043\n",
       "2   0.9983333   0.4939856\n",
       "3   0.9972222   0.5035857\n",
       "4   0.9955556   0.5047771\n",
       "5   0.9916667   0.6450216\n",
       "6   0.9900000   0.6479482\n",
       "7   0.9888889   0.6498922\n",
       "8   0.9872222   0.6508621\n",
       "9   0.9833333   0.7327935\n",
       "10  0.9805556   0.7353535\n",
       "11  0.9750000   0.7868217\n",
       "12  0.9733333   0.7891683\n",
       "13  0.9722222   0.7915058\n",
       "14  0.9705556   0.7922830\n",
       "15  0.9666667   0.8247810\n",
       "16  0.9638889   0.8262500\n",
       "17  0.9583333   0.8492647\n",
       "18  0.9566667   0.8499694\n",
       "19  0.9555556   0.8506732\n",
       "20  0.9500000   0.8645707\n",
       "21  0.9416667   0.8720721\n",
       "22  0.9388889   0.8734253\n",
       "23  0.9333333   0.8867813\n",
       "24  0.9305556   0.8874408\n",
       "25  0.9250000   0.8973607\n",
       "26  0.9222222   0.8980070\n",
       "27  0.9166667   0.9050670\n",
       "28  0.9083333   0.9126663\n",
       "29  0.9000000   0.9164265\n",
       "30  0.8944444   0.9170507\n",
       "⋮   ⋮           ⋮        \n",
       "146 0.131666667 0.9158513\n",
       "147 0.127083333 0.9154034\n",
       "148 0.125000000 0.9122807\n",
       "149 0.116666667 0.9034749\n",
       "150 0.114583333 0.9030391\n",
       "151 0.110416667 0.9026037\n",
       "152 0.108333333 0.8961225\n",
       "153 0.106666667 0.8956938\n",
       "154 0.105555555 0.8952654\n",
       "155 0.100000000 0.8898386\n",
       "156 0.098333333 0.8889943\n",
       "157 0.093750000 0.8885728\n",
       "158 0.091666667 0.8818824\n",
       "159 0.090000000 0.8814675\n",
       "160 0.088888889 0.8810531\n",
       "161 0.085416667 0.8806391\n",
       "162 0.083333333 0.8737774\n",
       "163 0.075000000 0.8677151\n",
       "164 0.073333333 0.8673139\n",
       "165 0.066666667 0.8601559\n",
       "166 0.058333333 0.8523398\n",
       "167 0.050000000 0.8446646\n",
       "168 0.048333333 0.8442844\n",
       "169 0.041666667 0.8330373\n",
       "170 0.033333333 0.8199301\n",
       "171 0.027083333 0.8195719\n",
       "172 0.025000000 0.8010248\n",
       "173 0.016666667 0.7793934\n",
       "174 0.008333333 0.7471127\n",
       "175 0.000000000 0.6631356"
      ]
     },
     "metadata": {},
     "output_type": "display_data"
    },
    {
     "data": {
      "text/html": [
       "<table>\n",
       "<thead><tr><th scope=col>threshold</th><th scope=col>precision</th><th scope=col>tpr</th></tr></thead>\n",
       "<tbody>\n",
       "\t<tr><td>0.000000000</td><td>0.4960380  </td><td>1.000000   </td></tr>\n",
       "\t<tr><td>0.008333333</td><td>0.5966921  </td><td>0.998935   </td></tr>\n",
       "\t<tr><td>0.016666667</td><td>0.6389646  </td><td>0.998935   </td></tr>\n",
       "\t<tr><td>0.025000000</td><td>0.6685674  </td><td>0.998935   </td></tr>\n",
       "\t<tr><td>0.027083333</td><td>0.6948148  </td><td>0.998935   </td></tr>\n",
       "\t<tr><td>0.033333333</td><td>0.6953299  </td><td>0.998935   </td></tr>\n",
       "</tbody>\n",
       "</table>\n"
      ],
      "text/latex": [
       "\\begin{tabular}{r|lll}\n",
       " threshold & precision & tpr\\\\\n",
       "\\hline\n",
       "\t 0.000000000 & 0.4960380   & 1.000000   \\\\\n",
       "\t 0.008333333 & 0.5966921   & 0.998935   \\\\\n",
       "\t 0.016666667 & 0.6389646   & 0.998935   \\\\\n",
       "\t 0.025000000 & 0.6685674   & 0.998935   \\\\\n",
       "\t 0.027083333 & 0.6948148   & 0.998935   \\\\\n",
       "\t 0.033333333 & 0.6953299   & 0.998935   \\\\\n",
       "\\end{tabular}\n"
      ],
      "text/markdown": [
       "\n",
       "threshold | precision | tpr | \n",
       "|---|---|---|---|---|---|\n",
       "| 0.000000000 | 0.4960380   | 1.000000    | \n",
       "| 0.008333333 | 0.5966921   | 0.998935    | \n",
       "| 0.016666667 | 0.6389646   | 0.998935    | \n",
       "| 0.025000000 | 0.6685674   | 0.998935    | \n",
       "| 0.027083333 | 0.6948148   | 0.998935    | \n",
       "| 0.033333333 | 0.6953299   | 0.998935    | \n",
       "\n",
       "\n"
      ],
      "text/plain": [
       "  threshold   precision tpr     \n",
       "1 0.000000000 0.4960380 1.000000\n",
       "2 0.008333333 0.5966921 0.998935\n",
       "3 0.016666667 0.6389646 0.998935\n",
       "4 0.025000000 0.6685674 0.998935\n",
       "5 0.027083333 0.6948148 0.998935\n",
       "6 0.033333333 0.6953299 0.998935"
      ]
     },
     "metadata": {},
     "output_type": "display_data"
    }
   ],
   "source": [
    "h2o.F1(my.perf)\n",
    "precision=as.data.frame(h2o.precision(my.perf))\n",
    "recall=as.data.frame(h2o.recall(my.perf))\n",
    "PR_out<-merge(precision,recall,by='threshold')\n",
    "head(PR_out)"
   ]
  },
  {
   "cell_type": "code",
   "execution_count": 52,
   "metadata": {},
   "outputs": [
    {
     "name": "stderr",
     "output_type": "stream",
     "text": [
      "Warning message in grid.newpage():\n",
      "“Cannot open temporary file '/var/folders/jw/wyhtzlf94zbgtpf9g_n5tryr0000gn/T//Rtmp7gkpNR/pdf8085e27b98a' for compression (reason: No such file or directory); compression has been turned off for this device”"
     ]
    },
    {
     "data": {},
     "metadata": {},
     "output_type": "display_data"
    },
    {
     "data": {
      "text/html": [
       "<strong>pdf:</strong> 7"
      ],
      "text/latex": [
       "\\textbf{pdf:} 7"
      ],
      "text/markdown": [
       "**pdf:** 7"
      ],
      "text/plain": [
       "pdf \n",
       "  7 "
      ]
     },
     "metadata": {},
     "output_type": "display_data"
    }
   ],
   "source": [
    "# Then give the pdf output file a name \n",
    "pdf(file=\"/Users/chriskuo/Downloads/my_PR.pdf\")\n",
    "ggplot(out, aes(x = tpr, y = precision)) +\n",
    "  theme_bw() +\n",
    "  geom_line() +\n",
    "  ggtitle(\"Precision-Recall\")\n",
    "dev.off()"
   ]
  },
  {
   "cell_type": "code",
   "execution_count": 97,
   "metadata": {},
   "outputs": [],
   "source": [
    "# All done. Shut down H2O.\n",
    "h2o.shutdown(prompt=FALSE)"
   ]
  }
 ],
 "metadata": {
  "kernelspec": {
   "display_name": "R",
   "language": "R",
   "name": "ir"
  },
  "language_info": {
   "codemirror_mode": "r",
   "file_extension": ".r",
   "mimetype": "text/x-r-source",
   "name": "R",
   "pygments_lexer": "r",
   "version": "3.4.3"
  }
 },
 "nbformat": 4,
 "nbformat_minor": 2
}
