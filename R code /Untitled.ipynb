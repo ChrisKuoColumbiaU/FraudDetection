{
 "cells": [
  {
   "cell_type": "code",
   "execution_count": 6,
   "metadata": {},
   "outputs": [
    {
     "ename": "ERROR",
     "evalue": "Error in library(package = \"telematics\"): there is no package called ‘telematics’\n",
     "output_type": "error",
     "traceback": [
      "Error in library(package = \"telematics\"): there is no package called ‘telematics’\nTraceback:\n",
      "1. library(package = \"telematics\")",
      "2. stop(txt, domain = NA)"
     ]
    }
   ],
   "source": [
    "#install.packages(\"devtools\")\n",
    "#library(devtools)\n",
    "#install.packages(\"webscale/Telematics\")\n",
    "library(package=\"telematics\")"
   ]
  },
  {
   "cell_type": "code",
   "execution_count": null,
   "metadata": {},
   "outputs": [],
   "source": []
  }
 ],
 "metadata": {
  "kernelspec": {
   "display_name": "R",
   "language": "R",
   "name": "ir"
  },
  "language_info": {
   "codemirror_mode": "r",
   "file_extension": ".r",
   "mimetype": "text/x-r-source",
   "name": "R",
   "pygments_lexer": "r",
   "version": "3.4.3"
  }
 },
 "nbformat": 4,
 "nbformat_minor": 2
}
