{
 "cells": [
  {
   "cell_type": "markdown",
   "metadata": {},
   "source": [
    "## H2O random forest\n",
    "\n",
    "The dataset is an anonymized credit card [dataset](https://www.kaggle.com/mlg-ulb/creditcardfraud/data) from Kaggle competition. I choose this anonymized dataset so as not to focus on feature engineering but to focus on the detail of h2o.gbm functionalities. \n",
    "\n",
    "We use h2o.init(nthreads=-1) to initilize an h2o environment. \"Number of threads\" is pretty much the number of CPUs used for a laptop. -1 means use all CPUs on the host (Default). A positive integer specifies the number of CPUs directly."
   ]
  },
  {
   "cell_type": "code",
   "execution_count": 1,
   "metadata": {},
   "outputs": [
    {
     "name": "stderr",
     "output_type": "stream",
     "text": [
      "\n",
      "Attaching package: ‘dplyr’\n",
      "\n",
      "The following objects are masked from ‘package:stats’:\n",
      "\n",
      "    filter, lag\n",
      "\n",
      "The following objects are masked from ‘package:base’:\n",
      "\n",
      "    intersect, setdiff, setequal, union\n",
      "\n",
      "\n",
      "----------------------------------------------------------------------\n",
      "\n",
      "Your next step is to start H2O:\n",
      "    > h2o.init()\n",
      "\n",
      "For H2O package documentation, ask for help:\n",
      "    > ??h2o\n",
      "\n",
      "After starting H2O, you can use the Web UI at http://localhost:54321\n",
      "For more information visit http://docs.h2o.ai\n",
      "\n",
      "----------------------------------------------------------------------\n",
      "\n",
      "\n",
      "Attaching package: ‘h2o’\n",
      "\n",
      "The following objects are masked from ‘package:stats’:\n",
      "\n",
      "    cor, sd, var\n",
      "\n",
      "The following objects are masked from ‘package:base’:\n",
      "\n",
      "    &&, %*%, %in%, ||, apply, as.factor, as.numeric, colnames,\n",
      "    colnames<-, ifelse, is.character, is.factor, is.numeric, log,\n",
      "    log10, log1p, log2, round, signif, trunc\n",
      "\n"
     ]
    },
    {
     "name": "stdout",
     "output_type": "stream",
     "text": [
      "\n",
      "H2O is not running yet, starting it now...\n",
      "\n",
      "Note:  In case of errors look at the following log files:\n",
      "    /var/folders/jw/wyhtzlf94zbgtpf9g_n5tryr0000gn/T//RtmptdYAaX/h2o_chriskuo_started_from_r.out\n",
      "    /var/folders/jw/wyhtzlf94zbgtpf9g_n5tryr0000gn/T//RtmptdYAaX/h2o_chriskuo_started_from_r.err\n",
      "\n",
      "\n",
      "Starting H2O JVM and connecting: .. Connection successful!\n",
      "\n",
      "R is connected to the H2O cluster: \n",
      "    H2O cluster uptime:         2 seconds 609 milliseconds \n",
      "    H2O cluster version:        3.16.0.2 \n",
      "    H2O cluster version age:    5 months !!! \n",
      "    H2O cluster name:           H2O_started_from_R_chriskuo_rbo106 \n",
      "    H2O cluster total nodes:    1 \n",
      "    H2O cluster total memory:   1.78 GB \n",
      "    H2O cluster total cores:    4 \n",
      "    H2O cluster allowed cores:  4 \n",
      "    H2O cluster healthy:        TRUE \n",
      "    H2O Connection ip:          localhost \n",
      "    H2O Connection port:        54321 \n",
      "    H2O Connection proxy:       NA \n",
      "    H2O Internal Security:      FALSE \n",
      "    H2O API Extensions:         XGBoost, Algos, AutoML, Core V3, Core V4 \n",
      "    R Version:                  R version 3.4.3 (2017-11-30) \n"
     ]
    },
    {
     "name": "stderr",
     "output_type": "stream",
     "text": [
      "Warning message in h2o.clusterInfo():\n",
      "“\n",
      "Your H2O cluster version is too old (5 months)!\n",
      "Please download and install the latest version from http://h2o.ai/download/”"
     ]
    },
    {
     "name": "stdout",
     "output_type": "stream",
     "text": [
      "\n"
     ]
    }
   ],
   "source": [
    "library(dplyr)\n",
    "library(h2o)\n",
    "h2o.init(nthreads=-1)"
   ]
  },
  {
   "cell_type": "code",
   "execution_count": 2,
   "metadata": {},
   "outputs": [
    {
     "name": "stdout",
     "output_type": "stream",
     "text": [
      "  |======================================================================| 100%\n"
     ]
    },
    {
     "data": {
      "text/html": [
       "<ol class=list-inline>\n",
       "\t<li>284807</li>\n",
       "\t<li>31</li>\n",
       "</ol>\n"
      ],
      "text/latex": [
       "\\begin{enumerate*}\n",
       "\\item 284807\n",
       "\\item 31\n",
       "\\end{enumerate*}\n"
      ],
      "text/markdown": [
       "1. 284807\n",
       "2. 31\n",
       "\n",
       "\n"
      ],
      "text/plain": [
       "[1] 284807     31"
      ]
     },
     "metadata": {},
     "output_type": "display_data"
    },
    {
     "data": {
      "text/plain": [
       " Time             V1                   V2                  \n",
       " Min.   :     0   Min.   :-5.641e+01   Min.   :-7.272e+01  \n",
       " 1st Qu.: 54202   1st Qu.:-9.204e-01   1st Qu.:-5.985e-01  \n",
       " Median : 84692   Median : 1.811e-02   Median : 6.549e-02  \n",
       " Mean   : 94814   Mean   : 1.328e-15   Mean   : 4.088e-16  \n",
       " 3rd Qu.:139320   3rd Qu.: 1.316e+00   3rd Qu.: 8.037e-01  \n",
       " Max.   :172792   Max.   : 2.455e+00   Max.   : 2.206e+01  \n",
       " V3                   V4                   V5                  \n",
       " Min.   :-4.833e+01   Min.   :-5.683e+00   Min.   :-1.137e+02  \n",
       " 1st Qu.:-8.904e-01   1st Qu.:-8.486e-01   1st Qu.:-6.916e-01  \n",
       " Median : 1.798e-01   Median :-1.985e-02   Median :-5.434e-02  \n",
       " Mean   :-1.584e-15   Mean   : 2.210e-15   Mean   : 1.073e-15  \n",
       " 3rd Qu.: 1.027e+00   3rd Qu.: 7.433e-01   3rd Qu.: 6.119e-01  \n",
       " Max.   : 9.383e+00   Max.   : 1.688e+01   Max.   : 3.480e+01  \n",
       " V6                   V7                   V8                  \n",
       " Min.   :-2.616e+01   Min.   :-4.356e+01   Min.   :-7.322e+01  \n",
       " 1st Qu.:-7.683e-01   1st Qu.:-5.541e-01   1st Qu.:-2.086e-01  \n",
       " Median :-2.742e-01   Median : 4.010e-02   Median : 2.236e-02  \n",
       " Mean   : 1.316e-15   Mean   :-4.982e-16   Mean   : 2.299e-16  \n",
       " 3rd Qu.: 3.986e-01   3rd Qu.: 5.704e-01   3rd Qu.: 3.273e-01  \n",
       " Max.   : 7.330e+01   Max.   : 1.206e+02   Max.   : 2.001e+01  \n",
       " V9                   V10                  V11                 \n",
       " Min.   :-1.343e+01   Min.   :-2.459e+01   Min.   :-4.797e+00  \n",
       " 1st Qu.:-6.431e-01   1st Qu.:-5.354e-01   1st Qu.:-7.625e-01  \n",
       " Median :-5.143e-02   Median :-9.292e-02   Median :-3.276e-02  \n",
       " Mean   :-2.203e-15   Mean   : 2.111e-15   Mean   : 2.082e-15  \n",
       " 3rd Qu.: 5.971e-01   3rd Qu.: 4.539e-01   3rd Qu.: 7.396e-01  \n",
       " Max.   : 1.559e+01   Max.   : 2.375e+01   Max.   : 1.202e+01  \n",
       " V12                  V13                  V14                 \n",
       " Min.   :-1.868e+01   Min.   :-5.792e+00   Min.   :-1.921e+01  \n",
       " 1st Qu.:-4.056e-01   1st Qu.:-6.485e-01   1st Qu.:-4.256e-01  \n",
       " Median : 1.400e-01   Median :-1.357e-02   Median : 5.060e-02  \n",
       " Mean   :-1.558e-15   Mean   : 7.057e-16   Mean   : 1.635e-15  \n",
       " 3rd Qu.: 6.182e-01   3rd Qu.: 6.625e-01   3rd Qu.: 4.931e-01  \n",
       " Max.   : 7.848e+00   Max.   : 7.127e+00   Max.   : 1.053e+01  \n",
       " V15                  V16                  V17                 \n",
       " Min.   :-4.499e+00   Min.   :-1.413e+01   Min.   :-2.516e+01  \n",
       " 1st Qu.:-5.829e-01   1st Qu.:-4.680e-01   1st Qu.:-4.837e-01  \n",
       " Median : 4.807e-02   Median : 6.641e-02   Median :-6.568e-02  \n",
       " Mean   : 4.867e-15   Mean   : 1.375e-15   Mean   :-2.299e-16  \n",
       " 3rd Qu.: 6.488e-01   3rd Qu.: 5.233e-01   3rd Qu.: 3.997e-01  \n",
       " Max.   : 8.878e+00   Max.   : 1.732e+01   Max.   : 9.254e+00  \n",
       " V18                  V19                  V20                 \n",
       " Min.   :-9.499e+00   Min.   :-7.214e+00   Min.   :-5.450e+01  \n",
       " 1st Qu.:-4.988e-01   1st Qu.:-4.563e-01   1st Qu.:-2.117e-01  \n",
       " Median :-3.636e-03   Median : 3.735e-03   Median :-6.248e-02  \n",
       " Mean   : 1.130e-15   Mean   : 9.995e-16   Mean   : 6.195e-16  \n",
       " 3rd Qu.: 5.008e-01   3rd Qu.: 4.589e-01   3rd Qu.: 1.330e-01  \n",
       " Max.   : 5.041e+00   Max.   : 5.592e+00   Max.   : 3.942e+01  \n",
       " V21                  V22                  V23                 \n",
       " Min.   :-3.483e+01   Min.   :-1.093e+01   Min.   :-4.481e+01  \n",
       " 1st Qu.:-2.284e-01   1st Qu.:-5.424e-01   1st Qu.:-1.618e-01  \n",
       " Median :-2.945e-02   Median : 6.782e-03   Median :-1.119e-02  \n",
       " Mean   : 1.948e-16   Mean   :-2.555e-16   Mean   : 3.098e-16  \n",
       " 3rd Qu.: 1.864e-01   3rd Qu.: 5.286e-01   3rd Qu.: 1.476e-01  \n",
       " Max.   : 2.720e+01   Max.   : 1.050e+01   Max.   : 2.253e+01  \n",
       " V24                  V25                  V26                 \n",
       " Min.   :-2.837e+00   Min.   :-1.030e+01   Min.   :-2.605e+00  \n",
       " 1st Qu.:-3.546e-01   1st Qu.:-3.171e-01   1st Qu.:-3.270e-01  \n",
       " Median : 4.098e-02   Median : 1.659e-02   Median :-5.214e-02  \n",
       " Mean   : 4.490e-15   Mean   : 6.770e-16   Mean   : 1.705e-15  \n",
       " 3rd Qu.: 4.395e-01   3rd Qu.: 3.507e-01   3rd Qu.: 2.410e-01  \n",
       " Max.   : 4.585e+00   Max.   : 7.520e+00   Max.   : 3.517e+00  \n",
       " V27                  V28                  Amount            \n",
       " Min.   :-2.257e+01   Min.   :-1.543e+01   Min.   :    0.00  \n",
       " 1st Qu.:-7.084e-02   1st Qu.:-5.296e-02   1st Qu.:    5.60  \n",
       " Median : 1.342e-03   Median : 1.124e-02   Median :   22.00  \n",
       " Mean   :-3.641e-16   Mean   :-1.231e-16   Mean   :   88.35  \n",
       " 3rd Qu.: 9.105e-02   3rd Qu.: 7.828e-02   3rd Qu.:   77.17  \n",
       " Max.   : 3.161e+01   Max.   : 3.385e+01   Max.   :25691.16  \n",
       " Class             \n",
       " Min.   :0.000000  \n",
       " 1st Qu.:0.000000  \n",
       " Median :0.000000  \n",
       " Mean   :0.001727  \n",
       " 3rd Qu.:0.000000  \n",
       " Max.   :1.000000  "
      ]
     },
     "metadata": {},
     "output_type": "display_data"
    }
   ],
   "source": [
    "df <- h2o.importFile(path = \"/Users/chriskuo/Downloads/creditcard.csv\")\n",
    "dim(df)\n",
    "summary(df,exact_quantiles=TRUE)\n",
    "\n",
    "# Specify the response variable\n",
    "response <- \"Class\"\n",
    "\n",
    "# Make the response variable a categorical variable\n",
    "df[[response]] <- as.factor(df[[response]])           \n",
    "\n",
    "## Exclude the variable 'Time' \n",
    "predictors <- setdiff(names(df), c(response, \"Time\")) "
   ]
  },
  {
   "cell_type": "markdown",
   "metadata": {},
   "source": [
    "### Split the data\n",
    "\n",
    "Below is the standard syntax of h2o to split the dataset for training and testing purpose. In order to run and test on small samples, I use 10% for training and 10% for validation. H2o requires only two ratios. The third one is implied. So the test dataset is 90% (but I will not use it.)"
   ]
  },
  {
   "cell_type": "code",
   "execution_count": 3,
   "metadata": {},
   "outputs": [],
   "source": [
    "splits <- h2o.splitFrame(\n",
    "  data = df, \n",
    "  ratios = c(0.1,0.1),   # the ratios should sum up to to be less than 1.0. \n",
    "    destination_frames = c(\"train\", \"valid\", \"test\"), seed = 1234\n",
    ")\n",
    "train <- splits[[1]]\n",
    "valid <- splits[[2]]\n",
    "test  <- splits[[3]]"
   ]
  },
  {
   "cell_type": "markdown",
   "metadata": {},
   "source": [
    "### Build a random forest model "
   ]
  },
  {
   "cell_type": "code",
   "execution_count": 5,
   "metadata": {},
   "outputs": [
    {
     "name": "stdout",
     "output_type": "stream",
     "text": [
      "  |======================================================================| 100%\n"
     ]
    },
    {
     "data": {
      "text/html": [
       "0.930608206816206"
      ],
      "text/latex": [
       "0.930608206816206"
      ],
      "text/markdown": [
       "0.930608206816206"
      ],
      "text/plain": [
       "[1] 0.9306082"
      ]
     },
     "metadata": {},
     "output_type": "display_data"
    },
    {
     "name": "stdout",
     "output_type": "stream",
     "text": [
      "  |======================================================================| 100%\n"
     ]
    }
   ],
   "source": [
    "rf_model <- h2o.randomForest(        \n",
    "      training_frame = train,       \n",
    "      validation_frame = valid,     \n",
    "      x=predictors,                       \n",
    "      y=response,                         \n",
    "      model_id = \"rf_model\",      \n",
    "      ntrees = 200,                 \n",
    "      max_depth = 30,               \n",
    "      stopping_rounds = 2,          \n",
    "      stopping_tolerance = 1e-2,    \n",
    "      score_each_iteration = T,     \n",
    "      seed=1234)                 \n",
    "\n",
    "\n",
    "\n",
    "## Get the AUC on the validation set\n",
    "h2o.auc(h2o.performance(rf_model, newdata = valid)) \n",
    "\n",
    "Rf_predictions<-h2o.predict(object = rf_model,newdata = valid)\n"
   ]
  },
  {
   "cell_type": "code",
   "execution_count": 10,
   "metadata": {},
   "outputs": [
    {
     "name": "stdout",
     "output_type": "stream",
     "text": [
      "  |======================================================================| 100%\n"
     ]
    },
    {
     "data": {
      "text/plain": [
       "H2O Grid Details\n",
       "================\n",
       "\n",
       "Grid ID: rf_grid \n",
       "Used hyper parameters: \n",
       "  -  max_depth \n",
       "  -  ntrees \n",
       "Number of models: 20 \n",
       "Number of failed models: 0 \n",
       "\n",
       "Hyper-Parameter Search Summary: ordered by increasing logloss\n",
       "   max_depth ntrees        model_ids               logloss\n",
       "1          8    500 rf_grid_model_10 0.0034990039653087722\n",
       "2          8    900 rf_grid_model_18 0.0034990039653087722\n",
       "3          8    700 rf_grid_model_14 0.0034990039653087722\n",
       "4          8    300  rf_grid_model_6  0.003502550559858588\n",
       "5         11    100  rf_grid_model_3  0.003523577488917962\n",
       "6         11    900 rf_grid_model_19 0.0035435883958802273\n",
       "7         11    500 rf_grid_model_11 0.0035435883958802273\n",
       "8         11    700 rf_grid_model_15 0.0035435883958802273\n",
       "9         11    300  rf_grid_model_7 0.0035435883958802273\n",
       "10         8    100  rf_grid_model_2  0.003572975067744199\n",
       "11         5    300  rf_grid_model_5 0.0037900850733852513\n",
       "12         5    900 rf_grid_model_17 0.0037900850733852513\n",
       "13         5    500  rf_grid_model_9 0.0037900850733852513\n",
       "14         5    700 rf_grid_model_13 0.0037900850733852513\n",
       "15         5    100  rf_grid_model_1 0.0037948252928585564\n",
       "16         2    100  rf_grid_model_0  0.004764593011869556\n",
       "17         2    500  rf_grid_model_8  0.004816171047436966\n",
       "18         2    700 rf_grid_model_12  0.004816171047436966\n",
       "19         2    300  rf_grid_model_4  0.004816171047436966\n",
       "20         2    900 rf_grid_model_16  0.004816171047436966"
      ]
     },
     "metadata": {},
     "output_type": "display_data"
    }
   ],
   "source": [
    "hyper_params = list( ntrees = seq(100,1000,200), \n",
    "                    max_depth=seq(2,12,3)   )\n",
    "\n",
    "grid <- h2o.grid(\n",
    "  hyper_params = hyper_params,\n",
    "  \n",
    "  search_criteria = list(strategy = \"Cartesian\"),\n",
    "  \n",
    "  algorithm=\"randomForest\",\n",
    "  \n",
    "  grid_id=\"rf_grid\",\n",
    "  \n",
    "  # Below are is the same as h2o.gbm()\n",
    "  x = predictors, \n",
    "  y = response, \n",
    "  training_frame = train, \n",
    "  validation_frame = valid,\n",
    "  seed = 1234,                                                             \n",
    "  stopping_rounds = 5,\n",
    "  stopping_tolerance = 1e-4,\n",
    "  stopping_metric = \"AUC\", \n",
    "  score_tree_interval = 10       \n",
    ")\n",
    "\n",
    "grid        "
   ]
  },
  {
   "cell_type": "code",
   "execution_count": 11,
   "metadata": {},
   "outputs": [
    {
     "name": "stdout",
     "output_type": "stream",
     "text": [
      "H2O Grid Details\n",
      "================\n",
      "\n",
      "Grid ID: rf_grid \n",
      "Used hyper parameters: \n",
      "  -  max_depth \n",
      "  -  ntrees \n",
      "Number of models: 20 \n",
      "Number of failed models: 0 \n",
      "\n",
      "Hyper-Parameter Search Summary: ordered by decreasing auc\n",
      "   max_depth ntrees        model_ids                auc\n",
      "1         11    100  rf_grid_model_3 0.9911282197744096\n",
      "2         11    900 rf_grid_model_19 0.9884858969959844\n",
      "3         11    500 rf_grid_model_11 0.9884858969959844\n",
      "4         11    700 rf_grid_model_15 0.9884858969959844\n",
      "5         11    300  rf_grid_model_7 0.9884858969959844\n",
      "6          8    500 rf_grid_model_10 0.9879157223684473\n",
      "7          8    900 rf_grid_model_18 0.9879157223684473\n",
      "8          8    700 rf_grid_model_14 0.9879157223684473\n",
      "9          8    300  rf_grid_model_6 0.9874157494217778\n",
      "10         5    300  rf_grid_model_5 0.9833659685537564\n",
      "11         5    900 rf_grid_model_17 0.9833659685537564\n",
      "12         5    500  rf_grid_model_9 0.9833659685537564\n",
      "13         5    700 rf_grid_model_13 0.9833659685537564\n",
      "14         8    100  rf_grid_model_2 0.9773810184243455\n",
      "15         5    100  rf_grid_model_1 0.9770159696838321\n",
      "16         2    100  rf_grid_model_0 0.9665596861539684\n",
      "17         2    500  rf_grid_model_8 0.9653008501594776\n",
      "18         2    700 rf_grid_model_12 0.9653008501594776\n",
      "19         2    300  rf_grid_model_4 0.9653008501594776\n",
      "20         2    900 rf_grid_model_16 0.9653008501594776\n"
     ]
    }
   ],
   "source": [
    "## sort the grid models by decreasing AUC\n",
    "sortedGrid <- h2o.getGrid(\"rf_grid\", sort_by=\"auc\", decreasing = TRUE)    \n",
    "print(sortedGrid)"
   ]
  },
  {
   "cell_type": "markdown",
   "metadata": {},
   "source": [
    "You can print out the top 10 models from the grid search. Below the AUC has increased to 0.96."
   ]
  },
  {
   "cell_type": "code",
   "execution_count": 12,
   "metadata": {},
   "outputs": [
    {
     "name": "stdout",
     "output_type": "stream",
     "text": [
      "[1] 0.9911282\n",
      "[1] 0.9884859\n",
      "[1] 0.9884859\n",
      "[1] 0.9884859\n",
      "[1] 0.9884859\n",
      "[1] 0.9879157\n",
      "[1] 0.9879157\n",
      "[1] 0.9879157\n",
      "[1] 0.9874157\n",
      "[1] 0.983366\n"
     ]
    }
   ],
   "source": [
    "for (i in 1:10) {\n",
    "  topModels <- h2o.getModel(sortedGrid@model_ids[[i]])\n",
    "  print(h2o.auc(h2o.performance(topModels, valid = TRUE)))\n",
    "}"
   ]
  },
  {
   "cell_type": "markdown",
   "metadata": {},
   "source": [
    "You can also understand the details of the best model."
   ]
  },
  {
   "cell_type": "code",
   "execution_count": 13,
   "metadata": {},
   "outputs": [
    {
     "name": "stdout",
     "output_type": "stream",
     "text": [
      "Model Details:\n",
      "==============\n",
      "\n",
      "H2OBinomialModel: drf\n",
      "Model Key:  rf_grid_model_3 \n",
      "Model Summary: \n",
      "  number_of_trees number_of_internal_trees model_size_in_bytes min_depth\n",
      "1             100                      100               41703         5\n",
      "  max_depth mean_depth min_leaves max_leaves mean_leaves\n",
      "1        11   10.56000          9         41    28.16000\n",
      "\n",
      "H2OBinomialMetrics: drf\n",
      "** Reported on training data. **\n",
      "** Metrics reported on Out-Of-Bag training samples **\n",
      "\n",
      "MSE:  0.0004903668\n",
      "RMSE:  0.02214423\n",
      "LogLoss:  0.005157531\n",
      "Mean Per-Class Error:  0.09770172\n",
      "AUC:  0.9587112\n",
      "Gini:  0.9174225\n",
      "\n",
      "Confusion Matrix (vertical: actual; across: predicted) for F1-optimal threshold:\n",
      "           0  1    Error       Rate\n",
      "0      28412  8 0.000281   =8/28420\n",
      "1          8 33 0.195122      =8/41\n",
      "Totals 28420 41 0.000562  =16/28461\n",
      "\n",
      "Maximum Metrics: Maximum metrics at their respective thresholds\n",
      "                        metric threshold    value idx\n",
      "1                       max f1  0.323529 0.804878  38\n",
      "2                       max f2  0.131002 0.810185  49\n",
      "3                 max f0point5  0.525000 0.872483  24\n",
      "4                 max accuracy  0.525000 0.999438  24\n",
      "5                max precision  1.000000 1.000000   0\n",
      "6                   max recall  0.000000 1.000000 399\n",
      "7              max specificity  1.000000 1.000000   0\n",
      "8             max absolute_mcc  0.323529 0.804597  38\n",
      "9   max min_per_class_accuracy  0.035156 0.926829 101\n",
      "10 max mean_per_class_accuracy  0.035156 0.962007 101\n",
      "\n",
      "Gains/Lift Table: Extract with `h2o.gainsLift(<model>, <data>)` or `h2o.gainsLift(<model>, valid=<T/F>, xval=<T/F>)`\n",
      "H2OBinomialMetrics: drf\n",
      "** Reported on validation data. **\n",
      "\n",
      "MSE:  0.0007326519\n",
      "RMSE:  0.02706754\n",
      "LogLoss:  0.003523577\n",
      "Mean Per-Class Error:  0.1178741\n",
      "AUC:  0.9911282\n",
      "Gini:  0.9822564\n",
      "\n",
      "Confusion Matrix (vertical: actual; across: predicted) for F1-optimal threshold:\n",
      "           0  1    Error       Rate\n",
      "0      28616 13 0.000454  =13/28629\n",
      "1         12 39 0.235294     =12/51\n",
      "Totals 28628 52 0.000872  =25/28680\n",
      "\n",
      "Maximum Metrics: Maximum metrics at their respective thresholds\n",
      "                        metric threshold    value idx\n",
      "1                       max f1  0.285000 0.757282  36\n",
      "2                       max f2  0.165603 0.782443  42\n",
      "3                 max f0point5  0.641250 0.772947  25\n",
      "4                 max accuracy  0.530000 0.999128  29\n",
      "5                max precision  1.000000 1.000000   0\n",
      "6                   max recall  0.000017 1.000000 396\n",
      "7              max specificity  1.000000 1.000000   0\n",
      "8             max absolute_mcc  0.285000 0.756881  36\n",
      "9   max min_per_class_accuracy  0.000244 0.943728 363\n",
      "10 max mean_per_class_accuracy  0.005144 0.961018 225\n",
      "\n",
      "Gains/Lift Table: Extract with `h2o.gainsLift(<model>, <data>)` or `h2o.gainsLift(<model>, valid=<T/F>, xval=<T/F>)`\n",
      "\n",
      "\n",
      "Scoring History: \n",
      "             timestamp   duration number_of_trees training_rmse\n",
      "1  2018-04-30 19:28:57 12.066 sec               0              \n",
      "2  2018-04-30 19:28:57 12.247 sec              10       0.02647\n",
      "3  2018-04-30 19:28:57 12.462 sec              20       0.02475\n",
      "4  2018-04-30 19:28:58 12.806 sec              30       0.02346\n",
      "5  2018-04-30 19:28:58 13.095 sec              40       0.02276\n",
      "6  2018-04-30 19:28:58 13.405 sec              50       0.02278\n",
      "7  2018-04-30 19:28:59 13.791 sec              60       0.02261\n",
      "8  2018-04-30 19:28:59 14.190 sec              70       0.02226\n",
      "9  2018-04-30 19:29:00 14.648 sec              80       0.02225\n",
      "10 2018-04-30 19:29:00 15.166 sec              90       0.02215\n",
      "11 2018-04-30 19:29:01 15.706 sec             100       0.02214\n",
      "   training_logloss training_auc training_lift training_classification_error\n",
      "1                                                                           \n",
      "2           0.01342      0.89930       1.00000                       0.00067\n",
      "3           0.00990      0.91195      82.81335                       0.00060\n",
      "4           0.00860      0.92451      84.06912                       0.00053\n",
      "5           0.00853      0.92373      85.24904                       0.00049\n",
      "6           0.00853      0.92344      85.24904                       0.00049\n",
      "7           0.00650      0.94729      87.37813                       0.00053\n",
      "8           0.00520      0.96026      92.23247                       0.00049\n",
      "9           0.00520      0.95997      92.55610                       0.00060\n",
      "10          0.00521      0.95909      90.12041                       0.00056\n",
      "11          0.00516      0.95871      92.55610                       0.00056\n",
      "   validation_rmse validation_logloss validation_auc validation_lift\n",
      "1                                                                   \n",
      "2          0.02803            0.01040        0.93009        79.05281\n",
      "3          0.02782            0.00849        0.94586        84.44891\n",
      "4          0.02744            0.00736        0.95596        85.49285\n",
      "5          0.02747            0.00656        0.96369        79.32878\n",
      "6          0.02711            0.00558        0.97321        71.08394\n",
      "7          0.02719            0.00562        0.97142        64.06552\n",
      "8          0.02710            0.00376        0.98981        55.51123\n",
      "9          0.02706            0.00358        0.99118        85.20499\n",
      "10         0.02702            0.00360        0.99075        88.17381\n",
      "11         0.02707            0.00352        0.99113        88.17381\n",
      "   validation_classification_error\n",
      "1                                 \n",
      "2                          0.00094\n",
      "3                          0.00091\n",
      "4                          0.00091\n",
      "5                          0.00084\n",
      "6                          0.00084\n",
      "7                          0.00084\n",
      "8                          0.00087\n",
      "9                          0.00091\n",
      "10                         0.00091\n",
      "11                         0.00087\n",
      "\n",
      "Variable Importances: (Extract with `h2o.varimp`) \n",
      "=================================================\n",
      "\n",
      "Variable Importances: \n",
      "  variable relative_importance scaled_importance percentage\n",
      "1      V17          521.512390          1.000000   0.173694\n",
      "2      V14          437.298370          0.838520   0.145646\n",
      "3      V12          404.891174          0.776379   0.134853\n",
      "4      V16          258.844482          0.496334   0.086210\n",
      "5      V11          216.997559          0.416093   0.072273\n",
      "\n",
      "---\n",
      "   variable relative_importance scaled_importance percentage\n",
      "24      V22           22.953854          0.044014   0.007645\n",
      "25      V20           21.189018          0.040630   0.007057\n",
      "26      V27           20.276201          0.038880   0.006753\n",
      "27      V23           12.374088          0.023727   0.004121\n",
      "28      V28           11.225427          0.021525   0.003739\n",
      "29   Amount            5.705177          0.010940   0.001900\n"
     ]
    }
   ],
   "source": [
    "best_model <- h2o.getModel(sortedGrid@model_ids[[1]])\n",
    "summary(best_model)\n",
    "\n",
    "scoring_history <- as.data.frame(best_model@model$scoring_history)\n",
    "#plot(scoring_history$number_of_trees, scoring_history$training_MSE, type=\"p\") #training mse\n",
    "#points(scoring_history$number_of_trees, scoring_history$validation_MSE, type=\"l\") #validation mse\n",
    "\n",
    "## get the actual number of trees\n",
    "ntrees <- best_model@model$model_summary$number_of_trees"
   ]
  },
  {
   "cell_type": "code",
   "execution_count": 40,
   "metadata": {},
   "outputs": [],
   "source": [
    "# All done. Shut down H2O.\n",
    "h2o.shutdown(prompt=FALSE)"
   ]
  }
 ],
 "metadata": {
  "kernelspec": {
   "display_name": "R",
   "language": "R",
   "name": "ir"
  },
  "language_info": {
   "codemirror_mode": "r",
   "file_extension": ".r",
   "mimetype": "text/x-r-source",
   "name": "R",
   "pygments_lexer": "r",
   "version": "3.4.3"
  }
 },
 "nbformat": 4,
 "nbformat_minor": 2
}
