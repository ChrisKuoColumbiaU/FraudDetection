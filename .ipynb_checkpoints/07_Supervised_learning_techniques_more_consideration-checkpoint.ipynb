{
 "cells": [
  {
   "cell_type": "markdown",
   "metadata": {},
   "source": [
    "\n",
    "\n",
    "## How to measure the savings?\n",
    "The cost of a fraud is not easy to define. Usually it is equal to the amount of money saved. That being said, frauds of any sizes should be treated with equal scrutiny. This is beause fraudsters typically test the detection system with a small amount and then replicate with a large amount. On the other side, the cost should also include the false positives. When a transaction is denied, the investigators have to contact with the account holder to verify if it is a false alert or a real fraud. If there is a high false positive rate, the implied cost increases as well.\n",
    "\n",
    "\n",
    "## How to update the model with new data stream?\n",
    "New data arrive every second or every day. How do we take the advantage of new data stream? This will determine related questions such as \"is it enough to train a model once a month?\" or \"is it necessary to refresh the model on a daily basis?\"\n",
    "\n",
    "[Dal Pozzolo et al. (2014)](http://www.sciencedirect.com/science/article/pii/S095741741400089X) summarized the two general approaches. The most conventional way to deal with data stream is to adopt the <b>static approach</b>. In the following Figure, credited to Dal Pozzolo et al., data arrive as chunks at time t-2, t-1, ..., t+6. The conventional way is to use the data of past few chunks to train the model in order to predict future chunks. \n",
    "\n",
    "<img src=\"images/static approach.png\" alt=\"Drawing\" style=\"width: 500px;\"/>\n",
    "\n",
    "However, data distribution can change over time. It is important to learn from new dadta while keeping the existing knowledge from past data. Even, the model should be able to learn the new fraud distrubtions, and \"forget\" outdated knowledge. The <b>incremental approach</b> trains a model for data chunk t-3, a model for data chunk t-2 and so on, then applies the ensemble techniquie to get the ensemble model in order to predict data chunk t+1.\n",
    "\n",
    "<img src=\"images/update forgetting genuine approach.png\" alt=\"Drawing\" style=\"width: 500px;\"/>\n",
    "\n",
    "It is important to set the rate of forgettting in order to match the rate of change in the underlying distribution. A simple way is to use a fixed window of recent observations to retrain the model. \n",
    "\n",
    "## Continue to search for new patterns\n",
    "The above strategies can capture new patterns to some extent. However, new patterns can emerge that require the creativity of feature engineering. New patterns can not be detected without relentless effort to find new features. \n",
    "\n",
    "## References\n",
    "\n",
    "<a name=\"Dal_Pozzolo\"></a>\n",
    "Dal Pozzolo, A., Caelen, O., Le Borgne, Y.-A., Waterschoot, S., & Bontempi, G. (2014).\n",
    "Learned lessons in credit card fraud detection from a practitioner perspective.\n",
    "Expert Systems with Applications, 41(10), 4915–4928. doi:10.1016/j.eswa.2014.02.\n",
    "026."
   ]
  }
 ],
 "metadata": {
  "kernelspec": {
   "display_name": "Python 3",
   "language": "python",
   "name": "python3"
  },
  "language_info": {
   "codemirror_mode": {
    "name": "ipython",
    "version": 3
   },
   "file_extension": ".py",
   "mimetype": "text/x-python",
   "name": "python",
   "nbconvert_exporter": "python",
   "pygments_lexer": "ipython3",
   "version": "3.6.3"
  }
 },
 "nbformat": 4,
 "nbformat_minor": 2
}
